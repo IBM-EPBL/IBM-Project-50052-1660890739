{
  "cells": [
    {
      "cell_type": "markdown",
      "source": [
        "**Team Id: PNT2022TMID03384**            \n",
        "## Visualizing and Predicting Heart Diseases with an Interactive Dashboard                    \n",
        "                                          Heart Disease Prediction using Machine Learning Approach"
      ],
      "metadata": {
        "id": "75KTKNrbxmOu"
      },
      "id": "75KTKNrbxmOu"
    },
    {
      "cell_type": "markdown",
      "source": [
        "Heart disease is a general term that includes many types of heart problems. It's also called cardiovascular disease, which means heart and blood vessel disease.\n",
        "\n",
        "Heart disease is the leading cause of death in the United States, but there are ways to prevent and manage many types of heart disease when caught early.\n",
        "\n",
        "Dataset used: https://www.kaggle.com/datasets/rishidamarla/heart-disease-prediction"
      ],
      "metadata": {
        "id": "KAZxVtTpx8OO"
      },
      "id": "KAZxVtTpx8OO"
    },
    {
      "cell_type": "code",
      "execution_count": null,
      "id": "d4c40647",
      "metadata": {
        "_cell_guid": "b1076dfc-b9ad-4769-8c92-a6c4dae69d19",
        "_uuid": "8f2839f25d086af736a60e9eeb907d3b93b6e0e5",
        "execution": {
          "iopub.execute_input": "2022-09-16T11:22:52.672785Z",
          "iopub.status.busy": "2022-09-16T11:22:52.672001Z",
          "iopub.status.idle": "2022-09-16T11:22:53.683093Z",
          "shell.execute_reply": "2022-09-16T11:22:53.682087Z"
        },
        "papermill": {
          "duration": 1.033851,
          "end_time": "2022-09-16T11:22:53.685881",
          "exception": false,
          "start_time": "2022-09-16T11:22:52.652030",
          "status": "completed"
        },
        "tags": [],
        "id": "d4c40647"
      },
      "outputs": [],
      "source": [
        "import pandas as pd\n",
        "import numpy as np\n",
        "import matplotlib.pyplot as plt\n",
        "import seaborn as sns"
      ]
    },
    {
      "cell_type": "markdown",
      "id": "61b0039b",
      "metadata": {
        "papermill": {
          "duration": 0.016452,
          "end_time": "2022-09-16T11:22:53.721558",
          "exception": false,
          "start_time": "2022-09-16T11:22:53.705106",
          "status": "completed"
        },
        "tags": [],
        "id": "61b0039b"
      },
      "source": [
        "About Dataset:\n",
        "\n",
        "\n",
        "\n",
        "1.   Age: in years\n",
        "2.   Sex: 1 = male; 0 = female\n",
        "3.   Chest pain type:\n",
        "\n",
        "      Value 1: typical angina\n",
        "\n",
        "      Value 2: atypical angina\n",
        "\n",
        "      Value 3: non-anginal pain\n",
        "\n",
        "      Value 4: asymptomatic\n",
        "4.   BP:   resting blood pressure (in mm Hg on admission to the hospital)\n",
        "5.   Cholesterol : serum cholestoral in mg/dl\n",
        "6.   FBS: fasting blood sugar > 120 mg/dl (1 = true; 0 = false)\n",
        "7.   EKG results: resting electrocardiographic results\n",
        "\n",
        "      Value 0: normal\n",
        "\n",
        "      Value 1: aving ST-T wave abnormality (T wave inversions and/or ST elevation or depression of > 0.05 mV)\n",
        "\n",
        "      Value 2: showing probable or definite left ventricular hypertrophy by Estes' criteria\n",
        "\n",
        "8.   MAx HR: maximum heart rate achieved\n",
        "9.   Excercise angina: exercise induced angina (1 = yes; 0 = no)\n",
        "10.  Slope of ST: oldpeak = ST depression induced by exercise relative to rest\n",
        "11.  Number of vessels fluro: number of major vessels (0-3) colored by flourosopy\n",
        "12.  Thallium: 3 = normal; 6 = fixed defect; 7 = reversable defect"
      ]
    },
    {
      "cell_type": "markdown",
      "source": [
        "***Data Loading***"
      ],
      "metadata": {
        "id": "vkHykh5fMDfz"
      },
      "id": "vkHykh5fMDfz"
    },
    {
      "cell_type": "code",
      "execution_count": null,
      "id": "f4658aff",
      "metadata": {
        "execution": {
          "iopub.execute_input": "2022-09-16T11:22:53.756885Z",
          "iopub.status.busy": "2022-09-16T11:22:53.756451Z",
          "iopub.status.idle": "2022-09-16T11:22:53.801943Z",
          "shell.execute_reply": "2022-09-16T11:22:53.800822Z"
        },
        "papermill": {
          "duration": 0.067074,
          "end_time": "2022-09-16T11:22:53.805260",
          "exception": false,
          "start_time": "2022-09-16T11:22:53.738186",
          "status": "completed"
        },
        "tags": [],
        "colab": {
          "base_uri": "https://localhost:8080/",
          "height": 322
        },
        "id": "f4658aff",
        "outputId": "3acc215b-a17f-47ba-a030-e71a0c27ce4e"
      },
      "outputs": [
        {
          "output_type": "execute_result",
          "data": {
            "text/plain": [
              "   Age  Sex  Chest pain type   BP  Cholesterol  FBS over 120  EKG results  \\\n",
              "0   70    1                4  130          322             0            2   \n",
              "1   67    0                3  115          564             0            2   \n",
              "2   57    1                2  124          261             0            0   \n",
              "3   64    1                4  128          263             0            0   \n",
              "4   74    0                2  120          269             0            2   \n",
              "\n",
              "   Max HR  Exercise angina  ST depression  Slope of ST  \\\n",
              "0     109                0            2.4            2   \n",
              "1     160                0            1.6            2   \n",
              "2     141                0            0.3            1   \n",
              "3     105                1            0.2            2   \n",
              "4     121                1            0.2            1   \n",
              "\n",
              "   Number of vessels fluro  Thallium Heart Disease  \n",
              "0                        3         3      Presence  \n",
              "1                        0         7       Absence  \n",
              "2                        0         7      Presence  \n",
              "3                        1         7       Absence  \n",
              "4                        1         3       Absence  "
            ],
            "text/html": [
              "\n",
              "  <div id=\"df-01b161e2-b0cd-4a72-b7d6-ee7fec15a6ab\">\n",
              "    <div class=\"colab-df-container\">\n",
              "      <div>\n",
              "<style scoped>\n",
              "    .dataframe tbody tr th:only-of-type {\n",
              "        vertical-align: middle;\n",
              "    }\n",
              "\n",
              "    .dataframe tbody tr th {\n",
              "        vertical-align: top;\n",
              "    }\n",
              "\n",
              "    .dataframe thead th {\n",
              "        text-align: right;\n",
              "    }\n",
              "</style>\n",
              "<table border=\"1\" class=\"dataframe\">\n",
              "  <thead>\n",
              "    <tr style=\"text-align: right;\">\n",
              "      <th></th>\n",
              "      <th>Age</th>\n",
              "      <th>Sex</th>\n",
              "      <th>Chest pain type</th>\n",
              "      <th>BP</th>\n",
              "      <th>Cholesterol</th>\n",
              "      <th>FBS over 120</th>\n",
              "      <th>EKG results</th>\n",
              "      <th>Max HR</th>\n",
              "      <th>Exercise angina</th>\n",
              "      <th>ST depression</th>\n",
              "      <th>Slope of ST</th>\n",
              "      <th>Number of vessels fluro</th>\n",
              "      <th>Thallium</th>\n",
              "      <th>Heart Disease</th>\n",
              "    </tr>\n",
              "  </thead>\n",
              "  <tbody>\n",
              "    <tr>\n",
              "      <th>0</th>\n",
              "      <td>70</td>\n",
              "      <td>1</td>\n",
              "      <td>4</td>\n",
              "      <td>130</td>\n",
              "      <td>322</td>\n",
              "      <td>0</td>\n",
              "      <td>2</td>\n",
              "      <td>109</td>\n",
              "      <td>0</td>\n",
              "      <td>2.4</td>\n",
              "      <td>2</td>\n",
              "      <td>3</td>\n",
              "      <td>3</td>\n",
              "      <td>Presence</td>\n",
              "    </tr>\n",
              "    <tr>\n",
              "      <th>1</th>\n",
              "      <td>67</td>\n",
              "      <td>0</td>\n",
              "      <td>3</td>\n",
              "      <td>115</td>\n",
              "      <td>564</td>\n",
              "      <td>0</td>\n",
              "      <td>2</td>\n",
              "      <td>160</td>\n",
              "      <td>0</td>\n",
              "      <td>1.6</td>\n",
              "      <td>2</td>\n",
              "      <td>0</td>\n",
              "      <td>7</td>\n",
              "      <td>Absence</td>\n",
              "    </tr>\n",
              "    <tr>\n",
              "      <th>2</th>\n",
              "      <td>57</td>\n",
              "      <td>1</td>\n",
              "      <td>2</td>\n",
              "      <td>124</td>\n",
              "      <td>261</td>\n",
              "      <td>0</td>\n",
              "      <td>0</td>\n",
              "      <td>141</td>\n",
              "      <td>0</td>\n",
              "      <td>0.3</td>\n",
              "      <td>1</td>\n",
              "      <td>0</td>\n",
              "      <td>7</td>\n",
              "      <td>Presence</td>\n",
              "    </tr>\n",
              "    <tr>\n",
              "      <th>3</th>\n",
              "      <td>64</td>\n",
              "      <td>1</td>\n",
              "      <td>4</td>\n",
              "      <td>128</td>\n",
              "      <td>263</td>\n",
              "      <td>0</td>\n",
              "      <td>0</td>\n",
              "      <td>105</td>\n",
              "      <td>1</td>\n",
              "      <td>0.2</td>\n",
              "      <td>2</td>\n",
              "      <td>1</td>\n",
              "      <td>7</td>\n",
              "      <td>Absence</td>\n",
              "    </tr>\n",
              "    <tr>\n",
              "      <th>4</th>\n",
              "      <td>74</td>\n",
              "      <td>0</td>\n",
              "      <td>2</td>\n",
              "      <td>120</td>\n",
              "      <td>269</td>\n",
              "      <td>0</td>\n",
              "      <td>2</td>\n",
              "      <td>121</td>\n",
              "      <td>1</td>\n",
              "      <td>0.2</td>\n",
              "      <td>1</td>\n",
              "      <td>1</td>\n",
              "      <td>3</td>\n",
              "      <td>Absence</td>\n",
              "    </tr>\n",
              "  </tbody>\n",
              "</table>\n",
              "</div>\n",
              "      <button class=\"colab-df-convert\" onclick=\"convertToInteractive('df-01b161e2-b0cd-4a72-b7d6-ee7fec15a6ab')\"\n",
              "              title=\"Convert this dataframe to an interactive table.\"\n",
              "              style=\"display:none;\">\n",
              "        \n",
              "  <svg xmlns=\"http://www.w3.org/2000/svg\" height=\"24px\"viewBox=\"0 0 24 24\"\n",
              "       width=\"24px\">\n",
              "    <path d=\"M0 0h24v24H0V0z\" fill=\"none\"/>\n",
              "    <path d=\"M18.56 5.44l.94 2.06.94-2.06 2.06-.94-2.06-.94-.94-2.06-.94 2.06-2.06.94zm-11 1L8.5 8.5l.94-2.06 2.06-.94-2.06-.94L8.5 2.5l-.94 2.06-2.06.94zm10 10l.94 2.06.94-2.06 2.06-.94-2.06-.94-.94-2.06-.94 2.06-2.06.94z\"/><path d=\"M17.41 7.96l-1.37-1.37c-.4-.4-.92-.59-1.43-.59-.52 0-1.04.2-1.43.59L10.3 9.45l-7.72 7.72c-.78.78-.78 2.05 0 2.83L4 21.41c.39.39.9.59 1.41.59.51 0 1.02-.2 1.41-.59l7.78-7.78 2.81-2.81c.8-.78.8-2.07 0-2.86zM5.41 20L4 18.59l7.72-7.72 1.47 1.35L5.41 20z\"/>\n",
              "  </svg>\n",
              "      </button>\n",
              "      \n",
              "  <style>\n",
              "    .colab-df-container {\n",
              "      display:flex;\n",
              "      flex-wrap:wrap;\n",
              "      gap: 12px;\n",
              "    }\n",
              "\n",
              "    .colab-df-convert {\n",
              "      background-color: #E8F0FE;\n",
              "      border: none;\n",
              "      border-radius: 50%;\n",
              "      cursor: pointer;\n",
              "      display: none;\n",
              "      fill: #1967D2;\n",
              "      height: 32px;\n",
              "      padding: 0 0 0 0;\n",
              "      width: 32px;\n",
              "    }\n",
              "\n",
              "    .colab-df-convert:hover {\n",
              "      background-color: #E2EBFA;\n",
              "      box-shadow: 0px 1px 2px rgba(60, 64, 67, 0.3), 0px 1px 3px 1px rgba(60, 64, 67, 0.15);\n",
              "      fill: #174EA6;\n",
              "    }\n",
              "\n",
              "    [theme=dark] .colab-df-convert {\n",
              "      background-color: #3B4455;\n",
              "      fill: #D2E3FC;\n",
              "    }\n",
              "\n",
              "    [theme=dark] .colab-df-convert:hover {\n",
              "      background-color: #434B5C;\n",
              "      box-shadow: 0px 1px 3px 1px rgba(0, 0, 0, 0.15);\n",
              "      filter: drop-shadow(0px 1px 2px rgba(0, 0, 0, 0.3));\n",
              "      fill: #FFFFFF;\n",
              "    }\n",
              "  </style>\n",
              "\n",
              "      <script>\n",
              "        const buttonEl =\n",
              "          document.querySelector('#df-01b161e2-b0cd-4a72-b7d6-ee7fec15a6ab button.colab-df-convert');\n",
              "        buttonEl.style.display =\n",
              "          google.colab.kernel.accessAllowed ? 'block' : 'none';\n",
              "\n",
              "        async function convertToInteractive(key) {\n",
              "          const element = document.querySelector('#df-01b161e2-b0cd-4a72-b7d6-ee7fec15a6ab');\n",
              "          const dataTable =\n",
              "            await google.colab.kernel.invokeFunction('convertToInteractive',\n",
              "                                                     [key], {});\n",
              "          if (!dataTable) return;\n",
              "\n",
              "          const docLinkHtml = 'Like what you see? Visit the ' +\n",
              "            '<a target=\"_blank\" href=https://colab.research.google.com/notebooks/data_table.ipynb>data table notebook</a>'\n",
              "            + ' to learn more about interactive tables.';\n",
              "          element.innerHTML = '';\n",
              "          dataTable['output_type'] = 'display_data';\n",
              "          await google.colab.output.renderOutput(dataTable, element);\n",
              "          const docLink = document.createElement('div');\n",
              "          docLink.innerHTML = docLinkHtml;\n",
              "          element.appendChild(docLink);\n",
              "        }\n",
              "      </script>\n",
              "    </div>\n",
              "  </div>\n",
              "  "
            ]
          },
          "metadata": {},
          "execution_count": 2
        }
      ],
      "source": [
        "df = pd.read_csv('Heart_Disease_Prediction.csv')\n",
        "df.head()"
      ]
    },
    {
      "cell_type": "code",
      "execution_count": null,
      "id": "d4a1e841",
      "metadata": {
        "execution": {
          "iopub.execute_input": "2022-09-16T11:22:53.841715Z",
          "iopub.status.busy": "2022-09-16T11:22:53.841267Z",
          "iopub.status.idle": "2022-09-16T11:22:53.899939Z",
          "shell.execute_reply": "2022-09-16T11:22:53.898579Z"
        },
        "papermill": {
          "duration": 0.079636,
          "end_time": "2022-09-16T11:22:53.902296",
          "exception": false,
          "start_time": "2022-09-16T11:22:53.822660",
          "status": "completed"
        },
        "tags": [],
        "colab": {
          "base_uri": "https://localhost:8080/",
          "height": 399
        },
        "id": "d4a1e841",
        "outputId": "701d66a5-dec0-4fb9-f838-6b95aaafb71f"
      },
      "outputs": [
        {
          "output_type": "execute_result",
          "data": {
            "text/plain": [
              "              Age         Sex  Chest pain type          BP  Cholesterol  \\\n",
              "count  270.000000  270.000000       270.000000  270.000000   270.000000   \n",
              "mean    54.433333    0.677778         3.174074  131.344444   249.659259   \n",
              "std      9.109067    0.468195         0.950090   17.861608    51.686237   \n",
              "min     29.000000    0.000000         1.000000   94.000000   126.000000   \n",
              "25%     48.000000    0.000000         3.000000  120.000000   213.000000   \n",
              "50%     55.000000    1.000000         3.000000  130.000000   245.000000   \n",
              "75%     61.000000    1.000000         4.000000  140.000000   280.000000   \n",
              "max     77.000000    1.000000         4.000000  200.000000   564.000000   \n",
              "\n",
              "       FBS over 120  EKG results      Max HR  Exercise angina  ST depression  \\\n",
              "count    270.000000   270.000000  270.000000       270.000000      270.00000   \n",
              "mean       0.148148     1.022222  149.677778         0.329630        1.05000   \n",
              "std        0.355906     0.997891   23.165717         0.470952        1.14521   \n",
              "min        0.000000     0.000000   71.000000         0.000000        0.00000   \n",
              "25%        0.000000     0.000000  133.000000         0.000000        0.00000   \n",
              "50%        0.000000     2.000000  153.500000         0.000000        0.80000   \n",
              "75%        0.000000     2.000000  166.000000         1.000000        1.60000   \n",
              "max        1.000000     2.000000  202.000000         1.000000        6.20000   \n",
              "\n",
              "       Slope of ST  Number of vessels fluro    Thallium  \n",
              "count   270.000000               270.000000  270.000000  \n",
              "mean      1.585185                 0.670370    4.696296  \n",
              "std       0.614390                 0.943896    1.940659  \n",
              "min       1.000000                 0.000000    3.000000  \n",
              "25%       1.000000                 0.000000    3.000000  \n",
              "50%       2.000000                 0.000000    3.000000  \n",
              "75%       2.000000                 1.000000    7.000000  \n",
              "max       3.000000                 3.000000    7.000000  "
            ],
            "text/html": [
              "\n",
              "  <div id=\"df-177faa75-a9f4-4149-bd0a-7b5b409d2097\">\n",
              "    <div class=\"colab-df-container\">\n",
              "      <div>\n",
              "<style scoped>\n",
              "    .dataframe tbody tr th:only-of-type {\n",
              "        vertical-align: middle;\n",
              "    }\n",
              "\n",
              "    .dataframe tbody tr th {\n",
              "        vertical-align: top;\n",
              "    }\n",
              "\n",
              "    .dataframe thead th {\n",
              "        text-align: right;\n",
              "    }\n",
              "</style>\n",
              "<table border=\"1\" class=\"dataframe\">\n",
              "  <thead>\n",
              "    <tr style=\"text-align: right;\">\n",
              "      <th></th>\n",
              "      <th>Age</th>\n",
              "      <th>Sex</th>\n",
              "      <th>Chest pain type</th>\n",
              "      <th>BP</th>\n",
              "      <th>Cholesterol</th>\n",
              "      <th>FBS over 120</th>\n",
              "      <th>EKG results</th>\n",
              "      <th>Max HR</th>\n",
              "      <th>Exercise angina</th>\n",
              "      <th>ST depression</th>\n",
              "      <th>Slope of ST</th>\n",
              "      <th>Number of vessels fluro</th>\n",
              "      <th>Thallium</th>\n",
              "    </tr>\n",
              "  </thead>\n",
              "  <tbody>\n",
              "    <tr>\n",
              "      <th>count</th>\n",
              "      <td>270.000000</td>\n",
              "      <td>270.000000</td>\n",
              "      <td>270.000000</td>\n",
              "      <td>270.000000</td>\n",
              "      <td>270.000000</td>\n",
              "      <td>270.000000</td>\n",
              "      <td>270.000000</td>\n",
              "      <td>270.000000</td>\n",
              "      <td>270.000000</td>\n",
              "      <td>270.00000</td>\n",
              "      <td>270.000000</td>\n",
              "      <td>270.000000</td>\n",
              "      <td>270.000000</td>\n",
              "    </tr>\n",
              "    <tr>\n",
              "      <th>mean</th>\n",
              "      <td>54.433333</td>\n",
              "      <td>0.677778</td>\n",
              "      <td>3.174074</td>\n",
              "      <td>131.344444</td>\n",
              "      <td>249.659259</td>\n",
              "      <td>0.148148</td>\n",
              "      <td>1.022222</td>\n",
              "      <td>149.677778</td>\n",
              "      <td>0.329630</td>\n",
              "      <td>1.05000</td>\n",
              "      <td>1.585185</td>\n",
              "      <td>0.670370</td>\n",
              "      <td>4.696296</td>\n",
              "    </tr>\n",
              "    <tr>\n",
              "      <th>std</th>\n",
              "      <td>9.109067</td>\n",
              "      <td>0.468195</td>\n",
              "      <td>0.950090</td>\n",
              "      <td>17.861608</td>\n",
              "      <td>51.686237</td>\n",
              "      <td>0.355906</td>\n",
              "      <td>0.997891</td>\n",
              "      <td>23.165717</td>\n",
              "      <td>0.470952</td>\n",
              "      <td>1.14521</td>\n",
              "      <td>0.614390</td>\n",
              "      <td>0.943896</td>\n",
              "      <td>1.940659</td>\n",
              "    </tr>\n",
              "    <tr>\n",
              "      <th>min</th>\n",
              "      <td>29.000000</td>\n",
              "      <td>0.000000</td>\n",
              "      <td>1.000000</td>\n",
              "      <td>94.000000</td>\n",
              "      <td>126.000000</td>\n",
              "      <td>0.000000</td>\n",
              "      <td>0.000000</td>\n",
              "      <td>71.000000</td>\n",
              "      <td>0.000000</td>\n",
              "      <td>0.00000</td>\n",
              "      <td>1.000000</td>\n",
              "      <td>0.000000</td>\n",
              "      <td>3.000000</td>\n",
              "    </tr>\n",
              "    <tr>\n",
              "      <th>25%</th>\n",
              "      <td>48.000000</td>\n",
              "      <td>0.000000</td>\n",
              "      <td>3.000000</td>\n",
              "      <td>120.000000</td>\n",
              "      <td>213.000000</td>\n",
              "      <td>0.000000</td>\n",
              "      <td>0.000000</td>\n",
              "      <td>133.000000</td>\n",
              "      <td>0.000000</td>\n",
              "      <td>0.00000</td>\n",
              "      <td>1.000000</td>\n",
              "      <td>0.000000</td>\n",
              "      <td>3.000000</td>\n",
              "    </tr>\n",
              "    <tr>\n",
              "      <th>50%</th>\n",
              "      <td>55.000000</td>\n",
              "      <td>1.000000</td>\n",
              "      <td>3.000000</td>\n",
              "      <td>130.000000</td>\n",
              "      <td>245.000000</td>\n",
              "      <td>0.000000</td>\n",
              "      <td>2.000000</td>\n",
              "      <td>153.500000</td>\n",
              "      <td>0.000000</td>\n",
              "      <td>0.80000</td>\n",
              "      <td>2.000000</td>\n",
              "      <td>0.000000</td>\n",
              "      <td>3.000000</td>\n",
              "    </tr>\n",
              "    <tr>\n",
              "      <th>75%</th>\n",
              "      <td>61.000000</td>\n",
              "      <td>1.000000</td>\n",
              "      <td>4.000000</td>\n",
              "      <td>140.000000</td>\n",
              "      <td>280.000000</td>\n",
              "      <td>0.000000</td>\n",
              "      <td>2.000000</td>\n",
              "      <td>166.000000</td>\n",
              "      <td>1.000000</td>\n",
              "      <td>1.60000</td>\n",
              "      <td>2.000000</td>\n",
              "      <td>1.000000</td>\n",
              "      <td>7.000000</td>\n",
              "    </tr>\n",
              "    <tr>\n",
              "      <th>max</th>\n",
              "      <td>77.000000</td>\n",
              "      <td>1.000000</td>\n",
              "      <td>4.000000</td>\n",
              "      <td>200.000000</td>\n",
              "      <td>564.000000</td>\n",
              "      <td>1.000000</td>\n",
              "      <td>2.000000</td>\n",
              "      <td>202.000000</td>\n",
              "      <td>1.000000</td>\n",
              "      <td>6.20000</td>\n",
              "      <td>3.000000</td>\n",
              "      <td>3.000000</td>\n",
              "      <td>7.000000</td>\n",
              "    </tr>\n",
              "  </tbody>\n",
              "</table>\n",
              "</div>\n",
              "      <button class=\"colab-df-convert\" onclick=\"convertToInteractive('df-177faa75-a9f4-4149-bd0a-7b5b409d2097')\"\n",
              "              title=\"Convert this dataframe to an interactive table.\"\n",
              "              style=\"display:none;\">\n",
              "        \n",
              "  <svg xmlns=\"http://www.w3.org/2000/svg\" height=\"24px\"viewBox=\"0 0 24 24\"\n",
              "       width=\"24px\">\n",
              "    <path d=\"M0 0h24v24H0V0z\" fill=\"none\"/>\n",
              "    <path d=\"M18.56 5.44l.94 2.06.94-2.06 2.06-.94-2.06-.94-.94-2.06-.94 2.06-2.06.94zm-11 1L8.5 8.5l.94-2.06 2.06-.94-2.06-.94L8.5 2.5l-.94 2.06-2.06.94zm10 10l.94 2.06.94-2.06 2.06-.94-2.06-.94-.94-2.06-.94 2.06-2.06.94z\"/><path d=\"M17.41 7.96l-1.37-1.37c-.4-.4-.92-.59-1.43-.59-.52 0-1.04.2-1.43.59L10.3 9.45l-7.72 7.72c-.78.78-.78 2.05 0 2.83L4 21.41c.39.39.9.59 1.41.59.51 0 1.02-.2 1.41-.59l7.78-7.78 2.81-2.81c.8-.78.8-2.07 0-2.86zM5.41 20L4 18.59l7.72-7.72 1.47 1.35L5.41 20z\"/>\n",
              "  </svg>\n",
              "      </button>\n",
              "      \n",
              "  <style>\n",
              "    .colab-df-container {\n",
              "      display:flex;\n",
              "      flex-wrap:wrap;\n",
              "      gap: 12px;\n",
              "    }\n",
              "\n",
              "    .colab-df-convert {\n",
              "      background-color: #E8F0FE;\n",
              "      border: none;\n",
              "      border-radius: 50%;\n",
              "      cursor: pointer;\n",
              "      display: none;\n",
              "      fill: #1967D2;\n",
              "      height: 32px;\n",
              "      padding: 0 0 0 0;\n",
              "      width: 32px;\n",
              "    }\n",
              "\n",
              "    .colab-df-convert:hover {\n",
              "      background-color: #E2EBFA;\n",
              "      box-shadow: 0px 1px 2px rgba(60, 64, 67, 0.3), 0px 1px 3px 1px rgba(60, 64, 67, 0.15);\n",
              "      fill: #174EA6;\n",
              "    }\n",
              "\n",
              "    [theme=dark] .colab-df-convert {\n",
              "      background-color: #3B4455;\n",
              "      fill: #D2E3FC;\n",
              "    }\n",
              "\n",
              "    [theme=dark] .colab-df-convert:hover {\n",
              "      background-color: #434B5C;\n",
              "      box-shadow: 0px 1px 3px 1px rgba(0, 0, 0, 0.15);\n",
              "      filter: drop-shadow(0px 1px 2px rgba(0, 0, 0, 0.3));\n",
              "      fill: #FFFFFF;\n",
              "    }\n",
              "  </style>\n",
              "\n",
              "      <script>\n",
              "        const buttonEl =\n",
              "          document.querySelector('#df-177faa75-a9f4-4149-bd0a-7b5b409d2097 button.colab-df-convert');\n",
              "        buttonEl.style.display =\n",
              "          google.colab.kernel.accessAllowed ? 'block' : 'none';\n",
              "\n",
              "        async function convertToInteractive(key) {\n",
              "          const element = document.querySelector('#df-177faa75-a9f4-4149-bd0a-7b5b409d2097');\n",
              "          const dataTable =\n",
              "            await google.colab.kernel.invokeFunction('convertToInteractive',\n",
              "                                                     [key], {});\n",
              "          if (!dataTable) return;\n",
              "\n",
              "          const docLinkHtml = 'Like what you see? Visit the ' +\n",
              "            '<a target=\"_blank\" href=https://colab.research.google.com/notebooks/data_table.ipynb>data table notebook</a>'\n",
              "            + ' to learn more about interactive tables.';\n",
              "          element.innerHTML = '';\n",
              "          dataTable['output_type'] = 'display_data';\n",
              "          await google.colab.output.renderOutput(dataTable, element);\n",
              "          const docLink = document.createElement('div');\n",
              "          docLink.innerHTML = docLinkHtml;\n",
              "          element.appendChild(docLink);\n",
              "        }\n",
              "      </script>\n",
              "    </div>\n",
              "  </div>\n",
              "  "
            ]
          },
          "metadata": {},
          "execution_count": 3
        }
      ],
      "source": [
        "df.describe()"
      ]
    },
    {
      "cell_type": "code",
      "execution_count": null,
      "id": "0b693372",
      "metadata": {
        "execution": {
          "iopub.execute_input": "2022-09-16T11:22:53.938382Z",
          "iopub.status.busy": "2022-09-16T11:22:53.937956Z",
          "iopub.status.idle": "2022-09-16T11:22:53.955573Z",
          "shell.execute_reply": "2022-09-16T11:22:53.954527Z"
        },
        "papermill": {
          "duration": 0.038568,
          "end_time": "2022-09-16T11:22:53.958021",
          "exception": false,
          "start_time": "2022-09-16T11:22:53.919453",
          "status": "completed"
        },
        "tags": [],
        "colab": {
          "base_uri": "https://localhost:8080/"
        },
        "id": "0b693372",
        "outputId": "23fc0210-e468-4fb8-bd73-2058404ff0e1"
      },
      "outputs": [
        {
          "output_type": "stream",
          "name": "stdout",
          "text": [
            "<class 'pandas.core.frame.DataFrame'>\n",
            "RangeIndex: 270 entries, 0 to 269\n",
            "Data columns (total 14 columns):\n",
            " #   Column                   Non-Null Count  Dtype  \n",
            "---  ------                   --------------  -----  \n",
            " 0   Age                      270 non-null    int64  \n",
            " 1   Sex                      270 non-null    int64  \n",
            " 2   Chest pain type          270 non-null    int64  \n",
            " 3   BP                       270 non-null    int64  \n",
            " 4   Cholesterol              270 non-null    int64  \n",
            " 5   FBS over 120             270 non-null    int64  \n",
            " 6   EKG results              270 non-null    int64  \n",
            " 7   Max HR                   270 non-null    int64  \n",
            " 8   Exercise angina          270 non-null    int64  \n",
            " 9   ST depression            270 non-null    float64\n",
            " 10  Slope of ST              270 non-null    int64  \n",
            " 11  Number of vessels fluro  270 non-null    int64  \n",
            " 12  Thallium                 270 non-null    int64  \n",
            " 13  Heart Disease            270 non-null    object \n",
            "dtypes: float64(1), int64(12), object(1)\n",
            "memory usage: 29.7+ KB\n"
          ]
        }
      ],
      "source": [
        "df.info()"
      ]
    },
    {
      "cell_type": "code",
      "execution_count": null,
      "id": "6ead36ff",
      "metadata": {
        "execution": {
          "iopub.execute_input": "2022-09-16T11:22:53.994204Z",
          "iopub.status.busy": "2022-09-16T11:22:53.993777Z",
          "iopub.status.idle": "2022-09-16T11:22:54.001786Z",
          "shell.execute_reply": "2022-09-16T11:22:54.000489Z"
        },
        "papermill": {
          "duration": 0.028893,
          "end_time": "2022-09-16T11:22:54.004304",
          "exception": false,
          "start_time": "2022-09-16T11:22:53.975411",
          "status": "completed"
        },
        "tags": [],
        "colab": {
          "base_uri": "https://localhost:8080/"
        },
        "id": "6ead36ff",
        "outputId": "75b6e4a2-b160-4876-fd3f-0344f9ec3f03"
      },
      "outputs": [
        {
          "output_type": "execute_result",
          "data": {
            "text/plain": [
              "array(['Age', 'Sex', 'Chest pain type', 'BP', 'Cholesterol',\n",
              "       'FBS over 120', 'EKG results', 'Max HR', 'Exercise angina',\n",
              "       'ST depression', 'Slope of ST', 'Number of vessels fluro',\n",
              "       'Thallium', 'Heart Disease'], dtype=object)"
            ]
          },
          "metadata": {},
          "execution_count": 5
        }
      ],
      "source": [
        "df.columns.values"
      ]
    },
    {
      "cell_type": "code",
      "execution_count": null,
      "id": "fbdf8811",
      "metadata": {
        "execution": {
          "iopub.execute_input": "2022-09-16T11:22:54.040878Z",
          "iopub.status.busy": "2022-09-16T11:22:54.040415Z",
          "iopub.status.idle": "2022-09-16T11:22:54.053949Z",
          "shell.execute_reply": "2022-09-16T11:22:54.052778Z"
        },
        "papermill": {
          "duration": 0.034918,
          "end_time": "2022-09-16T11:22:54.056659",
          "exception": false,
          "start_time": "2022-09-16T11:22:54.021741",
          "status": "completed"
        },
        "tags": [],
        "colab": {
          "base_uri": "https://localhost:8080/"
        },
        "id": "fbdf8811",
        "outputId": "0368dfd9-2eb5-4cc4-c943-8c5554bd6256"
      },
      "outputs": [
        {
          "output_type": "execute_result",
          "data": {
            "text/plain": [
              "Age                         41\n",
              "Sex                          2\n",
              "Chest pain type              4\n",
              "BP                          47\n",
              "Cholesterol                144\n",
              "FBS over 120                 2\n",
              "EKG results                  3\n",
              "Max HR                      90\n",
              "Exercise angina              2\n",
              "ST depression               39\n",
              "Slope of ST                  3\n",
              "Number of vessels fluro      4\n",
              "Thallium                     3\n",
              "Heart Disease                2\n",
              "dtype: int64"
            ]
          },
          "metadata": {},
          "execution_count": 6
        }
      ],
      "source": [
        "df.nunique()"
      ]
    },
    {
      "cell_type": "markdown",
      "id": "ecff97d4",
      "metadata": {
        "papermill": {
          "duration": 0.017716,
          "end_time": "2022-09-16T11:22:54.091925",
          "exception": false,
          "start_time": "2022-09-16T11:22:54.074209",
          "status": "completed"
        },
        "tags": [],
        "id": "ecff97d4"
      },
      "source": [
        "> # Initial Data Exploration"
      ]
    },
    {
      "cell_type": "markdown",
      "id": "a480ad56",
      "metadata": {
        "papermill": {
          "duration": 0.017014,
          "end_time": "2022-09-16T11:22:54.126336",
          "exception": false,
          "start_time": "2022-09-16T11:22:54.109322",
          "status": "completed"
        },
        "tags": [],
        "id": "a480ad56"
      },
      "source": [
        "Age"
      ]
    },
    {
      "cell_type": "code",
      "execution_count": null,
      "id": "6333ca20",
      "metadata": {
        "execution": {
          "iopub.execute_input": "2022-09-16T11:22:54.163207Z",
          "iopub.status.busy": "2022-09-16T11:22:54.162759Z",
          "iopub.status.idle": "2022-09-16T11:22:54.417265Z",
          "shell.execute_reply": "2022-09-16T11:22:54.415787Z"
        },
        "papermill": {
          "duration": 0.276259,
          "end_time": "2022-09-16T11:22:54.420073",
          "exception": false,
          "start_time": "2022-09-16T11:22:54.143814",
          "status": "completed"
        },
        "tags": [],
        "colab": {
          "base_uri": "https://localhost:8080/",
          "height": 308
        },
        "id": "6333ca20",
        "outputId": "d50d4100-0444-4f88-8a1c-86adcf21ca03"
      },
      "outputs": [
        {
          "output_type": "display_data",
          "data": {
            "text/plain": [
              "<Figure size 432x288 with 1 Axes>"
            ],
            "image/png": "[encoded data removed]"
          },
          "metadata": {
            "needs_background": "light"
          }
        }
      ],
      "source": [
        "plt.suptitle('Age histogram', fontweight='heavy')\n",
        "plt.title('The age average is around 54')\n",
        "sns.histplot(data=df, x='Age')\n",
        "plt.show()"
      ]
    },
    {
      "cell_type": "markdown",
      "id": "2ff3ac75",
      "metadata": {
        "papermill": {
          "duration": 0.017091,
          "end_time": "2022-09-16T11:22:54.454894",
          "exception": false,
          "start_time": "2022-09-16T11:22:54.437803",
          "status": "completed"
        },
        "tags": [],
        "id": "2ff3ac75"
      },
      "source": [
        "Sex"
      ]
    },
    {
      "cell_type": "code",
      "execution_count": null,
      "id": "dc5ea6bd",
      "metadata": {
        "execution": {
          "iopub.execute_input": "2022-09-16T11:22:54.491675Z",
          "iopub.status.busy": "2022-09-16T11:22:54.491233Z",
          "iopub.status.idle": "2022-09-16T11:22:54.731471Z",
          "shell.execute_reply": "2022-09-16T11:22:54.730241Z"
        },
        "papermill": {
          "duration": 0.261907,
          "end_time": "2022-09-16T11:22:54.734279",
          "exception": false,
          "start_time": "2022-09-16T11:22:54.472372",
          "status": "completed"
        },
        "tags": [],
        "colab": {
          "base_uri": "https://localhost:8080/",
          "height": 439
        },
        "id": "dc5ea6bd",
        "outputId": "17f3ea6c-86eb-44ca-ad7f-87ff78b5aeea"
      },
      "outputs": [
        {
          "output_type": "display_data",
          "data": {
            "text/plain": [
              "<Figure size 720x360 with 2 Axes>"
            ],
            "image/png": "[encoded data removed]"
          },
          "metadata": {
            "needs_background": "light"
          }
        },
        {
          "output_type": "stream",
          "name": "stdout",
          "text": [
            "1    183\n",
            "0     87\n",
            "Name: Sex, dtype: int64\n",
            "It can be noticed that predictor (Gender) is imbalance\n"
          ]
        }
      ],
      "source": [
        "labels = ['Male', 'Female']\n",
        "order = df['Sex'].value_counts().index\n",
        "\n",
        "plt.figure(figsize=(10,5))\n",
        "plt.suptitle(\"Sex (Gender)\")\n",
        "\n",
        "plt.subplot(1,2,1)\n",
        "plt.title('Pie chart')\n",
        "plt.pie(df['Sex'].value_counts(), labels=labels, textprops={'fontsize':12})\n",
        "\n",
        "plt.subplot(1,2,2)\n",
        "plt.title('Count plot')\n",
        "sns.countplot(x='Sex', data=df, order=order)\n",
        "plt.xticks([0, 1], labels)\n",
        "\n",
        "plt.show()\n",
        "\n",
        "print(df['Sex'].value_counts())\n",
        "print(\"It can be noticed that predictor (Gender) is imbalance\")"
      ]
    },
    {
      "cell_type": "markdown",
      "id": "2b84f38a",
      "metadata": {
        "papermill": {
          "duration": 0.017579,
          "end_time": "2022-09-16T11:22:54.769864",
          "exception": false,
          "start_time": "2022-09-16T11:22:54.752285",
          "status": "completed"
        },
        "tags": [],
        "id": "2b84f38a"
      },
      "source": [
        "Chest pain type"
      ]
    },
    {
      "cell_type": "code",
      "execution_count": null,
      "id": "ed3f88a2",
      "metadata": {
        "execution": {
          "iopub.execute_input": "2022-09-16T11:22:54.808476Z",
          "iopub.status.busy": "2022-09-16T11:22:54.808057Z",
          "iopub.status.idle": "2022-09-16T11:22:55.061311Z",
          "shell.execute_reply": "2022-09-16T11:22:55.060085Z"
        },
        "papermill": {
          "duration": 0.275349,
          "end_time": "2022-09-16T11:22:55.063599",
          "exception": false,
          "start_time": "2022-09-16T11:22:54.788250",
          "status": "completed"
        },
        "tags": [],
        "colab": {
          "base_uri": "https://localhost:8080/",
          "height": 513
        },
        "id": "ed3f88a2",
        "outputId": "0ac6582d-c50a-4cd0-fb51-9bc137301999"
      },
      "outputs": [
        {
          "output_type": "display_data",
          "data": {
            "text/plain": [
              "<Figure size 720x360 with 2 Axes>"
            ],
            "image/png": "[encoded data removed]"
          },
          "metadata": {
            "needs_background": "light"
          }
        },
        {
          "output_type": "execute_result",
          "data": {
            "text/plain": [
              "4    129\n",
              "3     79\n",
              "2     42\n",
              "1     20\n",
              "Name: Chest pain type, dtype: int64"
            ]
          },
          "metadata": {},
          "execution_count": 10
        }
      ],
      "source": [
        "labels = [\"typical angina\", \"atypical angina\", \"non-anginal pain\", \"asymptomatic\"]\n",
        "order = df['Chest pain type'].value_counts().index\n",
        "\n",
        "plt.figure(figsize=(10,5))\n",
        "plt.suptitle(\"Chest pain type\")\n",
        "\n",
        "plt.subplot(1,2,1)\n",
        "plt.title('Pie chart')\n",
        "plt.pie(df['Chest pain type'].value_counts(), textprops={'fontsize':12})\n",
        "plt.subplots_adjust(left=0.125)\n",
        "\n",
        "plt.subplot(1,2,2)\n",
        "plt.title('Count plot')\n",
        "sns.countplot(x='Chest pain type', data=df, order=order)\n",
        "plt.xticks([0,1,2,3], labels, rotation=45)\n",
        "\n",
        "plt.show()\n",
        "\n",
        "df['Chest pain type'].value_counts()"
      ]
    },
    {
      "cell_type": "markdown",
      "id": "16614d8c",
      "metadata": {
        "papermill": {
          "duration": 0.018486,
          "end_time": "2022-09-16T11:22:55.100977",
          "exception": false,
          "start_time": "2022-09-16T11:22:55.082491",
          "status": "completed"
        },
        "tags": [],
        "id": "16614d8c"
      },
      "source": [
        "Resting blood pressure - The average resting heart rate is 131.34. It can be observed that histogram is skewed to right side"
      ]
    },
    {
      "cell_type": "code",
      "execution_count": null,
      "id": "3ddb394c",
      "metadata": {
        "execution": {
          "iopub.execute_input": "2022-09-16T11:22:55.140770Z",
          "iopub.status.busy": "2022-09-16T11:22:55.139614Z",
          "iopub.status.idle": "2022-09-16T11:22:55.619797Z",
          "shell.execute_reply": "2022-09-16T11:22:55.618908Z"
        },
        "papermill": {
          "duration": 0.503088,
          "end_time": "2022-09-16T11:22:55.622841",
          "exception": false,
          "start_time": "2022-09-16T11:22:55.119753",
          "status": "completed"
        },
        "tags": [],
        "colab": {
          "base_uri": "https://localhost:8080/",
          "height": 387
        },
        "id": "3ddb394c",
        "outputId": "16f6df7b-e35c-4e8e-d45b-f8b333f949e4"
      },
      "outputs": [
        {
          "output_type": "display_data",
          "data": {
            "text/plain": [
              "<Figure size 720x360 with 2 Axes>"
            ],
            "image/png": "[encoded data removed]"
          },
          "metadata": {
            "needs_background": "light"
          }
        },
        {
          "output_type": "stream",
          "name": "stdout",
          "text": [
            "The average resting heart rate: 131.34 It can be observed that histogram is skewed to right side\n"
          ]
        }
      ],
      "source": [
        "plt.figure(figsize=(10,5))\n",
        "plt.suptitle(\"Resting blood pressure\")\n",
        "\n",
        "plt.subplot(1,2,1)\n",
        "plt.title('Box plot')\n",
        "sns.boxplot(x=\"BP\", data=df)\n",
        "sns.swarmplot(x=\"BP\", data=df, color=\".25\")\n",
        "\n",
        "plt.subplot(1,2,2)\n",
        "plt.title('Histogram')\n",
        "sns.histplot(x='BP', data=df)\n",
        "plt.show()\n",
        "\n",
        "print(\"The average resting heart rate: %2.2f It can be observed that histogram is skewed to right side\" % (df[\"BP\"].mean()))"
      ]
    },
    {
      "cell_type": "markdown",
      "id": "bcdf01b6",
      "metadata": {
        "papermill": {
          "duration": 0.018899,
          "end_time": "2022-09-16T11:22:55.661057",
          "exception": false,
          "start_time": "2022-09-16T11:22:55.642158",
          "status": "completed"
        },
        "tags": [],
        "id": "bcdf01b6"
      },
      "source": [
        "Cholesterol - histogram resemble a normal distribution"
      ]
    },
    {
      "cell_type": "code",
      "execution_count": null,
      "id": "4dec7222",
      "metadata": {
        "execution": {
          "iopub.execute_input": "2022-09-16T11:22:55.702124Z",
          "iopub.status.busy": "2022-09-16T11:22:55.701029Z",
          "iopub.status.idle": "2022-09-16T11:22:56.151601Z",
          "shell.execute_reply": "2022-09-16T11:22:56.150683Z"
        },
        "papermill": {
          "duration": 0.475549,
          "end_time": "2022-09-16T11:22:56.155968",
          "exception": false,
          "start_time": "2022-09-16T11:22:55.680419",
          "status": "completed"
        },
        "tags": [],
        "colab": {
          "base_uri": "https://localhost:8080/",
          "height": 387
        },
        "id": "4dec7222",
        "outputId": "f42e0aa7-6bbf-42c6-9075-3d9daec886b2"
      },
      "outputs": [
        {
          "output_type": "display_data",
          "data": {
            "text/plain": [
              "<Figure size 720x360 with 2 Axes>"
            ],
            "image/png": "[encoded data removed]"
          },
          "metadata": {
            "needs_background": "light"
          }
        },
        {
          "output_type": "stream",
          "name": "stdout",
          "text": [
            "The average resting heart rate: 249.66. The shape of histogram resamble a normal distribution\n"
          ]
        }
      ],
      "source": [
        "plt.figure(figsize=(10,5))\n",
        "plt.suptitle(\"Cholesterol\")\n",
        "\n",
        "plt.subplot(1,2,1)\n",
        "plt.title('Box Plot')\n",
        "sns.boxplot(x=\"Cholesterol\", data=df)\n",
        "sns.swarmplot(x=\"Cholesterol\", data=df, color=\".25\")\n",
        "\n",
        "plt.subplot(1,2,2)\n",
        "plt.title('Histogram')\n",
        "sns.histplot(x='Cholesterol', data=df)\n",
        "plt.show()\n",
        "\n",
        "print(\"The average resting heart rate: %2.2f. The shape of histogram resamble a normal distribution\" % (df[\"Cholesterol\"].mean()))"
      ]
    },
    {
      "cell_type": "markdown",
      "id": "d6d45e66",
      "metadata": {
        "papermill": {
          "duration": 0.01949,
          "end_time": "2022-09-16T11:22:56.196516",
          "exception": false,
          "start_time": "2022-09-16T11:22:56.177026",
          "status": "completed"
        },
        "tags": [],
        "id": "d6d45e66"
      },
      "source": [
        "FBS over 120"
      ]
    },
    {
      "cell_type": "code",
      "execution_count": null,
      "id": "10d1e528",
      "metadata": {
        "execution": {
          "iopub.execute_input": "2022-09-16T11:22:56.238664Z",
          "iopub.status.busy": "2022-09-16T11:22:56.237519Z",
          "iopub.status.idle": "2022-09-16T11:22:56.457626Z",
          "shell.execute_reply": "2022-09-16T11:22:56.456512Z"
        },
        "papermill": {
          "duration": 0.243874,
          "end_time": "2022-09-16T11:22:56.460287",
          "exception": false,
          "start_time": "2022-09-16T11:22:56.216413",
          "status": "completed"
        },
        "tags": [],
        "colab": {
          "base_uri": "https://localhost:8080/",
          "height": 422
        },
        "id": "10d1e528",
        "outputId": "dc5d1f20-7fc1-4ab6-bdd9-b588953dd071"
      },
      "outputs": [
        {
          "output_type": "display_data",
          "data": {
            "text/plain": [
              "<Figure size 720x360 with 2 Axes>"
            ],
            "image/png": "[encoded data removed]"
          },
          "metadata": {
            "needs_background": "light"
          }
        },
        {
          "output_type": "execute_result",
          "data": {
            "text/plain": [
              "0    230\n",
              "1     40\n",
              "Name: FBS over 120, dtype: int64"
            ]
          },
          "metadata": {},
          "execution_count": 13
        }
      ],
      "source": [
        "labels = [\"False\", 'True']\n",
        "order = df['FBS over 120'].value_counts().index\n",
        "\n",
        "plt.figure(figsize=(10,5))\n",
        "plt.suptitle(\"FBS over 120\")\n",
        "\n",
        "plt.subplot(1,2,1)\n",
        "plt.title('Pie chart')\n",
        "plt.pie(df['FBS over 120'].value_counts(), textprops={'fontsize':12})\n",
        "plt.subplots_adjust(left=0.125)\n",
        "\n",
        "plt.subplot(1,2,2)\n",
        "plt.title('Count plot')\n",
        "sns.countplot(x='FBS over 120', data=df, order=order)\n",
        "plt.xticks([0,1], labels=labels)\n",
        "\n",
        "plt.show()\n",
        "\n",
        "df['FBS over 120'].value_counts()"
      ]
    },
    {
      "cell_type": "markdown",
      "id": "def39a3c",
      "metadata": {
        "papermill": {
          "duration": 0.020009,
          "end_time": "2022-09-16T11:22:56.501193",
          "exception": false,
          "start_time": "2022-09-16T11:22:56.481184",
          "status": "completed"
        },
        "tags": [],
        "id": "def39a3c"
      },
      "source": [
        "EKG results"
      ]
    },
    {
      "cell_type": "code",
      "execution_count": null,
      "id": "881470be",
      "metadata": {
        "execution": {
          "iopub.execute_input": "2022-09-16T11:22:56.543350Z",
          "iopub.status.busy": "2022-09-16T11:22:56.542921Z",
          "iopub.status.idle": "2022-09-16T11:22:56.786092Z",
          "shell.execute_reply": "2022-09-16T11:22:56.784790Z"
        },
        "papermill": {
          "duration": 0.267128,
          "end_time": "2022-09-16T11:22:56.788546",
          "exception": false,
          "start_time": "2022-09-16T11:22:56.521418",
          "status": "completed"
        },
        "tags": [],
        "colab": {
          "base_uri": "https://localhost:8080/",
          "height": 439
        },
        "id": "881470be",
        "outputId": "f6628cc9-6a96-40d9-ddd6-87ac1ee8396c"
      },
      "outputs": [
        {
          "output_type": "display_data",
          "data": {
            "text/plain": [
              "<Figure size 720x360 with 2 Axes>"
            ],
            "image/png": "[encoded data removed]"
          },
          "metadata": {
            "needs_background": "light"
          }
        },
        {
          "output_type": "execute_result",
          "data": {
            "text/plain": [
              "2    137\n",
              "0    131\n",
              "1      2\n",
              "Name: EKG results, dtype: int64"
            ]
          },
          "metadata": {},
          "execution_count": 14
        }
      ],
      "source": [
        "labels = [\"normal\", 'aving ST-T wave abnormality', \"showing probable or definite left ventricular hypertrophy by Estes' criteria\"]\n",
        "order = df['EKG results'].value_counts().index\n",
        "\n",
        "plt.figure(figsize=(10,5))\n",
        "plt.suptitle(\"EKG results\")\n",
        "\n",
        "plt.subplot(1,2,1)\n",
        "plt.title('Pie chart')\n",
        "plt.pie(df['EKG results'].value_counts(), textprops={'fontsize':12})\n",
        "plt.subplots_adjust(left=0.125)\n",
        "\n",
        "plt.subplot(1,2,2)\n",
        "plt.title('Count plot')\n",
        "sns.countplot(x='EKG results', data=df, order=order)\n",
        "#plt.xticks([0,1,2], labels=labels, rotation=45)\n",
        "\n",
        "plt.show()\n",
        "\n",
        "df['EKG results'].value_counts()"
      ]
    },
    {
      "cell_type": "markdown",
      "id": "dc8c6845",
      "metadata": {
        "papermill": {
          "duration": 0.020471,
          "end_time": "2022-09-16T11:22:56.830341",
          "exception": false,
          "start_time": "2022-09-16T11:22:56.809870",
          "status": "completed"
        },
        "tags": [],
        "id": "dc8c6845"
      },
      "source": [
        "Max HR - histogram is slightly left skewed"
      ]
    },
    {
      "cell_type": "code",
      "execution_count": null,
      "id": "d04d4188",
      "metadata": {
        "execution": {
          "iopub.execute_input": "2022-09-16T11:22:56.874300Z",
          "iopub.status.busy": "2022-09-16T11:22:56.873887Z",
          "iopub.status.idle": "2022-09-16T11:22:57.289974Z",
          "shell.execute_reply": "2022-09-16T11:22:57.288777Z"
        },
        "papermill": {
          "duration": 0.441739,
          "end_time": "2022-09-16T11:22:57.293131",
          "exception": false,
          "start_time": "2022-09-16T11:22:56.851392",
          "status": "completed"
        },
        "tags": [],
        "colab": {
          "base_uri": "https://localhost:8080/",
          "height": 387
        },
        "id": "d04d4188",
        "outputId": "3695d6a7-1eb3-4d0e-a739-cdf73e338af3"
      },
      "outputs": [
        {
          "output_type": "display_data",
          "data": {
            "text/plain": [
              "<Figure size 720x360 with 2 Axes>"
            ],
            "image/png": "[encoded data removed]"
          },
          "metadata": {
            "needs_background": "light"
          }
        },
        {
          "output_type": "stream",
          "name": "stdout",
          "text": [
            "The max heart rate: 149.68 The histogram is slightly left skewed\n"
          ]
        }
      ],
      "source": [
        "plt.figure(figsize=(10,5))\n",
        "plt.suptitle(\"Max HR\")\n",
        "\n",
        "plt.subplot(1,2,1)\n",
        "plt.title('Pie chart')\n",
        "sns.boxplot(x=\"Max HR\", data=df)\n",
        "sns.swarmplot(x=\"Max HR\", data=df, color=\".25\")\n",
        "\n",
        "plt.subplot(1,2,2)\n",
        "plt.title('Histogram')\n",
        "sns.histplot(x='Max HR', data=df)\n",
        "plt.show()\n",
        "\n",
        "print(\"The max heart rate: %2.2f The histogram is slightly left skewed\" % (df[\"Max HR\"].mean()))"
      ]
    },
    {
      "cell_type": "markdown",
      "id": "fb002295",
      "metadata": {
        "papermill": {
          "duration": 0.021213,
          "end_time": "2022-09-16T11:22:57.337009",
          "exception": false,
          "start_time": "2022-09-16T11:22:57.315796",
          "status": "completed"
        },
        "tags": [],
        "id": "fb002295"
      },
      "source": [
        "Exercise angina\t"
      ]
    },
    {
      "cell_type": "code",
      "execution_count": null,
      "id": "880173a4",
      "metadata": {
        "execution": {
          "iopub.execute_input": "2022-09-16T11:22:57.382182Z",
          "iopub.status.busy": "2022-09-16T11:22:57.381697Z",
          "iopub.status.idle": "2022-09-16T11:22:57.611015Z",
          "shell.execute_reply": "2022-09-16T11:22:57.609791Z"
        },
        "papermill": {
          "duration": 0.254953,
          "end_time": "2022-09-16T11:22:57.613566",
          "exception": false,
          "start_time": "2022-09-16T11:22:57.358613",
          "status": "completed"
        },
        "tags": [],
        "colab": {
          "base_uri": "https://localhost:8080/",
          "height": 422
        },
        "id": "880173a4",
        "outputId": "875d6e2d-1ccd-425f-d700-b2bc9077ab89"
      },
      "outputs": [
        {
          "output_type": "display_data",
          "data": {
            "text/plain": [
              "<Figure size 720x360 with 2 Axes>"
            ],
            "image/png": "[encoded data removed]"
          },
          "metadata": {
            "needs_background": "light"
          }
        },
        {
          "output_type": "execute_result",
          "data": {
            "text/plain": [
              "0    181\n",
              "1     89\n",
              "Name: Exercise angina, dtype: int64"
            ]
          },
          "metadata": {},
          "execution_count": 16
        }
      ],
      "source": [
        "labels = [\"False\", 'True']\n",
        "order = df['Exercise angina'].value_counts().index\n",
        "\n",
        "plt.figure(figsize=(10,5))\n",
        "plt.suptitle(\"Exercise angina\")\n",
        "\n",
        "plt.subplot(1,2,1)\n",
        "plt.title('Pie chart')\n",
        "plt.pie(df['Exercise angina'].value_counts(), textprops={'fontsize':12})\n",
        "plt.subplots_adjust(left=0.125)\n",
        "\n",
        "plt.subplot(1,2,2)\n",
        "plt.title('Count plot')\n",
        "sns.countplot(x='Exercise angina', data=df, order=order)\n",
        "plt.xticks([0,1], labels=labels)\n",
        "\n",
        "plt.show()\n",
        "\n",
        "df['Exercise angina'].value_counts()"
      ]
    },
    {
      "cell_type": "markdown",
      "id": "4430645b",
      "metadata": {
        "papermill": {
          "duration": 0.021544,
          "end_time": "2022-09-16T11:22:57.657659",
          "exception": false,
          "start_time": "2022-09-16T11:22:57.636115",
          "status": "completed"
        },
        "tags": [],
        "id": "4430645b"
      },
      "source": [
        "ST depression - histogram is left skewed. People are rather healthy"
      ]
    },
    {
      "cell_type": "code",
      "execution_count": null,
      "id": "6613fbc2",
      "metadata": {
        "execution": {
          "iopub.execute_input": "2022-09-16T11:22:57.706975Z",
          "iopub.status.busy": "2022-09-16T11:22:57.706525Z",
          "iopub.status.idle": "2022-09-16T11:22:58.007430Z",
          "shell.execute_reply": "2022-09-16T11:22:58.006087Z"
        },
        "papermill": {
          "duration": 0.331283,
          "end_time": "2022-09-16T11:22:58.011145",
          "exception": false,
          "start_time": "2022-09-16T11:22:57.679862",
          "status": "completed"
        },
        "tags": [],
        "colab": {
          "base_uri": "https://localhost:8080/",
          "height": 387
        },
        "id": "6613fbc2",
        "outputId": "1fbc330c-b5a1-44f8-a97e-897c2e5b87ec"
      },
      "outputs": [
        {
          "output_type": "display_data",
          "data": {
            "text/plain": [
              "<Figure size 720x360 with 2 Axes>"
            ],
            "image/png": "[encoded data removed]"
          },
          "metadata": {
            "needs_background": "light"
          }
        },
        {
          "output_type": "stream",
          "name": "stdout",
          "text": [
            "The ST depression average: 1.05 The histogram is left skewed\n"
          ]
        }
      ],
      "source": [
        "plt.figure(figsize=(10,5))\n",
        "plt.suptitle(\"ST depression\")\n",
        "\n",
        "plt.subplot(1,2,1)\n",
        "plt.title('Box plot')\n",
        "sns.boxplot(x=\"ST depression\", data=df)\n",
        "\n",
        "plt.subplot(1,2,2)\n",
        "plt.title('Histogram')\n",
        "sns.histplot(x='ST depression', data=df)\n",
        "plt.show()\n",
        "\n",
        "print(\"The ST depression average: %2.2f The histogram is left skewed\" % (df[\"ST depression\"].mean()))"
      ]
    },
    {
      "cell_type": "markdown",
      "id": "2a8cec30",
      "metadata": {
        "papermill": {
          "duration": 0.021908,
          "end_time": "2022-09-16T11:22:58.056363",
          "exception": false,
          "start_time": "2022-09-16T11:22:58.034455",
          "status": "completed"
        },
        "tags": [],
        "id": "2a8cec30"
      },
      "source": [
        "Slope of ST"
      ]
    },
    {
      "cell_type": "code",
      "execution_count": null,
      "id": "0d75ad63",
      "metadata": {
        "execution": {
          "iopub.execute_input": "2022-09-16T11:22:58.103982Z",
          "iopub.status.busy": "2022-09-16T11:22:58.102794Z",
          "iopub.status.idle": "2022-09-16T11:22:58.478799Z",
          "shell.execute_reply": "2022-09-16T11:22:58.477553Z"
        },
        "papermill": {
          "duration": 0.40241,
          "end_time": "2022-09-16T11:22:58.481071",
          "exception": false,
          "start_time": "2022-09-16T11:22:58.078661",
          "status": "completed"
        },
        "tags": [],
        "colab": {
          "base_uri": "https://localhost:8080/",
          "height": 439
        },
        "id": "0d75ad63",
        "outputId": "14235701-17df-4260-ec6c-2178651ac382"
      },
      "outputs": [
        {
          "output_type": "display_data",
          "data": {
            "text/plain": [
              "<Figure size 720x360 with 2 Axes>"
            ],
            "image/png": "[encoded data removed]"
          },
          "metadata": {
            "needs_background": "light"
          }
        },
        {
          "output_type": "execute_result",
          "data": {
            "text/plain": [
              "1    130\n",
              "2    122\n",
              "3     18\n",
              "Name: Slope of ST, dtype: int64"
            ]
          },
          "metadata": {},
          "execution_count": 18
        }
      ],
      "source": [
        "labels = [\"1\", '2', '3']\n",
        "order = df['Slope of ST'].value_counts().index\n",
        "\n",
        "plt.figure(figsize=(10,5))\n",
        "plt.suptitle(\"Slope of ST\")\n",
        "\n",
        "plt.subplot(1,2,1)\n",
        "plt.title('Pie chart')\n",
        "plt.pie(df['Slope of ST'].value_counts(), textprops={'fontsize':12})\n",
        "plt.subplots_adjust(left=0.125)\n",
        "\n",
        "plt.subplot(1,2,2)\n",
        "plt.title('Count plot')\n",
        "sns.countplot(x='Slope of ST', data=df, order=order)\n",
        "plt.xticks([0,1,2], labels=labels)\n",
        "\n",
        "plt.show()\n",
        "\n",
        "df['Slope of ST'].value_counts()"
      ]
    },
    {
      "cell_type": "markdown",
      "id": "d0a3ee65",
      "metadata": {
        "papermill": {
          "duration": 0.022771,
          "end_time": "2022-09-16T11:22:58.526962",
          "exception": false,
          "start_time": "2022-09-16T11:22:58.504191",
          "status": "completed"
        },
        "tags": [],
        "id": "d0a3ee65"
      },
      "source": [
        "Number of vessels fluro"
      ]
    },
    {
      "cell_type": "code",
      "execution_count": null,
      "id": "4a72500f",
      "metadata": {
        "execution": {
          "iopub.execute_input": "2022-09-16T11:22:58.575359Z",
          "iopub.status.busy": "2022-09-16T11:22:58.574300Z",
          "iopub.status.idle": "2022-09-16T11:22:58.823372Z",
          "shell.execute_reply": "2022-09-16T11:22:58.822078Z"
        },
        "papermill": {
          "duration": 0.275704,
          "end_time": "2022-09-16T11:22:58.825585",
          "exception": false,
          "start_time": "2022-09-16T11:22:58.549881",
          "status": "completed"
        },
        "tags": [],
        "colab": {
          "base_uri": "https://localhost:8080/",
          "height": 457
        },
        "id": "4a72500f",
        "outputId": "a8bcde88-1429-4257-d910-e658277368e1"
      },
      "outputs": [
        {
          "output_type": "display_data",
          "data": {
            "text/plain": [
              "<Figure size 720x360 with 2 Axes>"
            ],
            "image/png": "[encoded data removed]"
          },
          "metadata": {
            "needs_background": "light"
          }
        },
        {
          "output_type": "execute_result",
          "data": {
            "text/plain": [
              "0    160\n",
              "1     58\n",
              "2     33\n",
              "3     19\n",
              "Name: Number of vessels fluro, dtype: int64"
            ]
          },
          "metadata": {},
          "execution_count": 19
        }
      ],
      "source": [
        "labels = [\"0\", '1', '2', \"3\"]\n",
        "order = df['Number of vessels fluro'].value_counts().index\n",
        "\n",
        "plt.figure(figsize=(10,5))\n",
        "plt.suptitle(\"Number of vessels fluro\")\n",
        "\n",
        "plt.subplot(1,2,1)\n",
        "plt.title('Pie chart')\n",
        "plt.pie(df['Number of vessels fluro'].value_counts(), textprops={'fontsize':12})\n",
        "plt.subplots_adjust(left=0.125)\n",
        "\n",
        "plt.subplot(1,2,2)\n",
        "plt.title('Count plot')\n",
        "sns.countplot(x='Number of vessels fluro', data=df, order=order)\n",
        "plt.xticks([0,1,2,3], labels=labels)\n",
        "\n",
        "plt.show()\n",
        "\n",
        "df['Number of vessels fluro'].value_counts()"
      ]
    },
    {
      "cell_type": "markdown",
      "id": "6ffd4817",
      "metadata": {
        "papermill": {
          "duration": 0.023197,
          "end_time": "2022-09-16T11:22:58.872022",
          "exception": false,
          "start_time": "2022-09-16T11:22:58.848825",
          "status": "completed"
        },
        "tags": [],
        "id": "6ffd4817"
      },
      "source": [
        "Thallium"
      ]
    },
    {
      "cell_type": "code",
      "execution_count": null,
      "id": "9aac13c8",
      "metadata": {
        "execution": {
          "iopub.execute_input": "2022-09-16T11:22:58.920861Z",
          "iopub.status.busy": "2022-09-16T11:22:58.919699Z",
          "iopub.status.idle": "2022-09-16T11:22:59.152604Z",
          "shell.execute_reply": "2022-09-16T11:22:59.151763Z"
        },
        "papermill": {
          "duration": 0.259464,
          "end_time": "2022-09-16T11:22:59.154697",
          "exception": false,
          "start_time": "2022-09-16T11:22:58.895233",
          "status": "completed"
        },
        "tags": [],
        "colab": {
          "base_uri": "https://localhost:8080/",
          "height": 439
        },
        "id": "9aac13c8",
        "outputId": "e5149d78-ca38-488d-f020-0d2d2633cc42"
      },
      "outputs": [
        {
          "output_type": "display_data",
          "data": {
            "text/plain": [
              "<Figure size 720x360 with 2 Axes>"
            ],
            "image/png": "[encoded data removed]"
          },
          "metadata": {
            "needs_background": "light"
          }
        },
        {
          "output_type": "execute_result",
          "data": {
            "text/plain": [
              "3    152\n",
              "7    104\n",
              "6     14\n",
              "Name: Thallium, dtype: int64"
            ]
          },
          "metadata": {},
          "execution_count": 20
        }
      ],
      "source": [
        "labels = [\"3\", '7', '6']\n",
        "order = df['Thallium'].value_counts().index\n",
        "\n",
        "plt.figure(figsize=(10,5))\n",
        "plt.suptitle(\"Thallium\")\n",
        "\n",
        "plt.subplot(1,2,1)\n",
        "plt.title('Pie chart')\n",
        "plt.pie(df['Thallium'].value_counts(), textprops={'fontsize':12})\n",
        "plt.subplots_adjust(left=0.125)\n",
        "\n",
        "plt.subplot(1,2,2)\n",
        "plt.title('Count plot')\n",
        "sns.countplot(x='Thallium', data=df, order=order)\n",
        "plt.xticks([0,1,2], labels=labels)\n",
        "\n",
        "plt.show()\n",
        "\n",
        "df['Thallium'].value_counts()"
      ]
    }
  ],
  "metadata": {
    "kernelspec": {
      "display_name": "Python 3",
      "language": "python",
      "name": "python3"
    },
    "language_info": {
      "codemirror_mode": {
        "name": "ipython",
        "version": 3
      },
      "file_extension": ".py",
      "mimetype": "text/x-python",
      "name": "python",
      "nbconvert_exporter": "python",
      "pygments_lexer": "ipython3",
      "version": "3.7.12"
    },
    "papermill": {
      "default_parameters": {},
      "duration": 30.846583,
      "end_time": "2022-09-16T11:23:14.049680",
      "environment_variables": {},
      "exception": null,
      "input_path": "__notebook__.ipynb",
      "output_path": "__notebook__.ipynb",
      "parameters": {},
      "start_time": "2022-09-16T11:22:43.203097",
      "version": "2.3.4"
    },
    "colab": {
      "provenance": [],
      "collapsed_sections": [
        "fe98ee0b"
      ],
      "toc_visible": true
    }
  },
  "nbformat": 4,
  "nbformat_minor": 5
}