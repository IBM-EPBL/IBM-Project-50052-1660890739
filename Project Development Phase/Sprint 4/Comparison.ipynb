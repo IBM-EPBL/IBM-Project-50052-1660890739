{
  "cells": [
    {
      "cell_type": "markdown",
      "source": [
        "**Team Id: PNT2022TMID03384**            \n",
        "## Visualizing and Predicting Heart Diseases with an Interactive Dashboard                    \n",
        "                                          Heart Disease Prediction using Machine Learning Approach"
      ],
      "metadata": {
        "id": "75KTKNrbxmOu"
      },
      "id": "75KTKNrbxmOu"
    },
    {
      "cell_type": "markdown",
      "source": [
        "Heart disease is a general term that includes many types of heart problems. It's also called cardiovascular disease, which means heart and blood vessel disease.\n",
        "\n",
        "Heart disease is the leading cause of death in the United States, but there are ways to prevent and manage many types of heart disease when caught early.\n",
        "\n",
        "Dataset used: https://www.kaggle.com/datasets/rishidamarla/heart-disease-prediction"
      ],
      "metadata": {
        "id": "KAZxVtTpx8OO"
      },
      "id": "KAZxVtTpx8OO"
    },
    {
      "cell_type": "code",
      "execution_count": null,
      "id": "d4c40647",
      "metadata": {
        "_cell_guid": "b1076dfc-b9ad-4769-8c92-a6c4dae69d19",
        "_uuid": "8f2839f25d086af736a60e9eeb907d3b93b6e0e5",
        "execution": {
          "iopub.execute_input": "2022-09-16T11:22:52.672785Z",
          "iopub.status.busy": "2022-09-16T11:22:52.672001Z",
          "iopub.status.idle": "2022-09-16T11:22:53.683093Z",
          "shell.execute_reply": "2022-09-16T11:22:53.682087Z"
        },
        "papermill": {
          "duration": 1.033851,
          "end_time": "2022-09-16T11:22:53.685881",
          "exception": false,
          "start_time": "2022-09-16T11:22:52.652030",
          "status": "completed"
        },
        "tags": [],
        "id": "d4c40647"
      },
      "outputs": [],
      "source": [
        "import pandas as pd\n",
        "import numpy as np\n",
        "import matplotlib.pyplot as plt\n",
        "import seaborn as sns"
      ]
    },
    {
      "cell_type": "markdown",
      "id": "61b0039b",
      "metadata": {
        "papermill": {
          "duration": 0.016452,
          "end_time": "2022-09-16T11:22:53.721558",
          "exception": false,
          "start_time": "2022-09-16T11:22:53.705106",
          "status": "completed"
        },
        "tags": [],
        "id": "61b0039b"
      },
      "source": [
        "About Dataset:\n",
        "\n",
        "\n",
        "\n",
        "1.   Age: in years\n",
        "2.   Sex: 1 = male; 0 = female\n",
        "3.   Chest pain type:\n",
        "\n",
        "      Value 1: typical angina\n",
        "\n",
        "      Value 2: atypical angina\n",
        "\n",
        "      Value 3: non-anginal pain\n",
        "\n",
        "      Value 4: asymptomatic\n",
        "4.   BP:   resting blood pressure (in mm Hg on admission to the hospital)\n",
        "5.   Cholesterol : serum cholestoral in mg/dl\n",
        "6.   FBS: fasting blood sugar > 120 mg/dl (1 = true; 0 = false)\n",
        "7.   EKG results: resting electrocardiographic results\n",
        "\n",
        "      Value 0: normal\n",
        "\n",
        "      Value 1: aving ST-T wave abnormality (T wave inversions and/or ST elevation or depression of > 0.05 mV)\n",
        "\n",
        "      Value 2: showing probable or definite left ventricular hypertrophy by Estes' criteria\n",
        "\n",
        "8.   MAx HR: maximum heart rate achieved\n",
        "9.   Excercise angina: exercise induced angina (1 = yes; 0 = no)\n",
        "10.  Slope of ST: oldpeak = ST depression induced by exercise relative to rest\n",
        "11.  Number of vessels fluro: number of major vessels (0-3) colored by flourosopy\n",
        "12.  Thallium: 3 = normal; 6 = fixed defect; 7 = reversable defect"
      ]
    },
    {
      "cell_type": "markdown",
      "source": [
        "***Data Loading***"
      ],
      "metadata": {
        "id": "s_U0YdGrNg0S"
      },
      "id": "s_U0YdGrNg0S"
    },
    {
      "cell_type": "code",
      "execution_count": null,
      "id": "f4658aff",
      "metadata": {
        "execution": {
          "iopub.execute_input": "2022-09-16T11:22:53.756885Z",
          "iopub.status.busy": "2022-09-16T11:22:53.756451Z",
          "iopub.status.idle": "2022-09-16T11:22:53.801943Z",
          "shell.execute_reply": "2022-09-16T11:22:53.800822Z"
        },
        "papermill": {
          "duration": 0.067074,
          "end_time": "2022-09-16T11:22:53.805260",
          "exception": false,
          "start_time": "2022-09-16T11:22:53.738186",
          "status": "completed"
        },
        "tags": [],
        "colab": {
          "base_uri": "https://localhost:8080/",
          "height": 322
        },
        "id": "f4658aff",
        "outputId": "2cc88785-176d-494b-c14c-86235c76fa95"
      },
      "outputs": [
        {
          "output_type": "execute_result",
          "data": {
            "text/plain": [
              "   Age  Sex  Chest pain type   BP  Cholesterol  FBS over 120  EKG results  \\\n",
              "0   70    1                4  130          322             0            2   \n",
              "1   67    0                3  115          564             0            2   \n",
              "2   57    1                2  124          261             0            0   \n",
              "3   64    1                4  128          263             0            0   \n",
              "4   74    0                2  120          269             0            2   \n",
              "\n",
              "   Max HR  Exercise angina  ST depression  Slope of ST  \\\n",
              "0     109                0            2.4            2   \n",
              "1     160                0            1.6            2   \n",
              "2     141                0            0.3            1   \n",
              "3     105                1            0.2            2   \n",
              "4     121                1            0.2            1   \n",
              "\n",
              "   Number of vessels fluro  Thallium Heart Disease  \n",
              "0                        3         3      Presence  \n",
              "1                        0         7       Absence  \n",
              "2                        0         7      Presence  \n",
              "3                        1         7       Absence  \n",
              "4                        1         3       Absence  "
            ],
            "text/html": [
              "\n",
              "  <div id=\"df-3ee2e351-8285-4921-a243-20d77bef06d6\">\n",
              "    <div class=\"colab-df-container\">\n",
              "      <div>\n",
              "<style scoped>\n",
              "    .dataframe tbody tr th:only-of-type {\n",
              "        vertical-align: middle;\n",
              "    }\n",
              "\n",
              "    .dataframe tbody tr th {\n",
              "        vertical-align: top;\n",
              "    }\n",
              "\n",
              "    .dataframe thead th {\n",
              "        text-align: right;\n",
              "    }\n",
              "</style>\n",
              "<table border=\"1\" class=\"dataframe\">\n",
              "  <thead>\n",
              "    <tr style=\"text-align: right;\">\n",
              "      <th></th>\n",
              "      <th>Age</th>\n",
              "      <th>Sex</th>\n",
              "      <th>Chest pain type</th>\n",
              "      <th>BP</th>\n",
              "      <th>Cholesterol</th>\n",
              "      <th>FBS over 120</th>\n",
              "      <th>EKG results</th>\n",
              "      <th>Max HR</th>\n",
              "      <th>Exercise angina</th>\n",
              "      <th>ST depression</th>\n",
              "      <th>Slope of ST</th>\n",
              "      <th>Number of vessels fluro</th>\n",
              "      <th>Thallium</th>\n",
              "      <th>Heart Disease</th>\n",
              "    </tr>\n",
              "  </thead>\n",
              "  <tbody>\n",
              "    <tr>\n",
              "      <th>0</th>\n",
              "      <td>70</td>\n",
              "      <td>1</td>\n",
              "      <td>4</td>\n",
              "      <td>130</td>\n",
              "      <td>322</td>\n",
              "      <td>0</td>\n",
              "      <td>2</td>\n",
              "      <td>109</td>\n",
              "      <td>0</td>\n",
              "      <td>2.4</td>\n",
              "      <td>2</td>\n",
              "      <td>3</td>\n",
              "      <td>3</td>\n",
              "      <td>Presence</td>\n",
              "    </tr>\n",
              "    <tr>\n",
              "      <th>1</th>\n",
              "      <td>67</td>\n",
              "      <td>0</td>\n",
              "      <td>3</td>\n",
              "      <td>115</td>\n",
              "      <td>564</td>\n",
              "      <td>0</td>\n",
              "      <td>2</td>\n",
              "      <td>160</td>\n",
              "      <td>0</td>\n",
              "      <td>1.6</td>\n",
              "      <td>2</td>\n",
              "      <td>0</td>\n",
              "      <td>7</td>\n",
              "      <td>Absence</td>\n",
              "    </tr>\n",
              "    <tr>\n",
              "      <th>2</th>\n",
              "      <td>57</td>\n",
              "      <td>1</td>\n",
              "      <td>2</td>\n",
              "      <td>124</td>\n",
              "      <td>261</td>\n",
              "      <td>0</td>\n",
              "      <td>0</td>\n",
              "      <td>141</td>\n",
              "      <td>0</td>\n",
              "      <td>0.3</td>\n",
              "      <td>1</td>\n",
              "      <td>0</td>\n",
              "      <td>7</td>\n",
              "      <td>Presence</td>\n",
              "    </tr>\n",
              "    <tr>\n",
              "      <th>3</th>\n",
              "      <td>64</td>\n",
              "      <td>1</td>\n",
              "      <td>4</td>\n",
              "      <td>128</td>\n",
              "      <td>263</td>\n",
              "      <td>0</td>\n",
              "      <td>0</td>\n",
              "      <td>105</td>\n",
              "      <td>1</td>\n",
              "      <td>0.2</td>\n",
              "      <td>2</td>\n",
              "      <td>1</td>\n",
              "      <td>7</td>\n",
              "      <td>Absence</td>\n",
              "    </tr>\n",
              "    <tr>\n",
              "      <th>4</th>\n",
              "      <td>74</td>\n",
              "      <td>0</td>\n",
              "      <td>2</td>\n",
              "      <td>120</td>\n",
              "      <td>269</td>\n",
              "      <td>0</td>\n",
              "      <td>2</td>\n",
              "      <td>121</td>\n",
              "      <td>1</td>\n",
              "      <td>0.2</td>\n",
              "      <td>1</td>\n",
              "      <td>1</td>\n",
              "      <td>3</td>\n",
              "      <td>Absence</td>\n",
              "    </tr>\n",
              "  </tbody>\n",
              "</table>\n",
              "</div>\n",
              "      <button class=\"colab-df-convert\" onclick=\"convertToInteractive('df-3ee2e351-8285-4921-a243-20d77bef06d6')\"\n",
              "              title=\"Convert this dataframe to an interactive table.\"\n",
              "              style=\"display:none;\">\n",
              "        \n",
              "  <svg xmlns=\"http://www.w3.org/2000/svg\" height=\"24px\"viewBox=\"0 0 24 24\"\n",
              "       width=\"24px\">\n",
              "    <path d=\"M0 0h24v24H0V0z\" fill=\"none\"/>\n",
              "    <path d=\"M18.56 5.44l.94 2.06.94-2.06 2.06-.94-2.06-.94-.94-2.06-.94 2.06-2.06.94zm-11 1L8.5 8.5l.94-2.06 2.06-.94-2.06-.94L8.5 2.5l-.94 2.06-2.06.94zm10 10l.94 2.06.94-2.06 2.06-.94-2.06-.94-.94-2.06-.94 2.06-2.06.94z\"/><path d=\"M17.41 7.96l-1.37-1.37c-.4-.4-.92-.59-1.43-.59-.52 0-1.04.2-1.43.59L10.3 9.45l-7.72 7.72c-.78.78-.78 2.05 0 2.83L4 21.41c.39.39.9.59 1.41.59.51 0 1.02-.2 1.41-.59l7.78-7.78 2.81-2.81c.8-.78.8-2.07 0-2.86zM5.41 20L4 18.59l7.72-7.72 1.47 1.35L5.41 20z\"/>\n",
              "  </svg>\n",
              "      </button>\n",
              "      \n",
              "  <style>\n",
              "    .colab-df-container {\n",
              "      display:flex;\n",
              "      flex-wrap:wrap;\n",
              "      gap: 12px;\n",
              "    }\n",
              "\n",
              "    .colab-df-convert {\n",
              "      background-color: #E8F0FE;\n",
              "      border: none;\n",
              "      border-radius: 50%;\n",
              "      cursor: pointer;\n",
              "      display: none;\n",
              "      fill: #1967D2;\n",
              "      height: 32px;\n",
              "      padding: 0 0 0 0;\n",
              "      width: 32px;\n",
              "    }\n",
              "\n",
              "    .colab-df-convert:hover {\n",
              "      background-color: #E2EBFA;\n",
              "      box-shadow: 0px 1px 2px rgba(60, 64, 67, 0.3), 0px 1px 3px 1px rgba(60, 64, 67, 0.15);\n",
              "      fill: #174EA6;\n",
              "    }\n",
              "\n",
              "    [theme=dark] .colab-df-convert {\n",
              "      background-color: #3B4455;\n",
              "      fill: #D2E3FC;\n",
              "    }\n",
              "\n",
              "    [theme=dark] .colab-df-convert:hover {\n",
              "      background-color: #434B5C;\n",
              "      box-shadow: 0px 1px 3px 1px rgba(0, 0, 0, 0.15);\n",
              "      filter: drop-shadow(0px 1px 2px rgba(0, 0, 0, 0.3));\n",
              "      fill: #FFFFFF;\n",
              "    }\n",
              "  </style>\n",
              "\n",
              "      <script>\n",
              "        const buttonEl =\n",
              "          document.querySelector('#df-3ee2e351-8285-4921-a243-20d77bef06d6 button.colab-df-convert');\n",
              "        buttonEl.style.display =\n",
              "          google.colab.kernel.accessAllowed ? 'block' : 'none';\n",
              "\n",
              "        async function convertToInteractive(key) {\n",
              "          const element = document.querySelector('#df-3ee2e351-8285-4921-a243-20d77bef06d6');\n",
              "          const dataTable =\n",
              "            await google.colab.kernel.invokeFunction('convertToInteractive',\n",
              "                                                     [key], {});\n",
              "          if (!dataTable) return;\n",
              "\n",
              "          const docLinkHtml = 'Like what you see? Visit the ' +\n",
              "            '<a target=\"_blank\" href=https://colab.research.google.com/notebooks/data_table.ipynb>data table notebook</a>'\n",
              "            + ' to learn more about interactive tables.';\n",
              "          element.innerHTML = '';\n",
              "          dataTable['output_type'] = 'display_data';\n",
              "          await google.colab.output.renderOutput(dataTable, element);\n",
              "          const docLink = document.createElement('div');\n",
              "          docLink.innerHTML = docLinkHtml;\n",
              "          element.appendChild(docLink);\n",
              "        }\n",
              "      </script>\n",
              "    </div>\n",
              "  </div>\n",
              "  "
            ]
          },
          "metadata": {},
          "execution_count": 2
        }
      ],
      "source": [
        "df = pd.read_csv('Heart_Disease_Prediction.csv')\n",
        "df.head()"
      ]
    },
    {
      "cell_type": "code",
      "execution_count": null,
      "id": "d4a1e841",
      "metadata": {
        "execution": {
          "iopub.execute_input": "2022-09-16T11:22:53.841715Z",
          "iopub.status.busy": "2022-09-16T11:22:53.841267Z",
          "iopub.status.idle": "2022-09-16T11:22:53.899939Z",
          "shell.execute_reply": "2022-09-16T11:22:53.898579Z"
        },
        "papermill": {
          "duration": 0.079636,
          "end_time": "2022-09-16T11:22:53.902296",
          "exception": false,
          "start_time": "2022-09-16T11:22:53.822660",
          "status": "completed"
        },
        "tags": [],
        "colab": {
          "base_uri": "https://localhost:8080/",
          "height": 399
        },
        "id": "d4a1e841",
        "outputId": "67348f08-19ed-4011-9539-bd241115cdc5"
      },
      "outputs": [
        {
          "output_type": "execute_result",
          "data": {
            "text/plain": [
              "              Age         Sex  Chest pain type          BP  Cholesterol  \\\n",
              "count  270.000000  270.000000       270.000000  270.000000   270.000000   \n",
              "mean    54.433333    0.677778         3.174074  131.344444   249.659259   \n",
              "std      9.109067    0.468195         0.950090   17.861608    51.686237   \n",
              "min     29.000000    0.000000         1.000000   94.000000   126.000000   \n",
              "25%     48.000000    0.000000         3.000000  120.000000   213.000000   \n",
              "50%     55.000000    1.000000         3.000000  130.000000   245.000000   \n",
              "75%     61.000000    1.000000         4.000000  140.000000   280.000000   \n",
              "max     77.000000    1.000000         4.000000  200.000000   564.000000   \n",
              "\n",
              "       FBS over 120  EKG results      Max HR  Exercise angina  ST depression  \\\n",
              "count    270.000000   270.000000  270.000000       270.000000      270.00000   \n",
              "mean       0.148148     1.022222  149.677778         0.329630        1.05000   \n",
              "std        0.355906     0.997891   23.165717         0.470952        1.14521   \n",
              "min        0.000000     0.000000   71.000000         0.000000        0.00000   \n",
              "25%        0.000000     0.000000  133.000000         0.000000        0.00000   \n",
              "50%        0.000000     2.000000  153.500000         0.000000        0.80000   \n",
              "75%        0.000000     2.000000  166.000000         1.000000        1.60000   \n",
              "max        1.000000     2.000000  202.000000         1.000000        6.20000   \n",
              "\n",
              "       Slope of ST  Number of vessels fluro    Thallium  \n",
              "count   270.000000               270.000000  270.000000  \n",
              "mean      1.585185                 0.670370    4.696296  \n",
              "std       0.614390                 0.943896    1.940659  \n",
              "min       1.000000                 0.000000    3.000000  \n",
              "25%       1.000000                 0.000000    3.000000  \n",
              "50%       2.000000                 0.000000    3.000000  \n",
              "75%       2.000000                 1.000000    7.000000  \n",
              "max       3.000000                 3.000000    7.000000  "
            ],
            "text/html": [
              "\n",
              "  <div id=\"df-49968f80-35d4-4ee9-bdee-c5b79abf69c3\">\n",
              "    <div class=\"colab-df-container\">\n",
              "      <div>\n",
              "<style scoped>\n",
              "    .dataframe tbody tr th:only-of-type {\n",
              "        vertical-align: middle;\n",
              "    }\n",
              "\n",
              "    .dataframe tbody tr th {\n",
              "        vertical-align: top;\n",
              "    }\n",
              "\n",
              "    .dataframe thead th {\n",
              "        text-align: right;\n",
              "    }\n",
              "</style>\n",
              "<table border=\"1\" class=\"dataframe\">\n",
              "  <thead>\n",
              "    <tr style=\"text-align: right;\">\n",
              "      <th></th>\n",
              "      <th>Age</th>\n",
              "      <th>Sex</th>\n",
              "      <th>Chest pain type</th>\n",
              "      <th>BP</th>\n",
              "      <th>Cholesterol</th>\n",
              "      <th>FBS over 120</th>\n",
              "      <th>EKG results</th>\n",
              "      <th>Max HR</th>\n",
              "      <th>Exercise angina</th>\n",
              "      <th>ST depression</th>\n",
              "      <th>Slope of ST</th>\n",
              "      <th>Number of vessels fluro</th>\n",
              "      <th>Thallium</th>\n",
              "    </tr>\n",
              "  </thead>\n",
              "  <tbody>\n",
              "    <tr>\n",
              "      <th>count</th>\n",
              "      <td>270.000000</td>\n",
              "      <td>270.000000</td>\n",
              "      <td>270.000000</td>\n",
              "      <td>270.000000</td>\n",
              "      <td>270.000000</td>\n",
              "      <td>270.000000</td>\n",
              "      <td>270.000000</td>\n",
              "      <td>270.000000</td>\n",
              "      <td>270.000000</td>\n",
              "      <td>270.00000</td>\n",
              "      <td>270.000000</td>\n",
              "      <td>270.000000</td>\n",
              "      <td>270.000000</td>\n",
              "    </tr>\n",
              "    <tr>\n",
              "      <th>mean</th>\n",
              "      <td>54.433333</td>\n",
              "      <td>0.677778</td>\n",
              "      <td>3.174074</td>\n",
              "      <td>131.344444</td>\n",
              "      <td>249.659259</td>\n",
              "      <td>0.148148</td>\n",
              "      <td>1.022222</td>\n",
              "      <td>149.677778</td>\n",
              "      <td>0.329630</td>\n",
              "      <td>1.05000</td>\n",
              "      <td>1.585185</td>\n",
              "      <td>0.670370</td>\n",
              "      <td>4.696296</td>\n",
              "    </tr>\n",
              "    <tr>\n",
              "      <th>std</th>\n",
              "      <td>9.109067</td>\n",
              "      <td>0.468195</td>\n",
              "      <td>0.950090</td>\n",
              "      <td>17.861608</td>\n",
              "      <td>51.686237</td>\n",
              "      <td>0.355906</td>\n",
              "      <td>0.997891</td>\n",
              "      <td>23.165717</td>\n",
              "      <td>0.470952</td>\n",
              "      <td>1.14521</td>\n",
              "      <td>0.614390</td>\n",
              "      <td>0.943896</td>\n",
              "      <td>1.940659</td>\n",
              "    </tr>\n",
              "    <tr>\n",
              "      <th>min</th>\n",
              "      <td>29.000000</td>\n",
              "      <td>0.000000</td>\n",
              "      <td>1.000000</td>\n",
              "      <td>94.000000</td>\n",
              "      <td>126.000000</td>\n",
              "      <td>0.000000</td>\n",
              "      <td>0.000000</td>\n",
              "      <td>71.000000</td>\n",
              "      <td>0.000000</td>\n",
              "      <td>0.00000</td>\n",
              "      <td>1.000000</td>\n",
              "      <td>0.000000</td>\n",
              "      <td>3.000000</td>\n",
              "    </tr>\n",
              "    <tr>\n",
              "      <th>25%</th>\n",
              "      <td>48.000000</td>\n",
              "      <td>0.000000</td>\n",
              "      <td>3.000000</td>\n",
              "      <td>120.000000</td>\n",
              "      <td>213.000000</td>\n",
              "      <td>0.000000</td>\n",
              "      <td>0.000000</td>\n",
              "      <td>133.000000</td>\n",
              "      <td>0.000000</td>\n",
              "      <td>0.00000</td>\n",
              "      <td>1.000000</td>\n",
              "      <td>0.000000</td>\n",
              "      <td>3.000000</td>\n",
              "    </tr>\n",
              "    <tr>\n",
              "      <th>50%</th>\n",
              "      <td>55.000000</td>\n",
              "      <td>1.000000</td>\n",
              "      <td>3.000000</td>\n",
              "      <td>130.000000</td>\n",
              "      <td>245.000000</td>\n",
              "      <td>0.000000</td>\n",
              "      <td>2.000000</td>\n",
              "      <td>153.500000</td>\n",
              "      <td>0.000000</td>\n",
              "      <td>0.80000</td>\n",
              "      <td>2.000000</td>\n",
              "      <td>0.000000</td>\n",
              "      <td>3.000000</td>\n",
              "    </tr>\n",
              "    <tr>\n",
              "      <th>75%</th>\n",
              "      <td>61.000000</td>\n",
              "      <td>1.000000</td>\n",
              "      <td>4.000000</td>\n",
              "      <td>140.000000</td>\n",
              "      <td>280.000000</td>\n",
              "      <td>0.000000</td>\n",
              "      <td>2.000000</td>\n",
              "      <td>166.000000</td>\n",
              "      <td>1.000000</td>\n",
              "      <td>1.60000</td>\n",
              "      <td>2.000000</td>\n",
              "      <td>1.000000</td>\n",
              "      <td>7.000000</td>\n",
              "    </tr>\n",
              "    <tr>\n",
              "      <th>max</th>\n",
              "      <td>77.000000</td>\n",
              "      <td>1.000000</td>\n",
              "      <td>4.000000</td>\n",
              "      <td>200.000000</td>\n",
              "      <td>564.000000</td>\n",
              "      <td>1.000000</td>\n",
              "      <td>2.000000</td>\n",
              "      <td>202.000000</td>\n",
              "      <td>1.000000</td>\n",
              "      <td>6.20000</td>\n",
              "      <td>3.000000</td>\n",
              "      <td>3.000000</td>\n",
              "      <td>7.000000</td>\n",
              "    </tr>\n",
              "  </tbody>\n",
              "</table>\n",
              "</div>\n",
              "      <button class=\"colab-df-convert\" onclick=\"convertToInteractive('df-49968f80-35d4-4ee9-bdee-c5b79abf69c3')\"\n",
              "              title=\"Convert this dataframe to an interactive table.\"\n",
              "              style=\"display:none;\">\n",
              "        \n",
              "  <svg xmlns=\"http://www.w3.org/2000/svg\" height=\"24px\"viewBox=\"0 0 24 24\"\n",
              "       width=\"24px\">\n",
              "    <path d=\"M0 0h24v24H0V0z\" fill=\"none\"/>\n",
              "    <path d=\"M18.56 5.44l.94 2.06.94-2.06 2.06-.94-2.06-.94-.94-2.06-.94 2.06-2.06.94zm-11 1L8.5 8.5l.94-2.06 2.06-.94-2.06-.94L8.5 2.5l-.94 2.06-2.06.94zm10 10l.94 2.06.94-2.06 2.06-.94-2.06-.94-.94-2.06-.94 2.06-2.06.94z\"/><path d=\"M17.41 7.96l-1.37-1.37c-.4-.4-.92-.59-1.43-.59-.52 0-1.04.2-1.43.59L10.3 9.45l-7.72 7.72c-.78.78-.78 2.05 0 2.83L4 21.41c.39.39.9.59 1.41.59.51 0 1.02-.2 1.41-.59l7.78-7.78 2.81-2.81c.8-.78.8-2.07 0-2.86zM5.41 20L4 18.59l7.72-7.72 1.47 1.35L5.41 20z\"/>\n",
              "  </svg>\n",
              "      </button>\n",
              "      \n",
              "  <style>\n",
              "    .colab-df-container {\n",
              "      display:flex;\n",
              "      flex-wrap:wrap;\n",
              "      gap: 12px;\n",
              "    }\n",
              "\n",
              "    .colab-df-convert {\n",
              "      background-color: #E8F0FE;\n",
              "      border: none;\n",
              "      border-radius: 50%;\n",
              "      cursor: pointer;\n",
              "      display: none;\n",
              "      fill: #1967D2;\n",
              "      height: 32px;\n",
              "      padding: 0 0 0 0;\n",
              "      width: 32px;\n",
              "    }\n",
              "\n",
              "    .colab-df-convert:hover {\n",
              "      background-color: #E2EBFA;\n",
              "      box-shadow: 0px 1px 2px rgba(60, 64, 67, 0.3), 0px 1px 3px 1px rgba(60, 64, 67, 0.15);\n",
              "      fill: #174EA6;\n",
              "    }\n",
              "\n",
              "    [theme=dark] .colab-df-convert {\n",
              "      background-color: #3B4455;\n",
              "      fill: #D2E3FC;\n",
              "    }\n",
              "\n",
              "    [theme=dark] .colab-df-convert:hover {\n",
              "      background-color: #434B5C;\n",
              "      box-shadow: 0px 1px 3px 1px rgba(0, 0, 0, 0.15);\n",
              "      filter: drop-shadow(0px 1px 2px rgba(0, 0, 0, 0.3));\n",
              "      fill: #FFFFFF;\n",
              "    }\n",
              "  </style>\n",
              "\n",
              "      <script>\n",
              "        const buttonEl =\n",
              "          document.querySelector('#df-49968f80-35d4-4ee9-bdee-c5b79abf69c3 button.colab-df-convert');\n",
              "        buttonEl.style.display =\n",
              "          google.colab.kernel.accessAllowed ? 'block' : 'none';\n",
              "\n",
              "        async function convertToInteractive(key) {\n",
              "          const element = document.querySelector('#df-49968f80-35d4-4ee9-bdee-c5b79abf69c3');\n",
              "          const dataTable =\n",
              "            await google.colab.kernel.invokeFunction('convertToInteractive',\n",
              "                                                     [key], {});\n",
              "          if (!dataTable) return;\n",
              "\n",
              "          const docLinkHtml = 'Like what you see? Visit the ' +\n",
              "            '<a target=\"_blank\" href=https://colab.research.google.com/notebooks/data_table.ipynb>data table notebook</a>'\n",
              "            + ' to learn more about interactive tables.';\n",
              "          element.innerHTML = '';\n",
              "          dataTable['output_type'] = 'display_data';\n",
              "          await google.colab.output.renderOutput(dataTable, element);\n",
              "          const docLink = document.createElement('div');\n",
              "          docLink.innerHTML = docLinkHtml;\n",
              "          element.appendChild(docLink);\n",
              "        }\n",
              "      </script>\n",
              "    </div>\n",
              "  </div>\n",
              "  "
            ]
          },
          "metadata": {},
          "execution_count": 3
        }
      ],
      "source": [
        "df.describe()"
      ]
    },
    {
      "cell_type": "code",
      "execution_count": null,
      "id": "0b693372",
      "metadata": {
        "execution": {
          "iopub.execute_input": "2022-09-16T11:22:53.938382Z",
          "iopub.status.busy": "2022-09-16T11:22:53.937956Z",
          "iopub.status.idle": "2022-09-16T11:22:53.955573Z",
          "shell.execute_reply": "2022-09-16T11:22:53.954527Z"
        },
        "papermill": {
          "duration": 0.038568,
          "end_time": "2022-09-16T11:22:53.958021",
          "exception": false,
          "start_time": "2022-09-16T11:22:53.919453",
          "status": "completed"
        },
        "tags": [],
        "colab": {
          "base_uri": "https://localhost:8080/"
        },
        "id": "0b693372",
        "outputId": "4cbd426d-4ba5-42ad-9b9f-9b9ba4f29c6f"
      },
      "outputs": [
        {
          "output_type": "stream",
          "name": "stdout",
          "text": [
            "<class 'pandas.core.frame.DataFrame'>\n",
            "RangeIndex: 270 entries, 0 to 269\n",
            "Data columns (total 14 columns):\n",
            " #   Column                   Non-Null Count  Dtype  \n",
            "---  ------                   --------------  -----  \n",
            " 0   Age                      270 non-null    int64  \n",
            " 1   Sex                      270 non-null    int64  \n",
            " 2   Chest pain type          270 non-null    int64  \n",
            " 3   BP                       270 non-null    int64  \n",
            " 4   Cholesterol              270 non-null    int64  \n",
            " 5   FBS over 120             270 non-null    int64  \n",
            " 6   EKG results              270 non-null    int64  \n",
            " 7   Max HR                   270 non-null    int64  \n",
            " 8   Exercise angina          270 non-null    int64  \n",
            " 9   ST depression            270 non-null    float64\n",
            " 10  Slope of ST              270 non-null    int64  \n",
            " 11  Number of vessels fluro  270 non-null    int64  \n",
            " 12  Thallium                 270 non-null    int64  \n",
            " 13  Heart Disease            270 non-null    object \n",
            "dtypes: float64(1), int64(12), object(1)\n",
            "memory usage: 29.7+ KB\n"
          ]
        }
      ],
      "source": [
        "df.info()"
      ]
    },
    {
      "cell_type": "code",
      "execution_count": null,
      "id": "6ead36ff",
      "metadata": {
        "execution": {
          "iopub.execute_input": "2022-09-16T11:22:53.994204Z",
          "iopub.status.busy": "2022-09-16T11:22:53.993777Z",
          "iopub.status.idle": "2022-09-16T11:22:54.001786Z",
          "shell.execute_reply": "2022-09-16T11:22:54.000489Z"
        },
        "papermill": {
          "duration": 0.028893,
          "end_time": "2022-09-16T11:22:54.004304",
          "exception": false,
          "start_time": "2022-09-16T11:22:53.975411",
          "status": "completed"
        },
        "tags": [],
        "colab": {
          "base_uri": "https://localhost:8080/"
        },
        "id": "6ead36ff",
        "outputId": "e0741088-53b1-4a35-dc24-c7078508f424"
      },
      "outputs": [
        {
          "output_type": "execute_result",
          "data": {
            "text/plain": [
              "array(['Age', 'Sex', 'Chest pain type', 'BP', 'Cholesterol',\n",
              "       'FBS over 120', 'EKG results', 'Max HR', 'Exercise angina',\n",
              "       'ST depression', 'Slope of ST', 'Number of vessels fluro',\n",
              "       'Thallium', 'Heart Disease'], dtype=object)"
            ]
          },
          "metadata": {},
          "execution_count": 5
        }
      ],
      "source": [
        "df.columns.values"
      ]
    },
    {
      "cell_type": "code",
      "execution_count": null,
      "id": "fbdf8811",
      "metadata": {
        "execution": {
          "iopub.execute_input": "2022-09-16T11:22:54.040878Z",
          "iopub.status.busy": "2022-09-16T11:22:54.040415Z",
          "iopub.status.idle": "2022-09-16T11:22:54.053949Z",
          "shell.execute_reply": "2022-09-16T11:22:54.052778Z"
        },
        "papermill": {
          "duration": 0.034918,
          "end_time": "2022-09-16T11:22:54.056659",
          "exception": false,
          "start_time": "2022-09-16T11:22:54.021741",
          "status": "completed"
        },
        "tags": [],
        "colab": {
          "base_uri": "https://localhost:8080/"
        },
        "id": "fbdf8811",
        "outputId": "91fad20a-f54b-4489-9d4d-b24cd9726a32"
      },
      "outputs": [
        {
          "output_type": "execute_result",
          "data": {
            "text/plain": [
              "Age                         41\n",
              "Sex                          2\n",
              "Chest pain type              4\n",
              "BP                          47\n",
              "Cholesterol                144\n",
              "FBS over 120                 2\n",
              "EKG results                  3\n",
              "Max HR                      90\n",
              "Exercise angina              2\n",
              "ST depression               39\n",
              "Slope of ST                  3\n",
              "Number of vessels fluro      4\n",
              "Thallium                     3\n",
              "Heart Disease                2\n",
              "dtype: int64"
            ]
          },
          "metadata": {},
          "execution_count": 6
        }
      ],
      "source": [
        "df.nunique()"
      ]
    },
    {
      "cell_type": "markdown",
      "id": "ecff97d4",
      "metadata": {
        "papermill": {
          "duration": 0.017716,
          "end_time": "2022-09-16T11:22:54.091925",
          "exception": false,
          "start_time": "2022-09-16T11:22:54.074209",
          "status": "completed"
        },
        "tags": [],
        "id": "ecff97d4"
      },
      "source": [
        "> # Initial Data Exploration"
      ]
    },
    {
      "cell_type": "markdown",
      "id": "a480ad56",
      "metadata": {
        "papermill": {
          "duration": 0.017014,
          "end_time": "2022-09-16T11:22:54.126336",
          "exception": false,
          "start_time": "2022-09-16T11:22:54.109322",
          "status": "completed"
        },
        "tags": [],
        "id": "a480ad56"
      },
      "source": [
        "Age"
      ]
    },
    {
      "cell_type": "code",
      "execution_count": null,
      "id": "6333ca20",
      "metadata": {
        "execution": {
          "iopub.execute_input": "2022-09-16T11:22:54.163207Z",
          "iopub.status.busy": "2022-09-16T11:22:54.162759Z",
          "iopub.status.idle": "2022-09-16T11:22:54.417265Z",
          "shell.execute_reply": "2022-09-16T11:22:54.415787Z"
        },
        "papermill": {
          "duration": 0.276259,
          "end_time": "2022-09-16T11:22:54.420073",
          "exception": false,
          "start_time": "2022-09-16T11:22:54.143814",
          "status": "completed"
        },
        "tags": [],
        "colab": {
          "base_uri": "https://localhost:8080/",
          "height": 308
        },
        "id": "6333ca20",
        "outputId": "0b184d8f-7630-4f10-86c5-4ad0b567c18f"
      },
      "outputs": [
        {
          "output_type": "display_data",
          "data": {
            "text/plain": [
              "<Figure size 432x288 with 1 Axes>"
            ],
            "image/png": "[encoded data removed]"
          },
          "metadata": {
            "needs_background": "light"
          }
        }
      ],
      "source": [
        "plt.suptitle('Age histogram', fontweight='heavy')\n",
        "plt.title('The age average is around 54')\n",
        "sns.histplot(data=df, x='Age')\n",
        "plt.show()"
      ]
    },
    {
      "cell_type": "markdown",
      "id": "2ff3ac75",
      "metadata": {
        "papermill": {
          "duration": 0.017091,
          "end_time": "2022-09-16T11:22:54.454894",
          "exception": false,
          "start_time": "2022-09-16T11:22:54.437803",
          "status": "completed"
        },
        "tags": [],
        "id": "2ff3ac75"
      },
      "source": [
        "Sex"
      ]
    },
    {
      "cell_type": "code",
      "execution_count": null,
      "id": "dc5ea6bd",
      "metadata": {
        "execution": {
          "iopub.execute_input": "2022-09-16T11:22:54.491675Z",
          "iopub.status.busy": "2022-09-16T11:22:54.491233Z",
          "iopub.status.idle": "2022-09-16T11:22:54.731471Z",
          "shell.execute_reply": "2022-09-16T11:22:54.730241Z"
        },
        "papermill": {
          "duration": 0.261907,
          "end_time": "2022-09-16T11:22:54.734279",
          "exception": false,
          "start_time": "2022-09-16T11:22:54.472372",
          "status": "completed"
        },
        "tags": [],
        "colab": {
          "base_uri": "https://localhost:8080/",
          "height": 439
        },
        "id": "dc5ea6bd",
        "outputId": "7c617cd8-5529-4af6-89f3-b36d9b76b749"
      },
      "outputs": [
        {
          "output_type": "display_data",
          "data": {
            "text/plain": [
              "<Figure size 720x360 with 2 Axes>"
            ],
            "image/png": "[encoded data removed]"
          },
          "metadata": {
            "needs_background": "light"
          }
        },
        {
          "output_type": "stream",
          "name": "stdout",
          "text": [
            "1    183\n",
            "0     87\n",
            "Name: Sex, dtype: int64\n",
            "It can be noticed that predictor (Gender) is imbalance\n"
          ]
        }
      ],
      "source": [
        "labels = ['Male', 'Female']\n",
        "order = df['Sex'].value_counts().index\n",
        "\n",
        "plt.figure(figsize=(10,5))\n",
        "plt.suptitle(\"Sex (Gender)\")\n",
        "\n",
        "plt.subplot(1,2,1)\n",
        "plt.title('Pie chart')\n",
        "plt.pie(df['Sex'].value_counts(), labels=labels, textprops={'fontsize':12})\n",
        "\n",
        "plt.subplot(1,2,2)\n",
        "plt.title('Count plot')\n",
        "sns.countplot(x='Sex', data=df, order=order)\n",
        "plt.xticks([0, 1], labels)\n",
        "\n",
        "plt.show()\n",
        "\n",
        "print(df['Sex'].value_counts())\n",
        "print(\"It can be noticed that predictor (Gender) is imbalance\")"
      ]
    },
    {
      "cell_type": "markdown",
      "id": "2b84f38a",
      "metadata": {
        "papermill": {
          "duration": 0.017579,
          "end_time": "2022-09-16T11:22:54.769864",
          "exception": false,
          "start_time": "2022-09-16T11:22:54.752285",
          "status": "completed"
        },
        "tags": [],
        "id": "2b84f38a"
      },
      "source": [
        "Chest pain type"
      ]
    },
    {
      "cell_type": "code",
      "execution_count": null,
      "id": "ed3f88a2",
      "metadata": {
        "execution": {
          "iopub.execute_input": "2022-09-16T11:22:54.808476Z",
          "iopub.status.busy": "2022-09-16T11:22:54.808057Z",
          "iopub.status.idle": "2022-09-16T11:22:55.061311Z",
          "shell.execute_reply": "2022-09-16T11:22:55.060085Z"
        },
        "papermill": {
          "duration": 0.275349,
          "end_time": "2022-09-16T11:22:55.063599",
          "exception": false,
          "start_time": "2022-09-16T11:22:54.788250",
          "status": "completed"
        },
        "tags": [],
        "colab": {
          "base_uri": "https://localhost:8080/",
          "height": 513
        },
        "id": "ed3f88a2",
        "outputId": "44c7926e-d2fc-4fe1-83d5-1e407a59e794"
      },
      "outputs": [
        {
          "output_type": "display_data",
          "data": {
            "text/plain": [
              "<Figure size 720x360 with 2 Axes>"
            ],
            "image/png": "[encoded data removed]"
          },
          "metadata": {
            "needs_background": "light"
          }
        },
        {
          "output_type": "execute_result",
          "data": {
            "text/plain": [
              "4    129\n",
              "3     79\n",
              "2     42\n",
              "1     20\n",
              "Name: Chest pain type, dtype: int64"
            ]
          },
          "metadata": {},
          "execution_count": 9
        }
      ],
      "source": [
        "labels = [\"typical angina\", \"atypical angina\", \"non-anginal pain\", \"asymptomatic\"]\n",
        "order = df['Chest pain type'].value_counts().index\n",
        "\n",
        "plt.figure(figsize=(10,5))\n",
        "plt.suptitle(\"Chest pain type\")\n",
        "\n",
        "plt.subplot(1,2,1)\n",
        "plt.title('Pie chart')\n",
        "plt.pie(df['Chest pain type'].value_counts(), textprops={'fontsize':12})\n",
        "plt.subplots_adjust(left=0.125)\n",
        "\n",
        "plt.subplot(1,2,2)\n",
        "plt.title('Count plot')\n",
        "sns.countplot(x='Chest pain type', data=df, order=order)\n",
        "plt.xticks([0,1,2,3], labels, rotation=45)\n",
        "\n",
        "plt.show()\n",
        "\n",
        "df['Chest pain type'].value_counts()"
      ]
    },
    {
      "cell_type": "markdown",
      "id": "16614d8c",
      "metadata": {
        "papermill": {
          "duration": 0.018486,
          "end_time": "2022-09-16T11:22:55.100977",
          "exception": false,
          "start_time": "2022-09-16T11:22:55.082491",
          "status": "completed"
        },
        "tags": [],
        "id": "16614d8c"
      },
      "source": [
        "Resting blood pressure - The average resting heart rate is 131.34. It can be observed that histogram is skewed to right side"
      ]
    },
    {
      "cell_type": "code",
      "execution_count": null,
      "id": "3ddb394c",
      "metadata": {
        "execution": {
          "iopub.execute_input": "2022-09-16T11:22:55.140770Z",
          "iopub.status.busy": "2022-09-16T11:22:55.139614Z",
          "iopub.status.idle": "2022-09-16T11:22:55.619797Z",
          "shell.execute_reply": "2022-09-16T11:22:55.618908Z"
        },
        "papermill": {
          "duration": 0.503088,
          "end_time": "2022-09-16T11:22:55.622841",
          "exception": false,
          "start_time": "2022-09-16T11:22:55.119753",
          "status": "completed"
        },
        "tags": [],
        "colab": {
          "base_uri": "https://localhost:8080/",
          "height": 387
        },
        "id": "3ddb394c",
        "outputId": "4492cfff-aaa6-4d2f-a2bc-c5a5aea324cb"
      },
      "outputs": [
        {
          "output_type": "display_data",
          "data": {
            "text/plain": [
              "<Figure size 720x360 with 2 Axes>"
            ],
            "image/png": "[encoded data removed]"
          },
          "metadata": {
            "needs_background": "light"
          }
        },
        {
          "output_type": "stream",
          "name": "stdout",
          "text": [
            "The average resting heart rate: 131.34 It can be observed that histogram is skewed to right side\n"
          ]
        }
      ],
      "source": [
        "plt.figure(figsize=(10,5))\n",
        "plt.suptitle(\"Resting blood pressure\")\n",
        "\n",
        "plt.subplot(1,2,1)\n",
        "plt.title('Box plot')\n",
        "sns.boxplot(x=\"BP\", data=df)\n",
        "sns.swarmplot(x=\"BP\", data=df, color=\".25\")\n",
        "\n",
        "plt.subplot(1,2,2)\n",
        "plt.title('Histogram')\n",
        "sns.histplot(x='BP', data=df)\n",
        "plt.show()\n",
        "\n",
        "print(\"The average resting heart rate: %2.2f It can be observed that histogram is skewed to right side\" % (df[\"BP\"].mean()))"
      ]
    },
    {
      "cell_type": "markdown",
      "id": "bcdf01b6",
      "metadata": {
        "papermill": {
          "duration": 0.018899,
          "end_time": "2022-09-16T11:22:55.661057",
          "exception": false,
          "start_time": "2022-09-16T11:22:55.642158",
          "status": "completed"
        },
        "tags": [],
        "id": "bcdf01b6"
      },
      "source": [
        "Cholesterol - histogram resemble a normal distribution"
      ]
    },
    {
      "cell_type": "code",
      "execution_count": null,
      "id": "4dec7222",
      "metadata": {
        "execution": {
          "iopub.execute_input": "2022-09-16T11:22:55.702124Z",
          "iopub.status.busy": "2022-09-16T11:22:55.701029Z",
          "iopub.status.idle": "2022-09-16T11:22:56.151601Z",
          "shell.execute_reply": "2022-09-16T11:22:56.150683Z"
        },
        "papermill": {
          "duration": 0.475549,
          "end_time": "2022-09-16T11:22:56.155968",
          "exception": false,
          "start_time": "2022-09-16T11:22:55.680419",
          "status": "completed"
        },
        "tags": [],
        "colab": {
          "base_uri": "https://localhost:8080/",
          "height": 387
        },
        "id": "4dec7222",
        "outputId": "5f902297-9511-4ee4-b2bf-e1a93e8859e4"
      },
      "outputs": [
        {
          "output_type": "display_data",
          "data": {
            "text/plain": [
              "<Figure size 720x360 with 2 Axes>"
            ],
            "image/png": "[encoded data removed]"
          },
          "metadata": {
            "needs_background": "light"
          }
        },
        {
          "output_type": "stream",
          "name": "stdout",
          "text": [
            "The average resting heart rate: 249.66. The shape of histogram resamble a normal distribution\n"
          ]
        }
      ],
      "source": [
        "plt.figure(figsize=(10,5))\n",
        "plt.suptitle(\"Cholesterol\")\n",
        "\n",
        "plt.subplot(1,2,1)\n",
        "plt.title('Box Plot')\n",
        "sns.boxplot(x=\"Cholesterol\", data=df)\n",
        "sns.swarmplot(x=\"Cholesterol\", data=df, color=\".25\")\n",
        "\n",
        "plt.subplot(1,2,2)\n",
        "plt.title('Histogram')\n",
        "sns.histplot(x='Cholesterol', data=df)\n",
        "plt.show()\n",
        "\n",
        "print(\"The average resting heart rate: %2.2f. The shape of histogram resamble a normal distribution\" % (df[\"Cholesterol\"].mean()))"
      ]
    },
    {
      "cell_type": "markdown",
      "id": "d6d45e66",
      "metadata": {
        "papermill": {
          "duration": 0.01949,
          "end_time": "2022-09-16T11:22:56.196516",
          "exception": false,
          "start_time": "2022-09-16T11:22:56.177026",
          "status": "completed"
        },
        "tags": [],
        "id": "d6d45e66"
      },
      "source": [
        "FBS over 120"
      ]
    },
    {
      "cell_type": "code",
      "execution_count": null,
      "id": "10d1e528",
      "metadata": {
        "execution": {
          "iopub.execute_input": "2022-09-16T11:22:56.238664Z",
          "iopub.status.busy": "2022-09-16T11:22:56.237519Z",
          "iopub.status.idle": "2022-09-16T11:22:56.457626Z",
          "shell.execute_reply": "2022-09-16T11:22:56.456512Z"
        },
        "papermill": {
          "duration": 0.243874,
          "end_time": "2022-09-16T11:22:56.460287",
          "exception": false,
          "start_time": "2022-09-16T11:22:56.216413",
          "status": "completed"
        },
        "tags": [],
        "colab": {
          "base_uri": "https://localhost:8080/",
          "height": 422
        },
        "id": "10d1e528",
        "outputId": "44cd3525-b6fd-4628-adad-a16ce7de12f2"
      },
      "outputs": [
        {
          "output_type": "display_data",
          "data": {
            "text/plain": [
              "<Figure size 720x360 with 2 Axes>"
            ],
            "image/png": "[encoded data removed]"
          },
          "metadata": {
            "needs_background": "light"
          }
        },
        {
          "output_type": "execute_result",
          "data": {
            "text/plain": [
              "0    230\n",
              "1     40\n",
              "Name: FBS over 120, dtype: int64"
            ]
          },
          "metadata": {},
          "execution_count": 12
        }
      ],
      "source": [
        "labels = [\"False\", 'True']\n",
        "order = df['FBS over 120'].value_counts().index\n",
        "\n",
        "plt.figure(figsize=(10,5))\n",
        "plt.suptitle(\"FBS over 120\")\n",
        "\n",
        "plt.subplot(1,2,1)\n",
        "plt.title('Pie chart')\n",
        "plt.pie(df['FBS over 120'].value_counts(), textprops={'fontsize':12})\n",
        "plt.subplots_adjust(left=0.125)\n",
        "\n",
        "plt.subplot(1,2,2)\n",
        "plt.title('Count plot')\n",
        "sns.countplot(x='FBS over 120', data=df, order=order)\n",
        "plt.xticks([0,1], labels=labels)\n",
        "\n",
        "plt.show()\n",
        "\n",
        "df['FBS over 120'].value_counts()"
      ]
    },
    {
      "cell_type": "markdown",
      "id": "def39a3c",
      "metadata": {
        "papermill": {
          "duration": 0.020009,
          "end_time": "2022-09-16T11:22:56.501193",
          "exception": false,
          "start_time": "2022-09-16T11:22:56.481184",
          "status": "completed"
        },
        "tags": [],
        "id": "def39a3c"
      },
      "source": [
        "EKG results"
      ]
    },
    {
      "cell_type": "code",
      "execution_count": null,
      "id": "881470be",
      "metadata": {
        "execution": {
          "iopub.execute_input": "2022-09-16T11:22:56.543350Z",
          "iopub.status.busy": "2022-09-16T11:22:56.542921Z",
          "iopub.status.idle": "2022-09-16T11:22:56.786092Z",
          "shell.execute_reply": "2022-09-16T11:22:56.784790Z"
        },
        "papermill": {
          "duration": 0.267128,
          "end_time": "2022-09-16T11:22:56.788546",
          "exception": false,
          "start_time": "2022-09-16T11:22:56.521418",
          "status": "completed"
        },
        "tags": [],
        "colab": {
          "base_uri": "https://localhost:8080/",
          "height": 439
        },
        "id": "881470be",
        "outputId": "5ec0f0e4-189c-4e5a-bdb7-d1c2e4ee48d1"
      },
      "outputs": [
        {
          "output_type": "display_data",
          "data": {
            "text/plain": [
              "<Figure size 720x360 with 2 Axes>"
            ],
            "image/png": "[encoded data removed]"
          },
          "metadata": {
            "needs_background": "light"
          }
        },
        {
          "output_type": "execute_result",
          "data": {
            "text/plain": [
              "2    137\n",
              "0    131\n",
              "1      2\n",
              "Name: EKG results, dtype: int64"
            ]
          },
          "metadata": {},
          "execution_count": 13
        }
      ],
      "source": [
        "labels = [\"normal\", 'aving ST-T wave abnormality', \"showing probable or definite left ventricular hypertrophy by Estes' criteria\"]\n",
        "order = df['EKG results'].value_counts().index\n",
        "\n",
        "plt.figure(figsize=(10,5))\n",
        "plt.suptitle(\"EKG results\")\n",
        "\n",
        "plt.subplot(1,2,1)\n",
        "plt.title('Pie chart')\n",
        "plt.pie(df['EKG results'].value_counts(), textprops={'fontsize':12})\n",
        "plt.subplots_adjust(left=0.125)\n",
        "\n",
        "plt.subplot(1,2,2)\n",
        "plt.title('Count plot')\n",
        "sns.countplot(x='EKG results', data=df, order=order)\n",
        "#plt.xticks([0,1,2], labels=labels, rotation=45)\n",
        "\n",
        "plt.show()\n",
        "\n",
        "df['EKG results'].value_counts()"
      ]
    },
    {
      "cell_type": "markdown",
      "id": "dc8c6845",
      "metadata": {
        "papermill": {
          "duration": 0.020471,
          "end_time": "2022-09-16T11:22:56.830341",
          "exception": false,
          "start_time": "2022-09-16T11:22:56.809870",
          "status": "completed"
        },
        "tags": [],
        "id": "dc8c6845"
      },
      "source": [
        "Max HR - histogram is slightly left skewed"
      ]
    },
    {
      "cell_type": "code",
      "execution_count": null,
      "id": "d04d4188",
      "metadata": {
        "execution": {
          "iopub.execute_input": "2022-09-16T11:22:56.874300Z",
          "iopub.status.busy": "2022-09-16T11:22:56.873887Z",
          "iopub.status.idle": "2022-09-16T11:22:57.289974Z",
          "shell.execute_reply": "2022-09-16T11:22:57.288777Z"
        },
        "papermill": {
          "duration": 0.441739,
          "end_time": "2022-09-16T11:22:57.293131",
          "exception": false,
          "start_time": "2022-09-16T11:22:56.851392",
          "status": "completed"
        },
        "tags": [],
        "colab": {
          "base_uri": "https://localhost:8080/",
          "height": 387
        },
        "id": "d04d4188",
        "outputId": "bb2b397c-12b8-4d6b-9666-c6d48ae1ff2e"
      },
      "outputs": [
        {
          "output_type": "display_data",
          "data": {
            "text/plain": [
              "<Figure size 720x360 with 2 Axes>"
            ],
            "image/png": "[encoded data removed]"
          },
          "metadata": {
            "needs_background": "light"
          }
        },
        {
          "output_type": "stream",
          "name": "stdout",
          "text": [
            "The max heart rate: 149.68 The histogram is slightly left skewed\n"
          ]
        }
      ],
      "source": [
        "plt.figure(figsize=(10,5))\n",
        "plt.suptitle(\"Max HR\")\n",
        "\n",
        "plt.subplot(1,2,1)\n",
        "plt.title('Pie chart')\n",
        "sns.boxplot(x=\"Max HR\", data=df)\n",
        "sns.swarmplot(x=\"Max HR\", data=df, color=\".25\")\n",
        "\n",
        "plt.subplot(1,2,2)\n",
        "plt.title('Histogram')\n",
        "sns.histplot(x='Max HR', data=df)\n",
        "plt.show()\n",
        "\n",
        "print(\"The max heart rate: %2.2f The histogram is slightly left skewed\" % (df[\"Max HR\"].mean()))"
      ]
    },
    {
      "cell_type": "markdown",
      "id": "fb002295",
      "metadata": {
        "papermill": {
          "duration": 0.021213,
          "end_time": "2022-09-16T11:22:57.337009",
          "exception": false,
          "start_time": "2022-09-16T11:22:57.315796",
          "status": "completed"
        },
        "tags": [],
        "id": "fb002295"
      },
      "source": [
        "Exercise angina\t"
      ]
    },
    {
      "cell_type": "code",
      "execution_count": null,
      "id": "880173a4",
      "metadata": {
        "execution": {
          "iopub.execute_input": "2022-09-16T11:22:57.382182Z",
          "iopub.status.busy": "2022-09-16T11:22:57.381697Z",
          "iopub.status.idle": "2022-09-16T11:22:57.611015Z",
          "shell.execute_reply": "2022-09-16T11:22:57.609791Z"
        },
        "papermill": {
          "duration": 0.254953,
          "end_time": "2022-09-16T11:22:57.613566",
          "exception": false,
          "start_time": "2022-09-16T11:22:57.358613",
          "status": "completed"
        },
        "tags": [],
        "colab": {
          "base_uri": "https://localhost:8080/",
          "height": 422
        },
        "id": "880173a4",
        "outputId": "9f286ec5-8386-40eb-8bfb-79d51c6dbd72"
      },
      "outputs": [
        {
          "output_type": "display_data",
          "data": {
            "text/plain": [
              "<Figure size 720x360 with 2 Axes>"
            ],
            "image/png": "[encoded data removed]"
          },
          "metadata": {
            "needs_background": "light"
          }
        },
        {
          "output_type": "execute_result",
          "data": {
            "text/plain": [
              "0    181\n",
              "1     89\n",
              "Name: Exercise angina, dtype: int64"
            ]
          },
          "metadata": {},
          "execution_count": 15
        }
      ],
      "source": [
        "labels = [\"False\", 'True']\n",
        "order = df['Exercise angina'].value_counts().index\n",
        "\n",
        "plt.figure(figsize=(10,5))\n",
        "plt.suptitle(\"Exercise angina\")\n",
        "\n",
        "plt.subplot(1,2,1)\n",
        "plt.title('Pie chart')\n",
        "plt.pie(df['Exercise angina'].value_counts(), textprops={'fontsize':12})\n",
        "plt.subplots_adjust(left=0.125)\n",
        "\n",
        "plt.subplot(1,2,2)\n",
        "plt.title('Count plot')\n",
        "sns.countplot(x='Exercise angina', data=df, order=order)\n",
        "plt.xticks([0,1], labels=labels)\n",
        "\n",
        "plt.show()\n",
        "\n",
        "df['Exercise angina'].value_counts()"
      ]
    },
    {
      "cell_type": "markdown",
      "id": "4430645b",
      "metadata": {
        "papermill": {
          "duration": 0.021544,
          "end_time": "2022-09-16T11:22:57.657659",
          "exception": false,
          "start_time": "2022-09-16T11:22:57.636115",
          "status": "completed"
        },
        "tags": [],
        "id": "4430645b"
      },
      "source": [
        "ST depression - histogram is left skewed. People are rather healthy"
      ]
    },
    {
      "cell_type": "code",
      "execution_count": null,
      "id": "6613fbc2",
      "metadata": {
        "execution": {
          "iopub.execute_input": "2022-09-16T11:22:57.706975Z",
          "iopub.status.busy": "2022-09-16T11:22:57.706525Z",
          "iopub.status.idle": "2022-09-16T11:22:58.007430Z",
          "shell.execute_reply": "2022-09-16T11:22:58.006087Z"
        },
        "papermill": {
          "duration": 0.331283,
          "end_time": "2022-09-16T11:22:58.011145",
          "exception": false,
          "start_time": "2022-09-16T11:22:57.679862",
          "status": "completed"
        },
        "tags": [],
        "colab": {
          "base_uri": "https://localhost:8080/",
          "height": 387
        },
        "id": "6613fbc2",
        "outputId": "058a1298-d2fb-4ddf-b6a5-5cf0bd83debd"
      },
      "outputs": [
        {
          "output_type": "display_data",
          "data": {
            "text/plain": [
              "<Figure size 720x360 with 2 Axes>"
            ],
            "image/png": "[encoded data removed]"
          },
          "metadata": {
            "needs_background": "light"
          }
        },
        {
          "output_type": "stream",
          "name": "stdout",
          "text": [
            "The ST depression average: 1.05 The histogram is left skewed\n"
          ]
        }
      ],
      "source": [
        "plt.figure(figsize=(10,5))\n",
        "plt.suptitle(\"ST depression\")\n",
        "\n",
        "plt.subplot(1,2,1)\n",
        "plt.title('Box plot')\n",
        "sns.boxplot(x=\"ST depression\", data=df)\n",
        "\n",
        "plt.subplot(1,2,2)\n",
        "plt.title('Histogram')\n",
        "sns.histplot(x='ST depression', data=df)\n",
        "plt.show()\n",
        "\n",
        "print(\"The ST depression average: %2.2f The histogram is left skewed\" % (df[\"ST depression\"].mean()))"
      ]
    },
    {
      "cell_type": "markdown",
      "id": "2a8cec30",
      "metadata": {
        "papermill": {
          "duration": 0.021908,
          "end_time": "2022-09-16T11:22:58.056363",
          "exception": false,
          "start_time": "2022-09-16T11:22:58.034455",
          "status": "completed"
        },
        "tags": [],
        "id": "2a8cec30"
      },
      "source": [
        "Slope of ST"
      ]
    },
    {
      "cell_type": "code",
      "execution_count": null,
      "id": "0d75ad63",
      "metadata": {
        "execution": {
          "iopub.execute_input": "2022-09-16T11:22:58.103982Z",
          "iopub.status.busy": "2022-09-16T11:22:58.102794Z",
          "iopub.status.idle": "2022-09-16T11:22:58.478799Z",
          "shell.execute_reply": "2022-09-16T11:22:58.477553Z"
        },
        "papermill": {
          "duration": 0.40241,
          "end_time": "2022-09-16T11:22:58.481071",
          "exception": false,
          "start_time": "2022-09-16T11:22:58.078661",
          "status": "completed"
        },
        "tags": [],
        "colab": {
          "base_uri": "https://localhost:8080/",
          "height": 439
        },
        "id": "0d75ad63",
        "outputId": "e03c72b7-c2ec-4fa8-e7ac-55aee487b1e9"
      },
      "outputs": [
        {
          "output_type": "display_data",
          "data": {
            "text/plain": [
              "<Figure size 720x360 with 2 Axes>"
            ],
            "image/png": "[encoded data removed]"
          },
          "metadata": {
            "needs_background": "light"
          }
        },
        {
          "output_type": "execute_result",
          "data": {
            "text/plain": [
              "1    130\n",
              "2    122\n",
              "3     18\n",
              "Name: Slope of ST, dtype: int64"
            ]
          },
          "metadata": {},
          "execution_count": 17
        }
      ],
      "source": [
        "labels = [\"1\", '2', '3']\n",
        "order = df['Slope of ST'].value_counts().index\n",
        "\n",
        "plt.figure(figsize=(10,5))\n",
        "plt.suptitle(\"Slope of ST\")\n",
        "\n",
        "plt.subplot(1,2,1)\n",
        "plt.title('Pie chart')\n",
        "plt.pie(df['Slope of ST'].value_counts(), textprops={'fontsize':12})\n",
        "plt.subplots_adjust(left=0.125)\n",
        "\n",
        "plt.subplot(1,2,2)\n",
        "plt.title('Count plot')\n",
        "sns.countplot(x='Slope of ST', data=df, order=order)\n",
        "plt.xticks([0,1,2], labels=labels)\n",
        "\n",
        "plt.show()\n",
        "\n",
        "df['Slope of ST'].value_counts()"
      ]
    },
    {
      "cell_type": "markdown",
      "id": "d0a3ee65",
      "metadata": {
        "papermill": {
          "duration": 0.022771,
          "end_time": "2022-09-16T11:22:58.526962",
          "exception": false,
          "start_time": "2022-09-16T11:22:58.504191",
          "status": "completed"
        },
        "tags": [],
        "id": "d0a3ee65"
      },
      "source": [
        "Number of vessels fluro"
      ]
    },
    {
      "cell_type": "code",
      "execution_count": null,
      "id": "4a72500f",
      "metadata": {
        "execution": {
          "iopub.execute_input": "2022-09-16T11:22:58.575359Z",
          "iopub.status.busy": "2022-09-16T11:22:58.574300Z",
          "iopub.status.idle": "2022-09-16T11:22:58.823372Z",
          "shell.execute_reply": "2022-09-16T11:22:58.822078Z"
        },
        "papermill": {
          "duration": 0.275704,
          "end_time": "2022-09-16T11:22:58.825585",
          "exception": false,
          "start_time": "2022-09-16T11:22:58.549881",
          "status": "completed"
        },
        "tags": [],
        "colab": {
          "base_uri": "https://localhost:8080/",
          "height": 457
        },
        "id": "4a72500f",
        "outputId": "5f4f06a3-165b-40f3-e5db-c84e93e662da"
      },
      "outputs": [
        {
          "output_type": "display_data",
          "data": {
            "text/plain": [
              "<Figure size 720x360 with 2 Axes>"
            ],
            "image/png": "[encoded data removed]"
          },
          "metadata": {
            "needs_background": "light"
          }
        },
        {
          "output_type": "execute_result",
          "data": {
            "text/plain": [
              "0    160\n",
              "1     58\n",
              "2     33\n",
              "3     19\n",
              "Name: Number of vessels fluro, dtype: int64"
            ]
          },
          "metadata": {},
          "execution_count": 18
        }
      ],
      "source": [
        "labels = [\"0\", '1', '2', \"3\"]\n",
        "order = df['Number of vessels fluro'].value_counts().index\n",
        "\n",
        "plt.figure(figsize=(10,5))\n",
        "plt.suptitle(\"Number of vessels fluro\")\n",
        "\n",
        "plt.subplot(1,2,1)\n",
        "plt.title('Pie chart')\n",
        "plt.pie(df['Number of vessels fluro'].value_counts(), textprops={'fontsize':12})\n",
        "plt.subplots_adjust(left=0.125)\n",
        "\n",
        "plt.subplot(1,2,2)\n",
        "plt.title('Count plot')\n",
        "sns.countplot(x='Number of vessels fluro', data=df, order=order)\n",
        "plt.xticks([0,1,2,3], labels=labels)\n",
        "\n",
        "plt.show()\n",
        "\n",
        "df['Number of vessels fluro'].value_counts()"
      ]
    },
    {
      "cell_type": "markdown",
      "id": "6ffd4817",
      "metadata": {
        "papermill": {
          "duration": 0.023197,
          "end_time": "2022-09-16T11:22:58.872022",
          "exception": false,
          "start_time": "2022-09-16T11:22:58.848825",
          "status": "completed"
        },
        "tags": [],
        "id": "6ffd4817"
      },
      "source": [
        "Thallium"
      ]
    },
    {
      "cell_type": "code",
      "execution_count": null,
      "id": "9aac13c8",
      "metadata": {
        "execution": {
          "iopub.execute_input": "2022-09-16T11:22:58.920861Z",
          "iopub.status.busy": "2022-09-16T11:22:58.919699Z",
          "iopub.status.idle": "2022-09-16T11:22:59.152604Z",
          "shell.execute_reply": "2022-09-16T11:22:59.151763Z"
        },
        "papermill": {
          "duration": 0.259464,
          "end_time": "2022-09-16T11:22:59.154697",
          "exception": false,
          "start_time": "2022-09-16T11:22:58.895233",
          "status": "completed"
        },
        "tags": [],
        "colab": {
          "base_uri": "https://localhost:8080/",
          "height": 439
        },
        "id": "9aac13c8",
        "outputId": "8d93e145-1995-41c8-dd25-57cc067654b9"
      },
      "outputs": [
        {
          "output_type": "display_data",
          "data": {
            "text/plain": [
              "<Figure size 720x360 with 2 Axes>"
            ],
            "image/png": "[encoded data removed]"
          },
          "metadata": {
            "needs_background": "light"
          }
        },
        {
          "output_type": "execute_result",
          "data": {
            "text/plain": [
              "3    152\n",
              "7    104\n",
              "6     14\n",
              "Name: Thallium, dtype: int64"
            ]
          },
          "metadata": {},
          "execution_count": 19
        }
      ],
      "source": [
        "labels = [\"3\", '7', '6']\n",
        "order = df['Thallium'].value_counts().index\n",
        "\n",
        "plt.figure(figsize=(10,5))\n",
        "plt.suptitle(\"Thallium\")\n",
        "\n",
        "plt.subplot(1,2,1)\n",
        "plt.title('Pie chart')\n",
        "plt.pie(df['Thallium'].value_counts(), textprops={'fontsize':12})\n",
        "plt.subplots_adjust(left=0.125)\n",
        "\n",
        "plt.subplot(1,2,2)\n",
        "plt.title('Count plot')\n",
        "sns.countplot(x='Thallium', data=df, order=order)\n",
        "plt.xticks([0,1,2], labels=labels)\n",
        "\n",
        "plt.show()\n",
        "\n",
        "df['Thallium'].value_counts()"
      ]
    },
    {
      "cell_type": "markdown",
      "id": "a8606d69",
      "metadata": {
        "papermill": {
          "duration": 0.023225,
          "end_time": "2022-09-16T11:22:59.201667",
          "exception": false,
          "start_time": "2022-09-16T11:22:59.178442",
          "status": "completed"
        },
        "tags": [],
        "id": "a8606d69"
      },
      "source": [
        "> # EDA - Esploratory Data Analysis"
      ]
    },
    {
      "cell_type": "markdown",
      "id": "51d60776",
      "metadata": {
        "papermill": {
          "duration": 0.023378,
          "end_time": "2022-09-16T11:22:59.248600",
          "exception": false,
          "start_time": "2022-09-16T11:22:59.225222",
          "status": "completed"
        },
        "tags": [],
        "id": "51d60776"
      },
      "source": [
        "Converting object targets to boolean"
      ]
    },
    {
      "cell_type": "code",
      "execution_count": null,
      "id": "6fb4c903",
      "metadata": {
        "execution": {
          "iopub.execute_input": "2022-09-16T11:22:59.298262Z",
          "iopub.status.busy": "2022-09-16T11:22:59.297213Z",
          "iopub.status.idle": "2022-09-16T11:22:59.304120Z",
          "shell.execute_reply": "2022-09-16T11:22:59.303205Z"
        },
        "papermill": {
          "duration": 0.034088,
          "end_time": "2022-09-16T11:22:59.306283",
          "exception": false,
          "start_time": "2022-09-16T11:22:59.272195",
          "status": "completed"
        },
        "tags": [],
        "id": "6fb4c903"
      },
      "outputs": [],
      "source": [
        "target = df['Heart Disease'].map({'Presence':1, 'Absence':0})\n",
        "inputs = df.drop(['Heart Disease'], axis=1)"
      ]
    },
    {
      "cell_type": "markdown",
      "id": "7dfcf2ac",
      "metadata": {
        "papermill": {
          "duration": 0.023901,
          "end_time": "2022-09-16T11:22:59.353919",
          "exception": false,
          "start_time": "2022-09-16T11:22:59.330018",
          "status": "completed"
        },
        "tags": [],
        "id": "7dfcf2ac"
      },
      "source": [
        "Correlation matrix - The 'Slope of ST' is highly linearly correlated with 'ST depression'"
      ]
    },
    {
      "cell_type": "code",
      "execution_count": null,
      "id": "92762525",
      "metadata": {
        "execution": {
          "iopub.execute_input": "2022-09-16T11:22:59.403439Z",
          "iopub.status.busy": "2022-09-16T11:22:59.402662Z",
          "iopub.status.idle": "2022-09-16T11:22:59.767092Z",
          "shell.execute_reply": "2022-09-16T11:22:59.765574Z"
        },
        "papermill": {
          "duration": 0.391933,
          "end_time": "2022-09-16T11:22:59.769663",
          "exception": false,
          "start_time": "2022-09-16T11:22:59.377730",
          "status": "completed"
        },
        "tags": [],
        "colab": {
          "base_uri": "https://localhost:8080/",
          "height": 403
        },
        "id": "92762525",
        "outputId": "659e6e72-d4cf-472d-bbc7-836dd22ebb85"
      },
      "outputs": [
        {
          "output_type": "display_data",
          "data": {
            "text/plain": [
              "<Figure size 432x288 with 2 Axes>"
            ],
            "image/png": "[encoded data removed]"
          },
          "metadata": {
            "needs_background": "light"
          }
        }
      ],
      "source": [
        "plt.suptitle(\"Correlation Map/Pearson correlation coefficient\")\n",
        "sns.heatmap(df.iloc[:,1:-1].corr())\n",
        "\n",
        "plt.show()"
      ]
    },
    {
      "cell_type": "markdown",
      "source": [
        "***Age Analysis***"
      ],
      "metadata": {
        "id": "85JdB7Vsy_Gl"
      },
      "id": "85JdB7Vsy_Gl"
    },
    {
      "cell_type": "code",
      "execution_count": null,
      "id": "14eeefba",
      "metadata": {
        "execution": {
          "iopub.execute_input": "2022-09-16T11:22:59.870867Z",
          "iopub.status.busy": "2022-09-16T11:22:59.870404Z",
          "iopub.status.idle": "2022-09-16T11:23:00.114699Z",
          "shell.execute_reply": "2022-09-16T11:23:00.113476Z"
        },
        "papermill": {
          "duration": 0.272745,
          "end_time": "2022-09-16T11:23:00.117180",
          "exception": false,
          "start_time": "2022-09-16T11:22:59.844435",
          "status": "completed"
        },
        "tags": [],
        "colab": {
          "base_uri": "https://localhost:8080/",
          "height": 308
        },
        "id": "14eeefba",
        "outputId": "e3327ae8-c21c-4065-c82b-5517b9243488"
      },
      "outputs": [
        {
          "output_type": "display_data",
          "data": {
            "text/plain": [
              "<Figure size 432x288 with 1 Axes>"
            ],
            "image/png": "[encoded data removed]"
          },
          "metadata": {
            "needs_background": "light"
          }
        }
      ],
      "source": [
        "plt.suptitle(\"Age\")\n",
        "sns.scatterplot(data=df, x='Age', y=np.zeros(len(df['Age'])), hue=target)\n",
        "plt.show()"
      ]
    },
    {
      "cell_type": "code",
      "source": [
        "data=df\n",
        "sns.barplot(x=data.Age.value_counts()[:10].index,y=data.Age.value_counts()[:10].values)\n",
        "plt.show()"
      ],
      "metadata": {
        "colab": {
          "base_uri": "https://localhost:8080/",
          "height": 265
        },
        "id": "UW9dBVspzFJI",
        "outputId": "eebcc0dc-5eb8-4333-f62e-ea9bfcafcede"
      },
      "id": "UW9dBVspzFJI",
      "execution_count": null,
      "outputs": [
        {
          "output_type": "display_data",
          "data": {
            "text/plain": [
              "<Figure size 432x288 with 1 Axes>"
            ],
            "image/png": "[encoded data removed]"
          },
          "metadata": {
            "needs_background": "light"
          }
        }
      ]
    },
    {
      "cell_type": "code",
      "source": [
        "minAge=min(data.Age)\n",
        "maxAge=max(data.Age)\n",
        "meanAge=data.Age.mean()\n",
        "print('Min Age :',minAge)\n",
        "print('Max Age :',maxAge)\n",
        "print('Mean Age :',meanAge)"
      ],
      "metadata": {
        "colab": {
          "base_uri": "https://localhost:8080/"
        },
        "id": "mihiNnLmzHgW",
        "outputId": "6fb68431-6df2-4f20-b9e8-213eb71a7f07"
      },
      "id": "mihiNnLmzHgW",
      "execution_count": null,
      "outputs": [
        {
          "output_type": "stream",
          "name": "stdout",
          "text": [
            "Min Age : 29\n",
            "Max Age : 77\n",
            "Mean Age : 54.43333333333333\n"
          ]
        }
      ]
    },
    {
      "cell_type": "markdown",
      "source": [
        "Dividing the Age feature into three parts - \"Young\", \"Middle\" and \"Elder\""
      ],
      "metadata": {
        "id": "HYbClqk-zMnG"
      },
      "id": "HYbClqk-zMnG"
    },
    {
      "cell_type": "code",
      "source": [
        "Young = data[(data.Age>=29)&(data.Age<40)]\n",
        "Middle = data[(data.Age>=40)&(data.Age<55)]\n",
        "Elder = data[(data.Age>55)]\n",
        "\n",
        "\n",
        "sns.set_context(font_scale = 1)\n",
        "sns.barplot(x=['young ages','middle ages','elderly ages'],y=[len(Young),len(Middle),len(Elder)])\n",
        "plt.show()"
      ],
      "metadata": {
        "colab": {
          "base_uri": "https://localhost:8080/",
          "height": 265
        },
        "id": "aSsepBbwzJq1",
        "outputId": "6522091a-a3ef-46ff-f250-20dd0e25a8cb"
      },
      "id": "aSsepBbwzJq1",
      "execution_count": null,
      "outputs": [
        {
          "output_type": "display_data",
          "data": {
            "text/plain": [
              "<Figure size 432x288 with 1 Axes>"
            ],
            "image/png": "[encoded data removed]"
          },
          "metadata": {
            "needs_background": "light"
          }
        }
      ]
    },
    {
      "cell_type": "markdown",
      "source": [
        "A large proportion of dataset contains Elder people.\n",
        "\n",
        "Elderly people are more likely to suffer from heart disease."
      ],
      "metadata": {
        "id": "rF5Xx23CzTvs"
      },
      "id": "rF5Xx23CzTvs"
    },
    {
      "cell_type": "code",
      "source": [
        "colors = ['blue','green','yellow']\n",
        "explode = [0,0,0.1]\n",
        "\n",
        "sns.set_context('notebook',font_scale = 1.2)\n",
        "plt.pie([len(Young),len(Middle),len(Elder)],labels=['young ages','middle ages','elderly ages'],explode=explode,colors=colors, autopct='%1.1f%%')\n",
        "plt.tight_layout()"
      ],
      "metadata": {
        "colab": {
          "base_uri": "https://localhost:8080/",
          "height": 287
        },
        "id": "XerlEMYZzc8R",
        "outputId": "0b728fd4-9a24-48c4-dfe8-0c0fd882ae01"
      },
      "id": "XerlEMYZzc8R",
      "execution_count": null,
      "outputs": [
        {
          "output_type": "display_data",
          "data": {
            "text/plain": [
              "<Figure size 432x288 with 1 Axes>"
            ],
            "image/png": "[encoded data removed]"
          },
          "metadata": {}
        }
      ]
    },
    {
      "cell_type": "markdown",
      "id": "d0a21518",
      "metadata": {
        "papermill": {
          "duration": 0.023659,
          "end_time": "2022-09-16T11:23:00.165119",
          "exception": false,
          "start_time": "2022-09-16T11:23:00.141460",
          "status": "completed"
        },
        "tags": [],
        "id": "d0a21518"
      },
      "source": [
        "***Sex Feature Analysis***"
      ]
    },
    {
      "cell_type": "code",
      "source": [
        "sns.set_context('notebook',font_scale=1.5)\n",
        "sns.countplot(data['Sex'])\n",
        "plt.show()"
      ],
      "metadata": {
        "colab": {
          "base_uri": "https://localhost:8080/",
          "height": 353
        },
        "id": "SZEyhy5yyxjw",
        "outputId": "a17bc6bc-14c4-4f90-cbae-2338379fb8ba"
      },
      "id": "SZEyhy5yyxjw",
      "execution_count": null,
      "outputs": [
        {
          "output_type": "stream",
          "name": "stderr",
          "text": [
            "/usr/local/lib/python3.7/dist-packages/seaborn/_decorators.py:43: FutureWarning: Pass the following variable as a keyword arg: x. From version 0.12, the only valid positional argument will be `data`, and passing other arguments without an explicit keyword will result in an error or misinterpretation.\n",
            "  FutureWarning\n"
          ]
        },
        {
          "output_type": "display_data",
          "data": {
            "text/plain": [
              "<Figure size 432x288 with 1 Axes>"
            ],
            "image/png": "[encoded data removed]"
          },
          "metadata": {
            "needs_background": "light"
          }
        }
      ]
    },
    {
      "cell_type": "markdown",
      "source": [
        "Ratio of Male to Female is approx 2:1"
      ],
      "metadata": {
        "id": "Mv9Cvib4zig9"
      },
      "id": "Mv9Cvib4zig9"
    },
    {
      "cell_type": "code",
      "execution_count": null,
      "id": "1f88e5be",
      "metadata": {
        "execution": {
          "iopub.execute_input": "2022-09-16T11:23:00.217440Z",
          "iopub.status.busy": "2022-09-16T11:23:00.216740Z",
          "iopub.status.idle": "2022-09-16T11:23:00.388921Z",
          "shell.execute_reply": "2022-09-16T11:23:00.387625Z"
        },
        "papermill": {
          "duration": 0.201805,
          "end_time": "2022-09-16T11:23:00.391296",
          "exception": false,
          "start_time": "2022-09-16T11:23:00.189491",
          "status": "completed"
        },
        "tags": [],
        "colab": {
          "base_uri": "https://localhost:8080/",
          "height": 298
        },
        "id": "1f88e5be",
        "outputId": "e1b201cb-7d87-4bc5-ae22-53a9864ec240"
      },
      "outputs": [
        {
          "output_type": "display_data",
          "data": {
            "text/plain": [
              "<Figure size 432x288 with 1 Axes>"
            ],
            "image/png": "[encoded data removed]"
          },
          "metadata": {
            "needs_background": "light"
          }
        }
      ],
      "source": [
        "ax = sns.countplot(x='Heart Disease', hue='Sex', data=df)\n",
        "legend_labels, _= ax.get_legend_handles_labels()\n",
        "ax.legend(legend_labels, ['Female','Male'], bbox_to_anchor=(1,1))\n",
        "plt.show()"
      ]
    },
    {
      "cell_type": "code",
      "source": [
        "sns.countplot(data['Sex'],hue=data[\"Slope of ST\"])\n",
        "plt.show()"
      ],
      "metadata": {
        "colab": {
          "base_uri": "https://localhost:8080/",
          "height": 353
        },
        "id": "N7Fs_W_TzoJ4",
        "outputId": "0c1f4c22-157a-4697-e873-2b287cd78325"
      },
      "id": "N7Fs_W_TzoJ4",
      "execution_count": null,
      "outputs": [
        {
          "output_type": "stream",
          "name": "stderr",
          "text": [
            "/usr/local/lib/python3.7/dist-packages/seaborn/_decorators.py:43: FutureWarning: Pass the following variable as a keyword arg: x. From version 0.12, the only valid positional argument will be `data`, and passing other arguments without an explicit keyword will result in an error or misinterpretation.\n",
            "  FutureWarning\n"
          ]
        },
        {
          "output_type": "display_data",
          "data": {
            "text/plain": [
              "<Figure size 432x288 with 1 Axes>"
            ],
            "image/png": "[encoded data removed]"
          },
          "metadata": {
            "needs_background": "light"
          }
        }
      ]
    },
    {
      "cell_type": "markdown",
      "source": [
        "***Chest Pain Type Analysis***"
      ],
      "metadata": {
        "id": "pCPPbXz_zrIf"
      },
      "id": "pCPPbXz_zrIf"
    },
    {
      "cell_type": "code",
      "source": [
        "sns.countplot(data['Chest pain type'])\n",
        "plt.show()"
      ],
      "metadata": {
        "colab": {
          "base_uri": "https://localhost:8080/",
          "height": 353
        },
        "id": "YU_mKbUzz4D5",
        "outputId": "e0b96c31-2a67-4b99-9390-60a1933ed15a"
      },
      "id": "YU_mKbUzz4D5",
      "execution_count": null,
      "outputs": [
        {
          "output_type": "stream",
          "name": "stderr",
          "text": [
            "/usr/local/lib/python3.7/dist-packages/seaborn/_decorators.py:43: FutureWarning: Pass the following variable as a keyword arg: x. From version 0.12, the only valid positional argument will be `data`, and passing other arguments without an explicit keyword will result in an error or misinterpretation.\n",
            "  FutureWarning\n"
          ]
        },
        {
          "output_type": "display_data",
          "data": {
            "text/plain": [
              "<Figure size 432x288 with 1 Axes>"
            ],
            "image/png": "[encoded data removed]"
          },
          "metadata": {
            "needs_background": "light"
          }
        }
      ]
    },
    {
      "cell_type": "markdown",
      "id": "f44c7aa9",
      "metadata": {
        "papermill": {
          "duration": 0.024131,
          "end_time": "2022-09-16T11:23:00.440177",
          "exception": false,
          "start_time": "2022-09-16T11:23:00.416046",
          "status": "completed"
        },
        "tags": [],
        "id": "f44c7aa9"
      },
      "source": [
        "Heart disease based on Chest pain type - 4th type of chest pain dominate in heart disease"
      ]
    },
    {
      "cell_type": "code",
      "execution_count": null,
      "id": "b8bcd789",
      "metadata": {
        "execution": {
          "iopub.execute_input": "2022-09-16T11:23:00.491050Z",
          "iopub.status.busy": "2022-09-16T11:23:00.490329Z",
          "iopub.status.idle": "2022-09-16T11:23:00.685034Z",
          "shell.execute_reply": "2022-09-16T11:23:00.683793Z"
        },
        "papermill": {
          "duration": 0.222858,
          "end_time": "2022-09-16T11:23:00.687385",
          "exception": false,
          "start_time": "2022-09-16T11:23:00.464527",
          "status": "completed"
        },
        "tags": [],
        "colab": {
          "base_uri": "https://localhost:8080/",
          "height": 327
        },
        "id": "b8bcd789",
        "outputId": "a16a466f-a5cd-4aae-a1f3-de6f5546add7"
      },
      "outputs": [
        {
          "output_type": "display_data",
          "data": {
            "text/plain": [
              "<Figure size 432x288 with 1 Axes>"
            ],
            "image/png": "[encoded data removed]"
          },
          "metadata": {
            "needs_background": "light"
          }
        }
      ],
      "source": [
        "plt.suptitle('Chest pain type vs Heart Disease')\n",
        "sns.countplot(data=df, x='Heart Disease', hue='Chest pain type')\n",
        "plt.show()"
      ]
    },
    {
      "cell_type": "code",
      "source": [
        "sns.countplot(data['Chest pain type'],hue=data[\"Sex\"])\n",
        "plt.show()"
      ],
      "metadata": {
        "colab": {
          "base_uri": "https://localhost:8080/",
          "height": 353
        },
        "id": "DvcFDrSgz81p",
        "outputId": "c9f1f22e-f048-4280-bfd8-bce8f97e02ea"
      },
      "id": "DvcFDrSgz81p",
      "execution_count": null,
      "outputs": [
        {
          "output_type": "stream",
          "name": "stderr",
          "text": [
            "/usr/local/lib/python3.7/dist-packages/seaborn/_decorators.py:43: FutureWarning: Pass the following variable as a keyword arg: x. From version 0.12, the only valid positional argument will be `data`, and passing other arguments without an explicit keyword will result in an error or misinterpretation.\n",
            "  FutureWarning\n"
          ]
        },
        {
          "output_type": "display_data",
          "data": {
            "text/plain": [
              "<Figure size 432x288 with 1 Axes>"
            ],
            "image/png": "[encoded data removed]"
          },
          "metadata": {
            "needs_background": "light"
          }
        }
      ]
    },
    {
      "cell_type": "markdown",
      "source": [
        "\n",
        "\n",
        "*   People having least chest pain are not likely to heart disease.\n",
        "*   People having severe chest pain are likely to heart disease\n",
        "\n"
      ],
      "metadata": {
        "id": "frql6wUS0YPe"
      },
      "id": "frql6wUS0YPe"
    },
    {
      "cell_type": "markdown",
      "id": "3b24badb",
      "metadata": {
        "papermill": {
          "duration": 0.024272,
          "end_time": "2022-09-16T11:23:00.736383",
          "exception": false,
          "start_time": "2022-09-16T11:23:00.712111",
          "status": "completed"
        },
        "tags": [],
        "id": "3b24badb"
      },
      "source": [
        "***Heart Disease based on BP*** - Persons with high BP have more chance to get heart disease"
      ]
    },
    {
      "cell_type": "code",
      "execution_count": null,
      "id": "9beda075",
      "metadata": {
        "execution": {
          "iopub.execute_input": "2022-09-16T11:23:00.787896Z",
          "iopub.status.busy": "2022-09-16T11:23:00.787444Z",
          "iopub.status.idle": "2022-09-16T11:23:01.203803Z",
          "shell.execute_reply": "2022-09-16T11:23:01.202595Z"
        },
        "papermill": {
          "duration": 0.445657,
          "end_time": "2022-09-16T11:23:01.206723",
          "exception": false,
          "start_time": "2022-09-16T11:23:00.761066",
          "status": "completed"
        },
        "tags": [],
        "colab": {
          "base_uri": "https://localhost:8080/",
          "height": 388
        },
        "id": "9beda075",
        "outputId": "5ca42e63-eec8-4e65-92a7-e1b91c279875"
      },
      "outputs": [
        {
          "output_type": "display_data",
          "data": {
            "text/plain": [
              "<Figure size 720x360 with 2 Axes>"
            ],
            "image/png": "[encoded data removed]"
          },
          "metadata": {
            "needs_background": "light"
          }
        }
      ],
      "source": [
        "plt.figure(figsize=(10,5))\n",
        "\n",
        "plt.subplot(1,2,1)\n",
        "plt.suptitle(\"BP\")\n",
        "sns.scatterplot(data=df, x='BP', y=np.zeros(len(df['BP'])), hue=target)\n",
        "\n",
        "plt.subplot(1,2,2)\n",
        "sns.scatterplot(data=df, x='BP', y='Age', hue=target)\n",
        "\n",
        "\n",
        "plt.show()"
      ]
    },
    {
      "cell_type": "markdown",
      "id": "e1f210a2",
      "metadata": {
        "papermill": {
          "duration": 0.036926,
          "end_time": "2022-09-16T11:23:01.281933",
          "exception": false,
          "start_time": "2022-09-16T11:23:01.245007",
          "status": "completed"
        },
        "tags": [],
        "id": "e1f210a2"
      },
      "source": [
        "***Cholesterol*** - Higer Cholesterol does not influence on heart disease"
      ]
    },
    {
      "cell_type": "code",
      "execution_count": null,
      "id": "2d402dd7",
      "metadata": {
        "execution": {
          "iopub.execute_input": "2022-09-16T11:23:01.358310Z",
          "iopub.status.busy": "2022-09-16T11:23:01.357480Z",
          "iopub.status.idle": "2022-09-16T11:23:01.597058Z",
          "shell.execute_reply": "2022-09-16T11:23:01.595840Z"
        },
        "papermill": {
          "duration": 0.280655,
          "end_time": "2022-09-16T11:23:01.599665",
          "exception": false,
          "start_time": "2022-09-16T11:23:01.319010",
          "status": "completed"
        },
        "tags": [],
        "colab": {
          "base_uri": "https://localhost:8080/",
          "height": 327
        },
        "id": "2d402dd7",
        "outputId": "c47f88ca-4264-4ba2-e008-a71388e8bb72"
      },
      "outputs": [
        {
          "output_type": "display_data",
          "data": {
            "text/plain": [
              "<Figure size 432x288 with 1 Axes>"
            ],
            "image/png": "[encoded data removed]"
          },
          "metadata": {
            "needs_background": "light"
          }
        }
      ],
      "source": [
        "plt.suptitle(\"Cholesterol\")\n",
        "sns.scatterplot(data=df, x='Cholesterol', y=np.zeros(len(df['Cholesterol'])), hue=target)\n",
        "plt.show()"
      ]
    },
    {
      "cell_type": "markdown",
      "id": "a27df3c0",
      "metadata": {
        "papermill": {
          "duration": 0.028881,
          "end_time": "2022-09-16T11:23:01.657654",
          "exception": false,
          "start_time": "2022-09-16T11:23:01.628773",
          "status": "completed"
        },
        "tags": [],
        "id": "a27df3c0"
      },
      "source": [
        "***FBS over 120*** - Also increased FBS over 120 does not imply on heart disease prediction"
      ]
    },
    {
      "cell_type": "code",
      "execution_count": null,
      "id": "1625c1c4",
      "metadata": {
        "execution": {
          "iopub.execute_input": "2022-09-16T11:23:01.712342Z",
          "iopub.status.busy": "2022-09-16T11:23:01.711560Z",
          "iopub.status.idle": "2022-09-16T11:23:01.892221Z",
          "shell.execute_reply": "2022-09-16T11:23:01.891036Z"
        },
        "papermill": {
          "duration": 0.211335,
          "end_time": "2022-09-16T11:23:01.895269",
          "exception": false,
          "start_time": "2022-09-16T11:23:01.683934",
          "status": "completed"
        },
        "tags": [],
        "colab": {
          "base_uri": "https://localhost:8080/",
          "height": 298
        },
        "id": "1625c1c4",
        "outputId": "cd5aca40-962e-472b-cc07-9af031fc4b5e"
      },
      "outputs": [
        {
          "output_type": "display_data",
          "data": {
            "text/plain": [
              "<Figure size 432x288 with 1 Axes>"
            ],
            "image/png": "[encoded data removed]"
          },
          "metadata": {
            "needs_background": "light"
          }
        }
      ],
      "source": [
        "ax = sns.countplot(x='Heart Disease', hue='FBS over 120', data=df)\n",
        "sns.set_context('notebook',font_scale = 0.5)\n",
        "plt.show()"
      ]
    },
    {
      "cell_type": "markdown",
      "id": "5a233122",
      "metadata": {
        "papermill": {
          "duration": 0.026393,
          "end_time": "2022-09-16T11:23:01.948017",
          "exception": false,
          "start_time": "2022-09-16T11:23:01.921624",
          "status": "completed"
        },
        "tags": [],
        "id": "5a233122"
      },
      "source": [
        "***EKG results*** - The 2nd value of EKG could influence on heart disease prediction"
      ]
    },
    {
      "cell_type": "code",
      "source": [
        "sns.countplot(data['EKG results'])\n",
        "plt.show()"
      ],
      "metadata": {
        "colab": {
          "base_uri": "https://localhost:8080/",
          "height": 327
        },
        "id": "gbElh2vr02ib",
        "outputId": "4baa0789-d326-4bde-b2f1-6e8c6d700782"
      },
      "id": "gbElh2vr02ib",
      "execution_count": null,
      "outputs": [
        {
          "output_type": "stream",
          "name": "stderr",
          "text": [
            "/usr/local/lib/python3.7/dist-packages/seaborn/_decorators.py:43: FutureWarning: Pass the following variable as a keyword arg: x. From version 0.12, the only valid positional argument will be `data`, and passing other arguments without an explicit keyword will result in an error or misinterpretation.\n",
            "  FutureWarning\n"
          ]
        },
        {
          "output_type": "display_data",
          "data": {
            "text/plain": [
              "<Figure size 432x288 with 1 Axes>"
            ],
            "image/png": "[encoded data removed]"
          },
          "metadata": {
            "needs_background": "light"
          }
        }
      ]
    },
    {
      "cell_type": "code",
      "execution_count": null,
      "id": "bc65a4f7",
      "metadata": {
        "execution": {
          "iopub.execute_input": "2022-09-16T11:23:02.003234Z",
          "iopub.status.busy": "2022-09-16T11:23:02.001848Z",
          "iopub.status.idle": "2022-09-16T11:23:02.204742Z",
          "shell.execute_reply": "2022-09-16T11:23:02.203785Z"
        },
        "papermill": {
          "duration": 0.232918,
          "end_time": "2022-09-16T11:23:02.207175",
          "exception": false,
          "start_time": "2022-09-16T11:23:01.974257",
          "status": "completed"
        },
        "tags": [],
        "colab": {
          "base_uri": "https://localhost:8080/",
          "height": 301
        },
        "id": "bc65a4f7",
        "outputId": "6b9177dc-7464-482d-af1a-adaf938d5bef"
      },
      "outputs": [
        {
          "output_type": "display_data",
          "data": {
            "text/plain": [
              "<Figure size 432x288 with 1 Axes>"
            ],
            "image/png": "[encoded data removed]"
          },
          "metadata": {
            "needs_background": "light"
          }
        }
      ],
      "source": [
        "plt.suptitle('EKG results vs Heart Disease')\n",
        "sns.countplot(data=df, x='Heart Disease', hue='EKG results')\n",
        "plt.show()"
      ]
    },
    {
      "cell_type": "markdown",
      "id": "ad52ef22",
      "metadata": {
        "papermill": {
          "duration": 0.027539,
          "end_time": "2022-09-16T11:23:02.261454",
          "exception": false,
          "start_time": "2022-09-16T11:23:02.233915",
          "status": "completed"
        },
        "tags": [],
        "id": "ad52ef22"
      },
      "source": [
        "***Max HR*** - From the below graph we can observe that people with lower HR max have a higher likelihood of heart disease than those with higher HR max. Furthermore, we can observe explicit cut of/threshold where below 120 HR max objects have a higher probability to have problem with heart."
      ]
    },
    {
      "cell_type": "code",
      "execution_count": null,
      "id": "cfed8c4c",
      "metadata": {
        "execution": {
          "iopub.execute_input": "2022-09-16T11:23:02.316681Z",
          "iopub.status.busy": "2022-09-16T11:23:02.315884Z",
          "iopub.status.idle": "2022-09-16T11:23:02.736391Z",
          "shell.execute_reply": "2022-09-16T11:23:02.735162Z"
        },
        "papermill": {
          "duration": 0.451087,
          "end_time": "2022-09-16T11:23:02.739057",
          "exception": false,
          "start_time": "2022-09-16T11:23:02.287970",
          "status": "completed"
        },
        "tags": [],
        "colab": {
          "base_uri": "https://localhost:8080/",
          "height": 362
        },
        "id": "cfed8c4c",
        "outputId": "c4390a4c-d37c-4895-8a1c-c80d6eff7ebc"
      },
      "outputs": [
        {
          "output_type": "display_data",
          "data": {
            "text/plain": [
              "<Figure size 720x360 with 2 Axes>"
            ],
            "image/png": "[encoded data removed]"
          },
          "metadata": {
            "needs_background": "light"
          }
        }
      ],
      "source": [
        "plt.figure(figsize=(10,5))\n",
        "\n",
        "plt.subplot(1,2,1)\n",
        "plt.suptitle(\"Max HR\")\n",
        "sns.scatterplot(data=df, x='Max HR', y=np.zeros(len(df['Max HR'])), hue=target)\n",
        "\n",
        "plt.subplot(1,2,2)\n",
        "sns.scatterplot(data=df, x='Max HR', y='Age', hue=target)\n",
        "\n",
        "plt.show()"
      ]
    },
    {
      "cell_type": "markdown",
      "id": "e135d511",
      "metadata": {
        "papermill": {
          "duration": 0.02697,
          "end_time": "2022-09-16T11:23:02.793178",
          "exception": false,
          "start_time": "2022-09-16T11:23:02.766208",
          "status": "completed"
        },
        "tags": [],
        "id": "e135d511"
      },
      "source": [
        "***Excercise angina*** - Chest pain after a high excercise intensity or stress can casues a presence of heart failure"
      ]
    },
    {
      "cell_type": "code",
      "execution_count": null,
      "id": "2db1f163",
      "metadata": {
        "execution": {
          "iopub.execute_input": "2022-09-16T11:23:02.850242Z",
          "iopub.status.busy": "2022-09-16T11:23:02.849487Z",
          "iopub.status.idle": "2022-09-16T11:23:03.032423Z",
          "shell.execute_reply": "2022-09-16T11:23:03.031448Z"
        },
        "papermill": {
          "duration": 0.214482,
          "end_time": "2022-09-16T11:23:03.034885",
          "exception": false,
          "start_time": "2022-09-16T11:23:02.820403",
          "status": "completed"
        },
        "tags": [],
        "colab": {
          "base_uri": "https://localhost:8080/",
          "height": 301
        },
        "id": "2db1f163",
        "outputId": "c3cc7390-c6ea-49d0-f026-77274e9d8b79"
      },
      "outputs": [
        {
          "output_type": "display_data",
          "data": {
            "text/plain": [
              "<Figure size 432x288 with 1 Axes>"
            ],
            "image/png": "[encoded data removed]"
          },
          "metadata": {
            "needs_background": "light"
          }
        }
      ],
      "source": [
        "plt.suptitle('Excercise angina vs Heart Disease')\n",
        "sns.countplot(data=df, x='Heart Disease', hue='Exercise angina')\n",
        "plt.show()"
      ]
    },
    {
      "cell_type": "markdown",
      "id": "ad5fdfc1",
      "metadata": {
        "papermill": {
          "duration": 0.026752,
          "end_time": "2022-09-16T11:23:03.089573",
          "exception": false,
          "start_time": "2022-09-16T11:23:03.062821",
          "status": "completed"
        },
        "tags": [],
        "id": "ad5fdfc1"
      },
      "source": [
        "***ST depression*** - Increased ST deprsesion increase heart disease. Nevetheless it can be observe on the bottom figure that males have higher probability of having depression."
      ]
    },
    {
      "cell_type": "code",
      "execution_count": null,
      "id": "808921db",
      "metadata": {
        "execution": {
          "iopub.execute_input": "2022-09-16T11:23:03.145789Z",
          "iopub.status.busy": "2022-09-16T11:23:03.145337Z",
          "iopub.status.idle": "2022-09-16T11:23:03.754364Z",
          "shell.execute_reply": "2022-09-16T11:23:03.753041Z"
        },
        "papermill": {
          "duration": 0.640335,
          "end_time": "2022-09-16T11:23:03.756917",
          "exception": false,
          "start_time": "2022-09-16T11:23:03.116582",
          "status": "completed"
        },
        "tags": [],
        "colab": {
          "base_uri": "https://localhost:8080/",
          "height": 662
        },
        "id": "808921db",
        "outputId": "daa40284-47b9-41b7-e981-d6073b654036"
      },
      "outputs": [
        {
          "output_type": "display_data",
          "data": {
            "text/plain": [
              "<Figure size 432x288 with 1 Axes>"
            ],
            "image/png": "[encoded data removed]"
          },
          "metadata": {
            "needs_background": "light"
          }
        },
        {
          "output_type": "display_data",
          "data": {
            "text/plain": [
              "<Figure size 360x360 with 1 Axes>"
            ],
            "image/png": "[encoded data removed]"
          },
          "metadata": {
            "needs_background": "light"
          }
        }
      ],
      "source": [
        "plt.suptitle(\"ST Depression\")\n",
        "sns.scatterplot(data=df, x='ST depression', y=np.zeros(len(df['ST depression'])), hue=target)\n",
        "\n",
        "\n",
        "ax = sns.catplot(x='Sex', y='ST depression', kind='box',  data = df)\n",
        "plt.show()"
      ]
    },
    {
      "cell_type": "markdown",
      "id": "74f3d3c9",
      "metadata": {
        "papermill": {
          "duration": 0.027428,
          "end_time": "2022-09-16T11:23:03.812212",
          "exception": false,
          "start_time": "2022-09-16T11:23:03.784784",
          "status": "completed"
        },
        "tags": [],
        "id": "74f3d3c9"
      },
      "source": [
        "***Slope of ST***"
      ]
    },
    {
      "cell_type": "code",
      "execution_count": null,
      "id": "acd5611f",
      "metadata": {
        "execution": {
          "iopub.execute_input": "2022-09-16T11:23:03.879039Z",
          "iopub.status.busy": "2022-09-16T11:23:03.878103Z",
          "iopub.status.idle": "2022-09-16T11:23:04.076578Z",
          "shell.execute_reply": "2022-09-16T11:23:04.075291Z"
        },
        "papermill": {
          "duration": 0.237904,
          "end_time": "2022-09-16T11:23:04.079024",
          "exception": false,
          "start_time": "2022-09-16T11:23:03.841120",
          "status": "completed"
        },
        "tags": [],
        "colab": {
          "base_uri": "https://localhost:8080/",
          "height": 301
        },
        "id": "acd5611f",
        "outputId": "bfc5c467-cdb3-4d9d-bd9a-95863486c15a"
      },
      "outputs": [
        {
          "output_type": "display_data",
          "data": {
            "text/plain": [
              "<Figure size 432x288 with 1 Axes>"
            ],
            "image/png": "[encoded data removed]"
          },
          "metadata": {
            "needs_background": "light"
          }
        }
      ],
      "source": [
        "plt.suptitle('Slope of ST vs Heart Disease')\n",
        "sns.countplot(data=df, x='Heart Disease', hue='Slope of ST')\n",
        "sns.set_context(font_scale = 1)\n",
        "plt.show()"
      ]
    },
    {
      "cell_type": "code",
      "source": [
        "sns.violinplot(x=\"Exercise angina\",y=\"Age\",data=data,palette=[\"r\", \"c\", \"y\"],hue=\"Thallium\")\n",
        "plt.show()"
      ],
      "metadata": {
        "colab": {
          "base_uri": "https://localhost:8080/",
          "height": 272
        },
        "id": "4SsGhTGV1VBA",
        "outputId": "1a594353-e84e-46e1-acb5-2a7d7d7d6521"
      },
      "id": "4SsGhTGV1VBA",
      "execution_count": null,
      "outputs": [
        {
          "output_type": "display_data",
          "data": {
            "text/plain": [
              "<Figure size 432x288 with 1 Axes>"
            ],
            "image/png": "[encoded data removed]"
          },
          "metadata": {
            "needs_background": "light"
          }
        }
      ]
    },
    {
      "cell_type": "markdown",
      "source": [
        "People with fixed defect are more likely to have heart disease."
      ],
      "metadata": {
        "id": "DOV4uwwg1xm8"
      },
      "id": "DOV4uwwg1xm8"
    },
    {
      "cell_type": "markdown",
      "id": "e092ce11",
      "metadata": {
        "papermill": {
          "duration": 0.027672,
          "end_time": "2022-09-16T11:23:04.135061",
          "exception": false,
          "start_time": "2022-09-16T11:23:04.107389",
          "status": "completed"
        },
        "tags": [],
        "id": "e092ce11"
      },
      "source": [
        "**Dummies variable**"
      ]
    },
    {
      "cell_type": "code",
      "execution_count": null,
      "id": "26f5ef13",
      "metadata": {
        "execution": {
          "iopub.execute_input": "2022-09-16T11:23:04.193386Z",
          "iopub.status.busy": "2022-09-16T11:23:04.192653Z",
          "iopub.status.idle": "2022-09-16T11:23:04.275343Z",
          "shell.execute_reply": "2022-09-16T11:23:04.274109Z"
        },
        "papermill": {
          "duration": 0.114504,
          "end_time": "2022-09-16T11:23:04.277612",
          "exception": false,
          "start_time": "2022-09-16T11:23:04.163108",
          "status": "completed"
        },
        "tags": [],
        "colab": {
          "base_uri": "https://localhost:8080/",
          "height": 771
        },
        "id": "26f5ef13",
        "outputId": "85c50efa-0b1b-431a-916d-88517992bc39"
      },
      "outputs": [
        {
          "output_type": "execute_result",
          "data": {
            "text/plain": [
              "                           count        mean        std    min    25%    50%  \\\n",
              "Age                        270.0   54.433333   9.109067   29.0   48.0   55.0   \n",
              "Sex                        270.0    0.677778   0.468195    0.0    0.0    1.0   \n",
              "Chest pain type            270.0    3.174074   0.950090    1.0    3.0    3.0   \n",
              "BP                         270.0  131.344444  17.861608   94.0  120.0  130.0   \n",
              "Cholesterol                270.0  249.659259  51.686237  126.0  213.0  245.0   \n",
              "FBS over 120               270.0    0.148148   0.355906    0.0    0.0    0.0   \n",
              "EKG results                270.0    1.022222   0.997891    0.0    0.0    2.0   \n",
              "Max HR                     270.0  149.677778  23.165717   71.0  133.0  153.5   \n",
              "Exercise angina            270.0    0.329630   0.470952    0.0    0.0    0.0   \n",
              "ST depression              270.0    1.050000   1.145210    0.0    0.0    0.8   \n",
              "Slope of ST                270.0    1.585185   0.614390    1.0    1.0    2.0   \n",
              "Number of vessels fluro    270.0    0.670370   0.943896    0.0    0.0    0.0   \n",
              "Thallium                   270.0    4.696296   1.940659    3.0    3.0    3.0   \n",
              "Chest pain type_2          270.0    0.155556   0.363107    0.0    0.0    0.0   \n",
              "Chest pain type_3          270.0    0.292593   0.455798    0.0    0.0    0.0   \n",
              "Chest pain type_4          270.0    0.477778   0.500434    0.0    0.0    0.0   \n",
              "EKG results_1              270.0    0.007407   0.085906    0.0    0.0    0.0   \n",
              "EKG results_2              270.0    0.507407   0.500874    0.0    0.0    1.0   \n",
              "Number of vessels fluro_1  270.0    0.214815   0.411456    0.0    0.0    0.0   \n",
              "Number of vessels fluro_2  270.0    0.122222   0.328151    0.0    0.0    0.0   \n",
              "Number of vessels fluro_3  270.0    0.070370   0.256245    0.0    0.0    0.0   \n",
              "Thallium_6                 270.0    0.051852   0.222140    0.0    0.0    0.0   \n",
              "Thallium_7                 270.0    0.385185   0.487543    0.0    0.0    0.0   \n",
              "\n",
              "                             75%    max  \n",
              "Age                         61.0   77.0  \n",
              "Sex                          1.0    1.0  \n",
              "Chest pain type              4.0    4.0  \n",
              "BP                         140.0  200.0  \n",
              "Cholesterol                280.0  564.0  \n",
              "FBS over 120                 0.0    1.0  \n",
              "EKG results                  2.0    2.0  \n",
              "Max HR                     166.0  202.0  \n",
              "Exercise angina              1.0    1.0  \n",
              "ST depression                1.6    6.2  \n",
              "Slope of ST                  2.0    3.0  \n",
              "Number of vessels fluro      1.0    3.0  \n",
              "Thallium                     7.0    7.0  \n",
              "Chest pain type_2            0.0    1.0  \n",
              "Chest pain type_3            1.0    1.0  \n",
              "Chest pain type_4            1.0    1.0  \n",
              "EKG results_1                0.0    1.0  \n",
              "EKG results_2                1.0    1.0  \n",
              "Number of vessels fluro_1    0.0    1.0  \n",
              "Number of vessels fluro_2    0.0    1.0  \n",
              "Number of vessels fluro_3    0.0    1.0  \n",
              "Thallium_6                   0.0    1.0  \n",
              "Thallium_7                   1.0    1.0  "
            ],
            "text/html": [
              "\n",
              "  <div id=\"df-f25eed11-3bf0-4ee9-aa9f-ba93bc4ad663\">\n",
              "    <div class=\"colab-df-container\">\n",
              "      <div>\n",
              "<style scoped>\n",
              "    .dataframe tbody tr th:only-of-type {\n",
              "        vertical-align: middle;\n",
              "    }\n",
              "\n",
              "    .dataframe tbody tr th {\n",
              "        vertical-align: top;\n",
              "    }\n",
              "\n",
              "    .dataframe thead th {\n",
              "        text-align: right;\n",
              "    }\n",
              "</style>\n",
              "<table border=\"1\" class=\"dataframe\">\n",
              "  <thead>\n",
              "    <tr style=\"text-align: right;\">\n",
              "      <th></th>\n",
              "      <th>count</th>\n",
              "      <th>mean</th>\n",
              "      <th>std</th>\n",
              "      <th>min</th>\n",
              "      <th>25%</th>\n",
              "      <th>50%</th>\n",
              "      <th>75%</th>\n",
              "      <th>max</th>\n",
              "    </tr>\n",
              "  </thead>\n",
              "  <tbody>\n",
              "    <tr>\n",
              "      <th>Age</th>\n",
              "      <td>270.0</td>\n",
              "      <td>54.433333</td>\n",
              "      <td>9.109067</td>\n",
              "      <td>29.0</td>\n",
              "      <td>48.0</td>\n",
              "      <td>55.0</td>\n",
              "      <td>61.0</td>\n",
              "      <td>77.0</td>\n",
              "    </tr>\n",
              "    <tr>\n",
              "      <th>Sex</th>\n",
              "      <td>270.0</td>\n",
              "      <td>0.677778</td>\n",
              "      <td>0.468195</td>\n",
              "      <td>0.0</td>\n",
              "      <td>0.0</td>\n",
              "      <td>1.0</td>\n",
              "      <td>1.0</td>\n",
              "      <td>1.0</td>\n",
              "    </tr>\n",
              "    <tr>\n",
              "      <th>Chest pain type</th>\n",
              "      <td>270.0</td>\n",
              "      <td>3.174074</td>\n",
              "      <td>0.950090</td>\n",
              "      <td>1.0</td>\n",
              "      <td>3.0</td>\n",
              "      <td>3.0</td>\n",
              "      <td>4.0</td>\n",
              "      <td>4.0</td>\n",
              "    </tr>\n",
              "    <tr>\n",
              "      <th>BP</th>\n",
              "      <td>270.0</td>\n",
              "      <td>131.344444</td>\n",
              "      <td>17.861608</td>\n",
              "      <td>94.0</td>\n",
              "      <td>120.0</td>\n",
              "      <td>130.0</td>\n",
              "      <td>140.0</td>\n",
              "      <td>200.0</td>\n",
              "    </tr>\n",
              "    <tr>\n",
              "      <th>Cholesterol</th>\n",
              "      <td>270.0</td>\n",
              "      <td>249.659259</td>\n",
              "      <td>51.686237</td>\n",
              "      <td>126.0</td>\n",
              "      <td>213.0</td>\n",
              "      <td>245.0</td>\n",
              "      <td>280.0</td>\n",
              "      <td>564.0</td>\n",
              "    </tr>\n",
              "    <tr>\n",
              "      <th>FBS over 120</th>\n",
              "      <td>270.0</td>\n",
              "      <td>0.148148</td>\n",
              "      <td>0.355906</td>\n",
              "      <td>0.0</td>\n",
              "      <td>0.0</td>\n",
              "      <td>0.0</td>\n",
              "      <td>0.0</td>\n",
              "      <td>1.0</td>\n",
              "    </tr>\n",
              "    <tr>\n",
              "      <th>EKG results</th>\n",
              "      <td>270.0</td>\n",
              "      <td>1.022222</td>\n",
              "      <td>0.997891</td>\n",
              "      <td>0.0</td>\n",
              "      <td>0.0</td>\n",
              "      <td>2.0</td>\n",
              "      <td>2.0</td>\n",
              "      <td>2.0</td>\n",
              "    </tr>\n",
              "    <tr>\n",
              "      <th>Max HR</th>\n",
              "      <td>270.0</td>\n",
              "      <td>149.677778</td>\n",
              "      <td>23.165717</td>\n",
              "      <td>71.0</td>\n",
              "      <td>133.0</td>\n",
              "      <td>153.5</td>\n",
              "      <td>166.0</td>\n",
              "      <td>202.0</td>\n",
              "    </tr>\n",
              "    <tr>\n",
              "      <th>Exercise angina</th>\n",
              "      <td>270.0</td>\n",
              "      <td>0.329630</td>\n",
              "      <td>0.470952</td>\n",
              "      <td>0.0</td>\n",
              "      <td>0.0</td>\n",
              "      <td>0.0</td>\n",
              "      <td>1.0</td>\n",
              "      <td>1.0</td>\n",
              "    </tr>\n",
              "    <tr>\n",
              "      <th>ST depression</th>\n",
              "      <td>270.0</td>\n",
              "      <td>1.050000</td>\n",
              "      <td>1.145210</td>\n",
              "      <td>0.0</td>\n",
              "      <td>0.0</td>\n",
              "      <td>0.8</td>\n",
              "      <td>1.6</td>\n",
              "      <td>6.2</td>\n",
              "    </tr>\n",
              "    <tr>\n",
              "      <th>Slope of ST</th>\n",
              "      <td>270.0</td>\n",
              "      <td>1.585185</td>\n",
              "      <td>0.614390</td>\n",
              "      <td>1.0</td>\n",
              "      <td>1.0</td>\n",
              "      <td>2.0</td>\n",
              "      <td>2.0</td>\n",
              "      <td>3.0</td>\n",
              "    </tr>\n",
              "    <tr>\n",
              "      <th>Number of vessels fluro</th>\n",
              "      <td>270.0</td>\n",
              "      <td>0.670370</td>\n",
              "      <td>0.943896</td>\n",
              "      <td>0.0</td>\n",
              "      <td>0.0</td>\n",
              "      <td>0.0</td>\n",
              "      <td>1.0</td>\n",
              "      <td>3.0</td>\n",
              "    </tr>\n",
              "    <tr>\n",
              "      <th>Thallium</th>\n",
              "      <td>270.0</td>\n",
              "      <td>4.696296</td>\n",
              "      <td>1.940659</td>\n",
              "      <td>3.0</td>\n",
              "      <td>3.0</td>\n",
              "      <td>3.0</td>\n",
              "      <td>7.0</td>\n",
              "      <td>7.0</td>\n",
              "    </tr>\n",
              "    <tr>\n",
              "      <th>Chest pain type_2</th>\n",
              "      <td>270.0</td>\n",
              "      <td>0.155556</td>\n",
              "      <td>0.363107</td>\n",
              "      <td>0.0</td>\n",
              "      <td>0.0</td>\n",
              "      <td>0.0</td>\n",
              "      <td>0.0</td>\n",
              "      <td>1.0</td>\n",
              "    </tr>\n",
              "    <tr>\n",
              "      <th>Chest pain type_3</th>\n",
              "      <td>270.0</td>\n",
              "      <td>0.292593</td>\n",
              "      <td>0.455798</td>\n",
              "      <td>0.0</td>\n",
              "      <td>0.0</td>\n",
              "      <td>0.0</td>\n",
              "      <td>1.0</td>\n",
              "      <td>1.0</td>\n",
              "    </tr>\n",
              "    <tr>\n",
              "      <th>Chest pain type_4</th>\n",
              "      <td>270.0</td>\n",
              "      <td>0.477778</td>\n",
              "      <td>0.500434</td>\n",
              "      <td>0.0</td>\n",
              "      <td>0.0</td>\n",
              "      <td>0.0</td>\n",
              "      <td>1.0</td>\n",
              "      <td>1.0</td>\n",
              "    </tr>\n",
              "    <tr>\n",
              "      <th>EKG results_1</th>\n",
              "      <td>270.0</td>\n",
              "      <td>0.007407</td>\n",
              "      <td>0.085906</td>\n",
              "      <td>0.0</td>\n",
              "      <td>0.0</td>\n",
              "      <td>0.0</td>\n",
              "      <td>0.0</td>\n",
              "      <td>1.0</td>\n",
              "    </tr>\n",
              "    <tr>\n",
              "      <th>EKG results_2</th>\n",
              "      <td>270.0</td>\n",
              "      <td>0.507407</td>\n",
              "      <td>0.500874</td>\n",
              "      <td>0.0</td>\n",
              "      <td>0.0</td>\n",
              "      <td>1.0</td>\n",
              "      <td>1.0</td>\n",
              "      <td>1.0</td>\n",
              "    </tr>\n",
              "    <tr>\n",
              "      <th>Number of vessels fluro_1</th>\n",
              "      <td>270.0</td>\n",
              "      <td>0.214815</td>\n",
              "      <td>0.411456</td>\n",
              "      <td>0.0</td>\n",
              "      <td>0.0</td>\n",
              "      <td>0.0</td>\n",
              "      <td>0.0</td>\n",
              "      <td>1.0</td>\n",
              "    </tr>\n",
              "    <tr>\n",
              "      <th>Number of vessels fluro_2</th>\n",
              "      <td>270.0</td>\n",
              "      <td>0.122222</td>\n",
              "      <td>0.328151</td>\n",
              "      <td>0.0</td>\n",
              "      <td>0.0</td>\n",
              "      <td>0.0</td>\n",
              "      <td>0.0</td>\n",
              "      <td>1.0</td>\n",
              "    </tr>\n",
              "    <tr>\n",
              "      <th>Number of vessels fluro_3</th>\n",
              "      <td>270.0</td>\n",
              "      <td>0.070370</td>\n",
              "      <td>0.256245</td>\n",
              "      <td>0.0</td>\n",
              "      <td>0.0</td>\n",
              "      <td>0.0</td>\n",
              "      <td>0.0</td>\n",
              "      <td>1.0</td>\n",
              "    </tr>\n",
              "    <tr>\n",
              "      <th>Thallium_6</th>\n",
              "      <td>270.0</td>\n",
              "      <td>0.051852</td>\n",
              "      <td>0.222140</td>\n",
              "      <td>0.0</td>\n",
              "      <td>0.0</td>\n",
              "      <td>0.0</td>\n",
              "      <td>0.0</td>\n",
              "      <td>1.0</td>\n",
              "    </tr>\n",
              "    <tr>\n",
              "      <th>Thallium_7</th>\n",
              "      <td>270.0</td>\n",
              "      <td>0.385185</td>\n",
              "      <td>0.487543</td>\n",
              "      <td>0.0</td>\n",
              "      <td>0.0</td>\n",
              "      <td>0.0</td>\n",
              "      <td>1.0</td>\n",
              "      <td>1.0</td>\n",
              "    </tr>\n",
              "  </tbody>\n",
              "</table>\n",
              "</div>\n",
              "      <button class=\"colab-df-convert\" onclick=\"convertToInteractive('df-f25eed11-3bf0-4ee9-aa9f-ba93bc4ad663')\"\n",
              "              title=\"Convert this dataframe to an interactive table.\"\n",
              "              style=\"display:none;\">\n",
              "        \n",
              "  <svg xmlns=\"http://www.w3.org/2000/svg\" height=\"24px\"viewBox=\"0 0 24 24\"\n",
              "       width=\"24px\">\n",
              "    <path d=\"M0 0h24v24H0V0z\" fill=\"none\"/>\n",
              "    <path d=\"M18.56 5.44l.94 2.06.94-2.06 2.06-.94-2.06-.94-.94-2.06-.94 2.06-2.06.94zm-11 1L8.5 8.5l.94-2.06 2.06-.94-2.06-.94L8.5 2.5l-.94 2.06-2.06.94zm10 10l.94 2.06.94-2.06 2.06-.94-2.06-.94-.94-2.06-.94 2.06-2.06.94z\"/><path d=\"M17.41 7.96l-1.37-1.37c-.4-.4-.92-.59-1.43-.59-.52 0-1.04.2-1.43.59L10.3 9.45l-7.72 7.72c-.78.78-.78 2.05 0 2.83L4 21.41c.39.39.9.59 1.41.59.51 0 1.02-.2 1.41-.59l7.78-7.78 2.81-2.81c.8-.78.8-2.07 0-2.86zM5.41 20L4 18.59l7.72-7.72 1.47 1.35L5.41 20z\"/>\n",
              "  </svg>\n",
              "      </button>\n",
              "      \n",
              "  <style>\n",
              "    .colab-df-container {\n",
              "      display:flex;\n",
              "      flex-wrap:wrap;\n",
              "      gap: 12px;\n",
              "    }\n",
              "\n",
              "    .colab-df-convert {\n",
              "      background-color: #E8F0FE;\n",
              "      border: none;\n",
              "      border-radius: 50%;\n",
              "      cursor: pointer;\n",
              "      display: none;\n",
              "      fill: #1967D2;\n",
              "      height: 32px;\n",
              "      padding: 0 0 0 0;\n",
              "      width: 32px;\n",
              "    }\n",
              "\n",
              "    .colab-df-convert:hover {\n",
              "      background-color: #E2EBFA;\n",
              "      box-shadow: 0px 1px 2px rgba(60, 64, 67, 0.3), 0px 1px 3px 1px rgba(60, 64, 67, 0.15);\n",
              "      fill: #174EA6;\n",
              "    }\n",
              "\n",
              "    [theme=dark] .colab-df-convert {\n",
              "      background-color: #3B4455;\n",
              "      fill: #D2E3FC;\n",
              "    }\n",
              "\n",
              "    [theme=dark] .colab-df-convert:hover {\n",
              "      background-color: #434B5C;\n",
              "      box-shadow: 0px 1px 3px 1px rgba(0, 0, 0, 0.15);\n",
              "      filter: drop-shadow(0px 1px 2px rgba(0, 0, 0, 0.3));\n",
              "      fill: #FFFFFF;\n",
              "    }\n",
              "  </style>\n",
              "\n",
              "      <script>\n",
              "        const buttonEl =\n",
              "          document.querySelector('#df-f25eed11-3bf0-4ee9-aa9f-ba93bc4ad663 button.colab-df-convert');\n",
              "        buttonEl.style.display =\n",
              "          google.colab.kernel.accessAllowed ? 'block' : 'none';\n",
              "\n",
              "        async function convertToInteractive(key) {\n",
              "          const element = document.querySelector('#df-f25eed11-3bf0-4ee9-aa9f-ba93bc4ad663');\n",
              "          const dataTable =\n",
              "            await google.colab.kernel.invokeFunction('convertToInteractive',\n",
              "                                                     [key], {});\n",
              "          if (!dataTable) return;\n",
              "\n",
              "          const docLinkHtml = 'Like what you see? Visit the ' +\n",
              "            '<a target=\"_blank\" href=https://colab.research.google.com/notebooks/data_table.ipynb>data table notebook</a>'\n",
              "            + ' to learn more about interactive tables.';\n",
              "          element.innerHTML = '';\n",
              "          dataTable['output_type'] = 'display_data';\n",
              "          await google.colab.output.renderOutput(dataTable, element);\n",
              "          const docLink = document.createElement('div');\n",
              "          docLink.innerHTML = docLinkHtml;\n",
              "          element.appendChild(docLink);\n",
              "        }\n",
              "      </script>\n",
              "    </div>\n",
              "  </div>\n",
              "  "
            ]
          },
          "metadata": {},
          "execution_count": 43
        }
      ],
      "source": [
        "Chest_pain_type = pd.get_dummies(df['Chest pain type'], prefix='Chest pain type', drop_first=True)\n",
        "EKG_results = pd.get_dummies(df['EKG results'], prefix='EKG results', drop_first=True)\n",
        "Number_of_vessels_fluro = pd.get_dummies(df['Number of vessels fluro'], prefix='Number of vessels fluro', drop_first=True)\n",
        "Thallium = pd.get_dummies(df['Thallium'], prefix='Thallium', drop_first=True)\n",
        "\n",
        "frames = [df, Chest_pain_type, EKG_results, Number_of_vessels_fluro, Thallium]\n",
        "df = pd.concat(frames, axis=1)\n",
        "\n",
        "df.drop(columns = ['Chest pain type', 'EKG results', 'Number of vessels fluro', 'Thallium', 'Slope of ST'])\n",
        "\n",
        "target = df['Heart Disease'].map({'Presence':1, 'Absence':0})\n",
        "inputs = df.drop(['Heart Disease'], axis=1)\n",
        "\n",
        "df.describe().T"
      ]
    },
    {
      "cell_type": "markdown",
      "id": "5fbfe203",
      "metadata": {
        "papermill": {
          "duration": 0.028089,
          "end_time": "2022-09-16T11:23:04.334183",
          "exception": false,
          "start_time": "2022-09-16T11:23:04.306094",
          "status": "completed"
        },
        "tags": [],
        "id": "5fbfe203"
      },
      "source": [
        "**Balancing the dataset with standarization**"
      ]
    },
    {
      "cell_type": "code",
      "execution_count": null,
      "id": "3b767da1",
      "metadata": {
        "execution": {
          "iopub.execute_input": "2022-09-16T11:23:04.393382Z",
          "iopub.status.busy": "2022-09-16T11:23:04.392674Z",
          "iopub.status.idle": "2022-09-16T11:23:04.402240Z",
          "shell.execute_reply": "2022-09-16T11:23:04.400785Z"
        },
        "papermill": {
          "duration": 0.042079,
          "end_time": "2022-09-16T11:23:04.404759",
          "exception": false,
          "start_time": "2022-09-16T11:23:04.362680",
          "status": "completed"
        },
        "tags": [],
        "colab": {
          "base_uri": "https://localhost:8080/"
        },
        "id": "3b767da1",
        "outputId": "d9e2a171-59a4-4a9e-ca52-6b792b888834"
      },
      "outputs": [
        {
          "output_type": "stream",
          "name": "stdout",
          "text": [
            "Indices before balancing data: 270\n",
            "Idices to delete: 30\n"
          ]
        }
      ],
      "source": [
        "one_target = int(np.sum(target))\n",
        "zero_counter = 0\n",
        "indices_to_remove = []\n",
        "\n",
        "for i in range(target.shape[0]):\n",
        "  if target[i] == 0:\n",
        "    zero_counter += 1\n",
        "    if zero_counter > one_target:\n",
        "      indices_to_remove.append(i)\n",
        "\n",
        "print(\"Indices before balancing data:\", target.shape[0])\n",
        "print(\"Idices to delete:\", len(indices_to_remove))"
      ]
    },
    {
      "cell_type": "code",
      "execution_count": null,
      "id": "e17e3edd",
      "metadata": {
        "execution": {
          "iopub.execute_input": "2022-09-16T11:23:04.464363Z",
          "iopub.status.busy": "2022-09-16T11:23:04.463961Z",
          "iopub.status.idle": "2022-09-16T11:23:04.489062Z",
          "shell.execute_reply": "2022-09-16T11:23:04.487456Z"
        },
        "papermill": {
          "duration": 0.057755,
          "end_time": "2022-09-16T11:23:04.491184",
          "exception": false,
          "start_time": "2022-09-16T11:23:04.433429",
          "status": "completed"
        },
        "tags": [],
        "colab": {
          "base_uri": "https://localhost:8080/",
          "height": 386
        },
        "id": "e17e3edd",
        "outputId": "67412c4b-73ed-4785-b4ba-4797ca7e5cce"
      },
      "outputs": [
        {
          "output_type": "stream",
          "name": "stdout",
          "text": [
            "Inputs after balancing data: 240\n",
            "Targets after balancing data: 240\n"
          ]
        },
        {
          "output_type": "execute_result",
          "data": {
            "text/plain": [
              "   Age  Sex  Chest pain type   BP  Cholesterol  FBS over 120  EKG results  \\\n",
              "0   70    1                4  130          322             0            2   \n",
              "1   67    0                3  115          564             0            2   \n",
              "2   57    1                2  124          261             0            0   \n",
              "3   64    1                4  128          263             0            0   \n",
              "4   74    0                2  120          269             0            2   \n",
              "\n",
              "   Max HR  Exercise angina  ST depression  ...  Chest pain type_2  \\\n",
              "0     109                0            2.4  ...                  0   \n",
              "1     160                0            1.6  ...                  0   \n",
              "2     141                0            0.3  ...                  1   \n",
              "3     105                1            0.2  ...                  0   \n",
              "4     121                1            0.2  ...                  1   \n",
              "\n",
              "   Chest pain type_3  Chest pain type_4  EKG results_1  EKG results_2  \\\n",
              "0                  0                  1              0              1   \n",
              "1                  1                  0              0              1   \n",
              "2                  0                  0              0              0   \n",
              "3                  0                  1              0              0   \n",
              "4                  0                  0              0              1   \n",
              "\n",
              "   Number of vessels fluro_1  Number of vessels fluro_2  \\\n",
              "0                          0                          0   \n",
              "1                          0                          0   \n",
              "2                          0                          0   \n",
              "3                          1                          0   \n",
              "4                          1                          0   \n",
              "\n",
              "   Number of vessels fluro_3  Thallium_6  Thallium_7  \n",
              "0                          1           0           0  \n",
              "1                          0           0           1  \n",
              "2                          0           0           1  \n",
              "3                          0           0           1  \n",
              "4                          0           0           0  \n",
              "\n",
              "[5 rows x 23 columns]"
            ],
            "text/html": [
              "\n",
              "  <div id=\"df-ca06f468-553e-44f9-abbd-17001b6875e8\">\n",
              "    <div class=\"colab-df-container\">\n",
              "      <div>\n",
              "<style scoped>\n",
              "    .dataframe tbody tr th:only-of-type {\n",
              "        vertical-align: middle;\n",
              "    }\n",
              "\n",
              "    .dataframe tbody tr th {\n",
              "        vertical-align: top;\n",
              "    }\n",
              "\n",
              "    .dataframe thead th {\n",
              "        text-align: right;\n",
              "    }\n",
              "</style>\n",
              "<table border=\"1\" class=\"dataframe\">\n",
              "  <thead>\n",
              "    <tr style=\"text-align: right;\">\n",
              "      <th></th>\n",
              "      <th>Age</th>\n",
              "      <th>Sex</th>\n",
              "      <th>Chest pain type</th>\n",
              "      <th>BP</th>\n",
              "      <th>Cholesterol</th>\n",
              "      <th>FBS over 120</th>\n",
              "      <th>EKG results</th>\n",
              "      <th>Max HR</th>\n",
              "      <th>Exercise angina</th>\n",
              "      <th>ST depression</th>\n",
              "      <th>...</th>\n",
              "      <th>Chest pain type_2</th>\n",
              "      <th>Chest pain type_3</th>\n",
              "      <th>Chest pain type_4</th>\n",
              "      <th>EKG results_1</th>\n",
              "      <th>EKG results_2</th>\n",
              "      <th>Number of vessels fluro_1</th>\n",
              "      <th>Number of vessels fluro_2</th>\n",
              "      <th>Number of vessels fluro_3</th>\n",
              "      <th>Thallium_6</th>\n",
              "      <th>Thallium_7</th>\n",
              "    </tr>\n",
              "  </thead>\n",
              "  <tbody>\n",
              "    <tr>\n",
              "      <th>0</th>\n",
              "      <td>70</td>\n",
              "      <td>1</td>\n",
              "      <td>4</td>\n",
              "      <td>130</td>\n",
              "      <td>322</td>\n",
              "      <td>0</td>\n",
              "      <td>2</td>\n",
              "      <td>109</td>\n",
              "      <td>0</td>\n",
              "      <td>2.4</td>\n",
              "      <td>...</td>\n",
              "      <td>0</td>\n",
              "      <td>0</td>\n",
              "      <td>1</td>\n",
              "      <td>0</td>\n",
              "      <td>1</td>\n",
              "      <td>0</td>\n",
              "      <td>0</td>\n",
              "      <td>1</td>\n",
              "      <td>0</td>\n",
              "      <td>0</td>\n",
              "    </tr>\n",
              "    <tr>\n",
              "      <th>1</th>\n",
              "      <td>67</td>\n",
              "      <td>0</td>\n",
              "      <td>3</td>\n",
              "      <td>115</td>\n",
              "      <td>564</td>\n",
              "      <td>0</td>\n",
              "      <td>2</td>\n",
              "      <td>160</td>\n",
              "      <td>0</td>\n",
              "      <td>1.6</td>\n",
              "      <td>...</td>\n",
              "      <td>0</td>\n",
              "      <td>1</td>\n",
              "      <td>0</td>\n",
              "      <td>0</td>\n",
              "      <td>1</td>\n",
              "      <td>0</td>\n",
              "      <td>0</td>\n",
              "      <td>0</td>\n",
              "      <td>0</td>\n",
              "      <td>1</td>\n",
              "    </tr>\n",
              "    <tr>\n",
              "      <th>2</th>\n",
              "      <td>57</td>\n",
              "      <td>1</td>\n",
              "      <td>2</td>\n",
              "      <td>124</td>\n",
              "      <td>261</td>\n",
              "      <td>0</td>\n",
              "      <td>0</td>\n",
              "      <td>141</td>\n",
              "      <td>0</td>\n",
              "      <td>0.3</td>\n",
              "      <td>...</td>\n",
              "      <td>1</td>\n",
              "      <td>0</td>\n",
              "      <td>0</td>\n",
              "      <td>0</td>\n",
              "      <td>0</td>\n",
              "      <td>0</td>\n",
              "      <td>0</td>\n",
              "      <td>0</td>\n",
              "      <td>0</td>\n",
              "      <td>1</td>\n",
              "    </tr>\n",
              "    <tr>\n",
              "      <th>3</th>\n",
              "      <td>64</td>\n",
              "      <td>1</td>\n",
              "      <td>4</td>\n",
              "      <td>128</td>\n",
              "      <td>263</td>\n",
              "      <td>0</td>\n",
              "      <td>0</td>\n",
              "      <td>105</td>\n",
              "      <td>1</td>\n",
              "      <td>0.2</td>\n",
              "      <td>...</td>\n",
              "      <td>0</td>\n",
              "      <td>0</td>\n",
              "      <td>1</td>\n",
              "      <td>0</td>\n",
              "      <td>0</td>\n",
              "      <td>1</td>\n",
              "      <td>0</td>\n",
              "      <td>0</td>\n",
              "      <td>0</td>\n",
              "      <td>1</td>\n",
              "    </tr>\n",
              "    <tr>\n",
              "      <th>4</th>\n",
              "      <td>74</td>\n",
              "      <td>0</td>\n",
              "      <td>2</td>\n",
              "      <td>120</td>\n",
              "      <td>269</td>\n",
              "      <td>0</td>\n",
              "      <td>2</td>\n",
              "      <td>121</td>\n",
              "      <td>1</td>\n",
              "      <td>0.2</td>\n",
              "      <td>...</td>\n",
              "      <td>1</td>\n",
              "      <td>0</td>\n",
              "      <td>0</td>\n",
              "      <td>0</td>\n",
              "      <td>1</td>\n",
              "      <td>1</td>\n",
              "      <td>0</td>\n",
              "      <td>0</td>\n",
              "      <td>0</td>\n",
              "      <td>0</td>\n",
              "    </tr>\n",
              "  </tbody>\n",
              "</table>\n",
              "<p>5 rows × 23 columns</p>\n",
              "</div>\n",
              "      <button class=\"colab-df-convert\" onclick=\"convertToInteractive('df-ca06f468-553e-44f9-abbd-17001b6875e8')\"\n",
              "              title=\"Convert this dataframe to an interactive table.\"\n",
              "              style=\"display:none;\">\n",
              "        \n",
              "  <svg xmlns=\"http://www.w3.org/2000/svg\" height=\"24px\"viewBox=\"0 0 24 24\"\n",
              "       width=\"24px\">\n",
              "    <path d=\"M0 0h24v24H0V0z\" fill=\"none\"/>\n",
              "    <path d=\"M18.56 5.44l.94 2.06.94-2.06 2.06-.94-2.06-.94-.94-2.06-.94 2.06-2.06.94zm-11 1L8.5 8.5l.94-2.06 2.06-.94-2.06-.94L8.5 2.5l-.94 2.06-2.06.94zm10 10l.94 2.06.94-2.06 2.06-.94-2.06-.94-.94-2.06-.94 2.06-2.06.94z\"/><path d=\"M17.41 7.96l-1.37-1.37c-.4-.4-.92-.59-1.43-.59-.52 0-1.04.2-1.43.59L10.3 9.45l-7.72 7.72c-.78.78-.78 2.05 0 2.83L4 21.41c.39.39.9.59 1.41.59.51 0 1.02-.2 1.41-.59l7.78-7.78 2.81-2.81c.8-.78.8-2.07 0-2.86zM5.41 20L4 18.59l7.72-7.72 1.47 1.35L5.41 20z\"/>\n",
              "  </svg>\n",
              "      </button>\n",
              "      \n",
              "  <style>\n",
              "    .colab-df-container {\n",
              "      display:flex;\n",
              "      flex-wrap:wrap;\n",
              "      gap: 12px;\n",
              "    }\n",
              "\n",
              "    .colab-df-convert {\n",
              "      background-color: #E8F0FE;\n",
              "      border: none;\n",
              "      border-radius: 50%;\n",
              "      cursor: pointer;\n",
              "      display: none;\n",
              "      fill: #1967D2;\n",
              "      height: 32px;\n",
              "      padding: 0 0 0 0;\n",
              "      width: 32px;\n",
              "    }\n",
              "\n",
              "    .colab-df-convert:hover {\n",
              "      background-color: #E2EBFA;\n",
              "      box-shadow: 0px 1px 2px rgba(60, 64, 67, 0.3), 0px 1px 3px 1px rgba(60, 64, 67, 0.15);\n",
              "      fill: #174EA6;\n",
              "    }\n",
              "\n",
              "    [theme=dark] .colab-df-convert {\n",
              "      background-color: #3B4455;\n",
              "      fill: #D2E3FC;\n",
              "    }\n",
              "\n",
              "    [theme=dark] .colab-df-convert:hover {\n",
              "      background-color: #434B5C;\n",
              "      box-shadow: 0px 1px 3px 1px rgba(0, 0, 0, 0.15);\n",
              "      filter: drop-shadow(0px 1px 2px rgba(0, 0, 0, 0.3));\n",
              "      fill: #FFFFFF;\n",
              "    }\n",
              "  </style>\n",
              "\n",
              "      <script>\n",
              "        const buttonEl =\n",
              "          document.querySelector('#df-ca06f468-553e-44f9-abbd-17001b6875e8 button.colab-df-convert');\n",
              "        buttonEl.style.display =\n",
              "          google.colab.kernel.accessAllowed ? 'block' : 'none';\n",
              "\n",
              "        async function convertToInteractive(key) {\n",
              "          const element = document.querySelector('#df-ca06f468-553e-44f9-abbd-17001b6875e8');\n",
              "          const dataTable =\n",
              "            await google.colab.kernel.invokeFunction('convertToInteractive',\n",
              "                                                     [key], {});\n",
              "          if (!dataTable) return;\n",
              "\n",
              "          const docLinkHtml = 'Like what you see? Visit the ' +\n",
              "            '<a target=\"_blank\" href=https://colab.research.google.com/notebooks/data_table.ipynb>data table notebook</a>'\n",
              "            + ' to learn more about interactive tables.';\n",
              "          element.innerHTML = '';\n",
              "          dataTable['output_type'] = 'display_data';\n",
              "          await google.colab.output.renderOutput(dataTable, element);\n",
              "          const docLink = document.createElement('div');\n",
              "          docLink.innerHTML = docLinkHtml;\n",
              "          element.appendChild(docLink);\n",
              "        }\n",
              "      </script>\n",
              "    </div>\n",
              "  </div>\n",
              "  "
            ]
          },
          "metadata": {},
          "execution_count": 45
        }
      ],
      "source": [
        "balanced_inputs = inputs.drop(indices_to_remove, axis=0)\n",
        "balanced_targets = target.drop(indices_to_remove, axis=0)\n",
        "\n",
        "#reset indices\n",
        "reset_inputs = balanced_inputs.reset_index(drop=True)\n",
        "reset_targets = balanced_targets.reset_index(drop=True)\n",
        "\n",
        "print(\"Inputs after balancing data:\", reset_inputs.shape[0])\n",
        "print(\"Targets after balancing data:\", reset_targets.shape[0])\n",
        "\n",
        "balanced_inputs.head()"
      ]
    },
    {
      "cell_type": "markdown",
      "id": "f6c33089",
      "metadata": {
        "papermill": {
          "duration": 0.028884,
          "end_time": "2022-09-16T11:23:04.549444",
          "exception": false,
          "start_time": "2022-09-16T11:23:04.520560",
          "status": "completed"
        },
        "tags": [],
        "id": "f6c33089"
      },
      "source": [
        "> # Applying different models"
      ]
    },
    {
      "cell_type": "markdown",
      "id": "daa60f92",
      "metadata": {
        "papermill": {
          "duration": 0.028785,
          "end_time": "2022-09-16T11:23:04.607349",
          "exception": false,
          "start_time": "2022-09-16T11:23:04.578564",
          "status": "completed"
        },
        "tags": [],
        "id": "daa60f92"
      },
      "source": [
        "Standarization"
      ]
    },
    {
      "cell_type": "code",
      "execution_count": null,
      "id": "d134bbe2",
      "metadata": {
        "execution": {
          "iopub.execute_input": "2022-09-16T11:23:04.667741Z",
          "iopub.status.busy": "2022-09-16T11:23:04.667041Z",
          "iopub.status.idle": "2022-09-16T11:23:04.805542Z",
          "shell.execute_reply": "2022-09-16T11:23:04.804558Z"
        },
        "papermill": {
          "duration": 0.171611,
          "end_time": "2022-09-16T11:23:04.808227",
          "exception": false,
          "start_time": "2022-09-16T11:23:04.636616",
          "status": "completed"
        },
        "tags": [],
        "id": "d134bbe2"
      },
      "outputs": [],
      "source": [
        "from sklearn.preprocessing import MinMaxScaler\n",
        "scaled_inputs = MinMaxScaler().fit_transform(balanced_inputs)"
      ]
    },
    {
      "cell_type": "markdown",
      "id": "8185dfc3",
      "metadata": {
        "papermill": {
          "duration": 0.028871,
          "end_time": "2022-09-16T11:23:04.866801",
          "exception": false,
          "start_time": "2022-09-16T11:23:04.837930",
          "status": "completed"
        },
        "tags": [],
        "id": "8185dfc3"
      },
      "source": [
        "Spliting the data set"
      ]
    },
    {
      "cell_type": "code",
      "execution_count": null,
      "id": "5773cc10",
      "metadata": {
        "execution": {
          "iopub.execute_input": "2022-09-16T11:23:04.927188Z",
          "iopub.status.busy": "2022-09-16T11:23:04.926390Z",
          "iopub.status.idle": "2022-09-16T11:23:04.983885Z",
          "shell.execute_reply": "2022-09-16T11:23:04.982928Z"
        },
        "papermill": {
          "duration": 0.090578,
          "end_time": "2022-09-16T11:23:04.986505",
          "exception": false,
          "start_time": "2022-09-16T11:23:04.895927",
          "status": "completed"
        },
        "tags": [],
        "id": "5773cc10"
      },
      "outputs": [],
      "source": [
        "from sklearn.model_selection import train_test_split\n",
        "X_train, X_test, y_train, y_test = train_test_split(scaled_inputs, balanced_targets, test_size=0.2)"
      ]
    },
    {
      "cell_type": "markdown",
      "id": "5358b1d2",
      "metadata": {
        "papermill": {
          "duration": 0.028758,
          "end_time": "2022-09-16T11:23:05.045667",
          "exception": false,
          "start_time": "2022-09-16T11:23:05.016909",
          "status": "completed"
        },
        "tags": [],
        "id": "5358b1d2"
      },
      "source": [
        "**Linear Regression**"
      ]
    },
    {
      "cell_type": "code",
      "execution_count": null,
      "id": "0bdde15b",
      "metadata": {
        "execution": {
          "iopub.execute_input": "2022-09-16T11:23:05.105641Z",
          "iopub.status.busy": "2022-09-16T11:23:05.105232Z",
          "iopub.status.idle": "2022-09-16T11:23:05.195434Z",
          "shell.execute_reply": "2022-09-16T11:23:05.193940Z"
        },
        "papermill": {
          "duration": 0.123327,
          "end_time": "2022-09-16T11:23:05.198109",
          "exception": false,
          "start_time": "2022-09-16T11:23:05.074782",
          "status": "completed"
        },
        "tags": [],
        "colab": {
          "base_uri": "https://localhost:8080/"
        },
        "id": "0bdde15b",
        "outputId": "0036ad10-7aea-4a4b-f074-6a1d912ca3e8"
      },
      "outputs": [
        {
          "output_type": "stream",
          "name": "stdout",
          "text": [
            "Root mean squared error:  0.32222890418810246\n",
            "r2:  0.5658299468900413\n"
          ]
        }
      ],
      "source": [
        "from sklearn.linear_model import LinearRegression\n",
        "from sklearn.metrics import mean_squared_error, r2_score\n",
        "\n",
        "lr = LinearRegression()\n",
        "lr.fit(X_train, y_train)\n",
        "\n",
        "predicted = lr.predict(X_test)\n",
        "\n",
        "RMSE = np.sqrt(mean_squared_error(y_test, predicted))\n",
        "r2 = r2_score(y_test, predicted)\n",
        "\n",
        "print('Root mean squared error: ', RMSE)\n",
        "print(\"r2: \", r2)"
      ]
    },
    {
      "cell_type": "code",
      "source": [
        "y_pred=lr.predict(X_test)\n",
        "y_pred"
      ],
      "metadata": {
        "colab": {
          "base_uri": "https://localhost:8080/"
        },
        "id": "rpzzr6kYBLXH",
        "outputId": "cae1a1ea-d43a-43a0-9fcd-a732e492354c"
      },
      "id": "rpzzr6kYBLXH",
      "execution_count": null,
      "outputs": [
        {
          "output_type": "execute_result",
          "data": {
            "text/plain": [
              "array([ 1.21668749,  0.23889355,  1.23057539, -0.03934547,  0.55935969,\n",
              "       -0.11222471,  0.55704918,  0.78786193,  1.0365291 ,  0.13887779,\n",
              "       -0.00281685,  0.86150955,  0.48680404,  0.43015369,  0.72254061,\n",
              "        0.77902627,  0.84034109,  0.80085878,  0.24643093,  0.61032721,\n",
              "        0.37635446,  0.06113093, -0.15518841,  0.8943043 ,  0.28388138,\n",
              "        0.46691702,  0.87122669, -0.06587431,  0.98105516,  1.24584007,\n",
              "        1.02698582,  0.04969259,  0.64739444,  0.4181634 ,  0.17566902,\n",
              "        0.2429911 ,  0.27750256,  0.81044787,  0.67153887,  0.85079126,\n",
              "        0.05815007,  0.49414008,  0.63320011,  0.85322341,  0.79905764,\n",
              "        0.44782093,  0.49328896, -0.06683875])"
            ]
          },
          "metadata": {},
          "execution_count": 58
        }
      ]
    },
    {
      "cell_type": "code",
      "source": [
        "plt.scatter(y_test,y_pred);\n",
        "plt.xlabel('Actual');\n",
        "plt.ylabel('Predicted');"
      ],
      "metadata": {
        "colab": {
          "base_uri": "https://localhost:8080/",
          "height": 272
        },
        "id": "2JceMNyDBk7E",
        "outputId": "d658a1df-6d42-4fe0-f0dc-8cbf11c783b2"
      },
      "id": "2JceMNyDBk7E",
      "execution_count": null,
      "outputs": [
        {
          "output_type": "display_data",
          "data": {
            "text/plain": [
              "<Figure size 432x288 with 1 Axes>"
            ],
            "image/png": "[encoded data removed]"
          },
          "metadata": {
            "needs_background": "light"
          }
        }
      ]
    },
    {
      "cell_type": "code",
      "source": [
        "sns.regplot(x=y_test,y=y_pred,ci=None,color ='red');"
      ],
      "metadata": {
        "colab": {
          "base_uri": "https://localhost:8080/",
          "height": 272
        },
        "id": "z_mgvUnLBttj",
        "outputId": "20c5cc1b-9012-47c6-e073-15505e4bd645"
      },
      "id": "z_mgvUnLBttj",
      "execution_count": null,
      "outputs": [
        {
          "output_type": "display_data",
          "data": {
            "text/plain": [
              "<Figure size 432x288 with 1 Axes>"
            ],
            "image/png": "[encoded data removed]"
          },
          "metadata": {
            "needs_background": "light"
          }
        }
      ]
    },
    {
      "cell_type": "code",
      "source": [
        "pred_df=pd.DataFrame({'Actual Value':y_test,'Predicted Value':y_pred,'Difference':y_test-y_pred})"
      ],
      "metadata": {
        "id": "1lSWBml3B8T9"
      },
      "id": "1lSWBml3B8T9",
      "execution_count": null,
      "outputs": []
    },
    {
      "cell_type": "code",
      "source": [
        "pred_df"
      ],
      "metadata": {
        "colab": {
          "base_uri": "https://localhost:8080/",
          "height": 1000
        },
        "id": "YVnb71FuB-sh",
        "outputId": "aaf034c7-a47a-491f-ad20-b62ee941bcbe"
      },
      "id": "YVnb71FuB-sh",
      "execution_count": null,
      "outputs": [
        {
          "output_type": "execute_result",
          "data": {
            "text/plain": [
              "     Actual Value  Predicted Value  Difference\n",
              "145             1         1.216687   -0.216687\n",
              "43              0         0.238894   -0.238894\n",
              "249             1         1.230575   -0.230575\n",
              "41              0        -0.039345    0.039345\n",
              "175             1         0.559360    0.440640\n",
              "152             0        -0.112225    0.112225\n",
              "252             1         0.557049    0.442951\n",
              "159             1         0.787862    0.212138\n",
              "235             1         1.036529   -0.036529\n",
              "136             0         0.138878   -0.138878\n",
              "25              0        -0.002817    0.002817\n",
              "56              1         0.861510    0.138490\n",
              "60              0         0.486804   -0.486804\n",
              "47              1         0.430154    0.569846\n",
              "81              1         0.722541    0.277459\n",
              "11              0         0.779026   -0.779026\n",
              "94              1         0.840341    0.159659\n",
              "191             1         0.800859    0.199141\n",
              "205             0         0.246431   -0.246431\n",
              "6               1         0.610327    0.389673\n",
              "194             0         0.376354   -0.376354\n",
              "206             0         0.061131   -0.061131\n",
              "138             0        -0.155188    0.155188\n",
              "250             1         0.894304    0.105696\n",
              "58              1         0.283881    0.716119\n",
              "207             0         0.466917   -0.466917\n",
              "171             1         0.871227    0.128773\n",
              "174             0        -0.065874    0.065874\n",
              "70              1         0.981055    0.018945\n",
              "117             1         1.245840   -0.245840\n",
              "202             1         1.026986   -0.026986\n",
              "55              0         0.049693   -0.049693\n",
              "227             1         0.647394    0.352606\n",
              "210             1         0.418163    0.581837\n",
              "12              0         0.175669   -0.175669\n",
              "132             0         0.242991   -0.242991\n",
              "141             0         0.277503   -0.277503\n",
              "34              1         0.810448    0.189552\n",
              "142             1         0.671539    0.328461\n",
              "82              1         0.850791    0.149209\n",
              "118             0         0.058150   -0.058150\n",
              "61              1         0.494140    0.505860\n",
              "203             1         0.633200    0.366800\n",
              "49              1         0.853223    0.146777\n",
              "147             1         0.799058    0.200942\n",
              "130             1         0.447821    0.552179\n",
              "182             1         0.493289    0.506711\n",
              "197             0        -0.066839    0.066839"
            ],
            "text/html": [
              "\n",
              "  <div id=\"df-7ce8fc9d-38d1-4211-ad53-2210e779078c\">\n",
              "    <div class=\"colab-df-container\">\n",
              "      <div>\n",
              "<style scoped>\n",
              "    .dataframe tbody tr th:only-of-type {\n",
              "        vertical-align: middle;\n",
              "    }\n",
              "\n",
              "    .dataframe tbody tr th {\n",
              "        vertical-align: top;\n",
              "    }\n",
              "\n",
              "    .dataframe thead th {\n",
              "        text-align: right;\n",
              "    }\n",
              "</style>\n",
              "<table border=\"1\" class=\"dataframe\">\n",
              "  <thead>\n",
              "    <tr style=\"text-align: right;\">\n",
              "      <th></th>\n",
              "      <th>Actual Value</th>\n",
              "      <th>Predicted Value</th>\n",
              "      <th>Difference</th>\n",
              "    </tr>\n",
              "  </thead>\n",
              "  <tbody>\n",
              "    <tr>\n",
              "      <th>145</th>\n",
              "      <td>1</td>\n",
              "      <td>1.216687</td>\n",
              "      <td>-0.216687</td>\n",
              "    </tr>\n",
              "    <tr>\n",
              "      <th>43</th>\n",
              "      <td>0</td>\n",
              "      <td>0.238894</td>\n",
              "      <td>-0.238894</td>\n",
              "    </tr>\n",
              "    <tr>\n",
              "      <th>249</th>\n",
              "      <td>1</td>\n",
              "      <td>1.230575</td>\n",
              "      <td>-0.230575</td>\n",
              "    </tr>\n",
              "    <tr>\n",
              "      <th>41</th>\n",
              "      <td>0</td>\n",
              "      <td>-0.039345</td>\n",
              "      <td>0.039345</td>\n",
              "    </tr>\n",
              "    <tr>\n",
              "      <th>175</th>\n",
              "      <td>1</td>\n",
              "      <td>0.559360</td>\n",
              "      <td>0.440640</td>\n",
              "    </tr>\n",
              "    <tr>\n",
              "      <th>152</th>\n",
              "      <td>0</td>\n",
              "      <td>-0.112225</td>\n",
              "      <td>0.112225</td>\n",
              "    </tr>\n",
              "    <tr>\n",
              "      <th>252</th>\n",
              "      <td>1</td>\n",
              "      <td>0.557049</td>\n",
              "      <td>0.442951</td>\n",
              "    </tr>\n",
              "    <tr>\n",
              "      <th>159</th>\n",
              "      <td>1</td>\n",
              "      <td>0.787862</td>\n",
              "      <td>0.212138</td>\n",
              "    </tr>\n",
              "    <tr>\n",
              "      <th>235</th>\n",
              "      <td>1</td>\n",
              "      <td>1.036529</td>\n",
              "      <td>-0.036529</td>\n",
              "    </tr>\n",
              "    <tr>\n",
              "      <th>136</th>\n",
              "      <td>0</td>\n",
              "      <td>0.138878</td>\n",
              "      <td>-0.138878</td>\n",
              "    </tr>\n",
              "    <tr>\n",
              "      <th>25</th>\n",
              "      <td>0</td>\n",
              "      <td>-0.002817</td>\n",
              "      <td>0.002817</td>\n",
              "    </tr>\n",
              "    <tr>\n",
              "      <th>56</th>\n",
              "      <td>1</td>\n",
              "      <td>0.861510</td>\n",
              "      <td>0.138490</td>\n",
              "    </tr>\n",
              "    <tr>\n",
              "      <th>60</th>\n",
              "      <td>0</td>\n",
              "      <td>0.486804</td>\n",
              "      <td>-0.486804</td>\n",
              "    </tr>\n",
              "    <tr>\n",
              "      <th>47</th>\n",
              "      <td>1</td>\n",
              "      <td>0.430154</td>\n",
              "      <td>0.569846</td>\n",
              "    </tr>\n",
              "    <tr>\n",
              "      <th>81</th>\n",
              "      <td>1</td>\n",
              "      <td>0.722541</td>\n",
              "      <td>0.277459</td>\n",
              "    </tr>\n",
              "    <tr>\n",
              "      <th>11</th>\n",
              "      <td>0</td>\n",
              "      <td>0.779026</td>\n",
              "      <td>-0.779026</td>\n",
              "    </tr>\n",
              "    <tr>\n",
              "      <th>94</th>\n",
              "      <td>1</td>\n",
              "      <td>0.840341</td>\n",
              "      <td>0.159659</td>\n",
              "    </tr>\n",
              "    <tr>\n",
              "      <th>191</th>\n",
              "      <td>1</td>\n",
              "      <td>0.800859</td>\n",
              "      <td>0.199141</td>\n",
              "    </tr>\n",
              "    <tr>\n",
              "      <th>205</th>\n",
              "      <td>0</td>\n",
              "      <td>0.246431</td>\n",
              "      <td>-0.246431</td>\n",
              "    </tr>\n",
              "    <tr>\n",
              "      <th>6</th>\n",
              "      <td>1</td>\n",
              "      <td>0.610327</td>\n",
              "      <td>0.389673</td>\n",
              "    </tr>\n",
              "    <tr>\n",
              "      <th>194</th>\n",
              "      <td>0</td>\n",
              "      <td>0.376354</td>\n",
              "      <td>-0.376354</td>\n",
              "    </tr>\n",
              "    <tr>\n",
              "      <th>206</th>\n",
              "      <td>0</td>\n",
              "      <td>0.061131</td>\n",
              "      <td>-0.061131</td>\n",
              "    </tr>\n",
              "    <tr>\n",
              "      <th>138</th>\n",
              "      <td>0</td>\n",
              "      <td>-0.155188</td>\n",
              "      <td>0.155188</td>\n",
              "    </tr>\n",
              "    <tr>\n",
              "      <th>250</th>\n",
              "      <td>1</td>\n",
              "      <td>0.894304</td>\n",
              "      <td>0.105696</td>\n",
              "    </tr>\n",
              "    <tr>\n",
              "      <th>58</th>\n",
              "      <td>1</td>\n",
              "      <td>0.283881</td>\n",
              "      <td>0.716119</td>\n",
              "    </tr>\n",
              "    <tr>\n",
              "      <th>207</th>\n",
              "      <td>0</td>\n",
              "      <td>0.466917</td>\n",
              "      <td>-0.466917</td>\n",
              "    </tr>\n",
              "    <tr>\n",
              "      <th>171</th>\n",
              "      <td>1</td>\n",
              "      <td>0.871227</td>\n",
              "      <td>0.128773</td>\n",
              "    </tr>\n",
              "    <tr>\n",
              "      <th>174</th>\n",
              "      <td>0</td>\n",
              "      <td>-0.065874</td>\n",
              "      <td>0.065874</td>\n",
              "    </tr>\n",
              "    <tr>\n",
              "      <th>70</th>\n",
              "      <td>1</td>\n",
              "      <td>0.981055</td>\n",
              "      <td>0.018945</td>\n",
              "    </tr>\n",
              "    <tr>\n",
              "      <th>117</th>\n",
              "      <td>1</td>\n",
              "      <td>1.245840</td>\n",
              "      <td>-0.245840</td>\n",
              "    </tr>\n",
              "    <tr>\n",
              "      <th>202</th>\n",
              "      <td>1</td>\n",
              "      <td>1.026986</td>\n",
              "      <td>-0.026986</td>\n",
              "    </tr>\n",
              "    <tr>\n",
              "      <th>55</th>\n",
              "      <td>0</td>\n",
              "      <td>0.049693</td>\n",
              "      <td>-0.049693</td>\n",
              "    </tr>\n",
              "    <tr>\n",
              "      <th>227</th>\n",
              "      <td>1</td>\n",
              "      <td>0.647394</td>\n",
              "      <td>0.352606</td>\n",
              "    </tr>\n",
              "    <tr>\n",
              "      <th>210</th>\n",
              "      <td>1</td>\n",
              "      <td>0.418163</td>\n",
              "      <td>0.581837</td>\n",
              "    </tr>\n",
              "    <tr>\n",
              "      <th>12</th>\n",
              "      <td>0</td>\n",
              "      <td>0.175669</td>\n",
              "      <td>-0.175669</td>\n",
              "    </tr>\n",
              "    <tr>\n",
              "      <th>132</th>\n",
              "      <td>0</td>\n",
              "      <td>0.242991</td>\n",
              "      <td>-0.242991</td>\n",
              "    </tr>\n",
              "    <tr>\n",
              "      <th>141</th>\n",
              "      <td>0</td>\n",
              "      <td>0.277503</td>\n",
              "      <td>-0.277503</td>\n",
              "    </tr>\n",
              "    <tr>\n",
              "      <th>34</th>\n",
              "      <td>1</td>\n",
              "      <td>0.810448</td>\n",
              "      <td>0.189552</td>\n",
              "    </tr>\n",
              "    <tr>\n",
              "      <th>142</th>\n",
              "      <td>1</td>\n",
              "      <td>0.671539</td>\n",
              "      <td>0.328461</td>\n",
              "    </tr>\n",
              "    <tr>\n",
              "      <th>82</th>\n",
              "      <td>1</td>\n",
              "      <td>0.850791</td>\n",
              "      <td>0.149209</td>\n",
              "    </tr>\n",
              "    <tr>\n",
              "      <th>118</th>\n",
              "      <td>0</td>\n",
              "      <td>0.058150</td>\n",
              "      <td>-0.058150</td>\n",
              "    </tr>\n",
              "    <tr>\n",
              "      <th>61</th>\n",
              "      <td>1</td>\n",
              "      <td>0.494140</td>\n",
              "      <td>0.505860</td>\n",
              "    </tr>\n",
              "    <tr>\n",
              "      <th>203</th>\n",
              "      <td>1</td>\n",
              "      <td>0.633200</td>\n",
              "      <td>0.366800</td>\n",
              "    </tr>\n",
              "    <tr>\n",
              "      <th>49</th>\n",
              "      <td>1</td>\n",
              "      <td>0.853223</td>\n",
              "      <td>0.146777</td>\n",
              "    </tr>\n",
              "    <tr>\n",
              "      <th>147</th>\n",
              "      <td>1</td>\n",
              "      <td>0.799058</td>\n",
              "      <td>0.200942</td>\n",
              "    </tr>\n",
              "    <tr>\n",
              "      <th>130</th>\n",
              "      <td>1</td>\n",
              "      <td>0.447821</td>\n",
              "      <td>0.552179</td>\n",
              "    </tr>\n",
              "    <tr>\n",
              "      <th>182</th>\n",
              "      <td>1</td>\n",
              "      <td>0.493289</td>\n",
              "      <td>0.506711</td>\n",
              "    </tr>\n",
              "    <tr>\n",
              "      <th>197</th>\n",
              "      <td>0</td>\n",
              "      <td>-0.066839</td>\n",
              "      <td>0.066839</td>\n",
              "    </tr>\n",
              "  </tbody>\n",
              "</table>\n",
              "</div>\n",
              "      <button class=\"colab-df-convert\" onclick=\"convertToInteractive('df-7ce8fc9d-38d1-4211-ad53-2210e779078c')\"\n",
              "              title=\"Convert this dataframe to an interactive table.\"\n",
              "              style=\"display:none;\">\n",
              "        \n",
              "  <svg xmlns=\"http://www.w3.org/2000/svg\" height=\"24px\"viewBox=\"0 0 24 24\"\n",
              "       width=\"24px\">\n",
              "    <path d=\"M0 0h24v24H0V0z\" fill=\"none\"/>\n",
              "    <path d=\"M18.56 5.44l.94 2.06.94-2.06 2.06-.94-2.06-.94-.94-2.06-.94 2.06-2.06.94zm-11 1L8.5 8.5l.94-2.06 2.06-.94-2.06-.94L8.5 2.5l-.94 2.06-2.06.94zm10 10l.94 2.06.94-2.06 2.06-.94-2.06-.94-.94-2.06-.94 2.06-2.06.94z\"/><path d=\"M17.41 7.96l-1.37-1.37c-.4-.4-.92-.59-1.43-.59-.52 0-1.04.2-1.43.59L10.3 9.45l-7.72 7.72c-.78.78-.78 2.05 0 2.83L4 21.41c.39.39.9.59 1.41.59.51 0 1.02-.2 1.41-.59l7.78-7.78 2.81-2.81c.8-.78.8-2.07 0-2.86zM5.41 20L4 18.59l7.72-7.72 1.47 1.35L5.41 20z\"/>\n",
              "  </svg>\n",
              "      </button>\n",
              "      \n",
              "  <style>\n",
              "    .colab-df-container {\n",
              "      display:flex;\n",
              "      flex-wrap:wrap;\n",
              "      gap: 12px;\n",
              "    }\n",
              "\n",
              "    .colab-df-convert {\n",
              "      background-color: #E8F0FE;\n",
              "      border: none;\n",
              "      border-radius: 50%;\n",
              "      cursor: pointer;\n",
              "      display: none;\n",
              "      fill: #1967D2;\n",
              "      height: 32px;\n",
              "      padding: 0 0 0 0;\n",
              "      width: 32px;\n",
              "    }\n",
              "\n",
              "    .colab-df-convert:hover {\n",
              "      background-color: #E2EBFA;\n",
              "      box-shadow: 0px 1px 2px rgba(60, 64, 67, 0.3), 0px 1px 3px 1px rgba(60, 64, 67, 0.15);\n",
              "      fill: #174EA6;\n",
              "    }\n",
              "\n",
              "    [theme=dark] .colab-df-convert {\n",
              "      background-color: #3B4455;\n",
              "      fill: #D2E3FC;\n",
              "    }\n",
              "\n",
              "    [theme=dark] .colab-df-convert:hover {\n",
              "      background-color: #434B5C;\n",
              "      box-shadow: 0px 1px 3px 1px rgba(0, 0, 0, 0.15);\n",
              "      filter: drop-shadow(0px 1px 2px rgba(0, 0, 0, 0.3));\n",
              "      fill: #FFFFFF;\n",
              "    }\n",
              "  </style>\n",
              "\n",
              "      <script>\n",
              "        const buttonEl =\n",
              "          document.querySelector('#df-7ce8fc9d-38d1-4211-ad53-2210e779078c button.colab-df-convert');\n",
              "        buttonEl.style.display =\n",
              "          google.colab.kernel.accessAllowed ? 'block' : 'none';\n",
              "\n",
              "        async function convertToInteractive(key) {\n",
              "          const element = document.querySelector('#df-7ce8fc9d-38d1-4211-ad53-2210e779078c');\n",
              "          const dataTable =\n",
              "            await google.colab.kernel.invokeFunction('convertToInteractive',\n",
              "                                                     [key], {});\n",
              "          if (!dataTable) return;\n",
              "\n",
              "          const docLinkHtml = 'Like what you see? Visit the ' +\n",
              "            '<a target=\"_blank\" href=https://colab.research.google.com/notebooks/data_table.ipynb>data table notebook</a>'\n",
              "            + ' to learn more about interactive tables.';\n",
              "          element.innerHTML = '';\n",
              "          dataTable['output_type'] = 'display_data';\n",
              "          await google.colab.output.renderOutput(dataTable, element);\n",
              "          const docLink = document.createElement('div');\n",
              "          docLink.innerHTML = docLinkHtml;\n",
              "          element.appendChild(docLink);\n",
              "        }\n",
              "      </script>\n",
              "    </div>\n",
              "  </div>\n",
              "  "
            ]
          },
          "metadata": {},
          "execution_count": 62
        }
      ]
    },
    {
      "cell_type": "markdown",
      "id": "39991dc8",
      "metadata": {
        "papermill": {
          "duration": 0.037349,
          "end_time": "2022-09-16T11:23:05.265986",
          "exception": false,
          "start_time": "2022-09-16T11:23:05.228637",
          "status": "completed"
        },
        "tags": [],
        "id": "39991dc8"
      },
      "source": [
        "**Logistic Regression**"
      ]
    },
    {
      "cell_type": "code",
      "execution_count": null,
      "id": "ba619c33",
      "metadata": {
        "execution": {
          "iopub.execute_input": "2022-09-16T11:23:05.326625Z",
          "iopub.status.busy": "2022-09-16T11:23:05.326225Z",
          "iopub.status.idle": "2022-09-16T11:23:05.534869Z",
          "shell.execute_reply": "2022-09-16T11:23:05.533833Z"
        },
        "papermill": {
          "duration": 0.244438,
          "end_time": "2022-09-16T11:23:05.539767",
          "exception": false,
          "start_time": "2022-09-16T11:23:05.295329",
          "status": "completed"
        },
        "tags": [],
        "colab": {
          "base_uri": "https://localhost:8080/",
          "height": 371
        },
        "id": "ba619c33",
        "outputId": "002d4eac-810e-43d1-d15a-664ca24cfcd2"
      },
      "outputs": [
        {
          "output_type": "stream",
          "name": "stderr",
          "text": [
            "/usr/local/lib/python3.7/dist-packages/sklearn/utils/deprecation.py:87: FutureWarning: Function plot_roc_curve is deprecated; Function :func:`plot_roc_curve` is deprecated in 1.0 and will be removed in 1.2. Use one of the class methods: :meth:`sklearn.metric.RocCurveDisplay.from_predictions` or :meth:`sklearn.metric.RocCurveDisplay.from_estimator`.\n",
            "  warnings.warn(msg, category=FutureWarning)\n"
          ]
        },
        {
          "output_type": "display_data",
          "data": {
            "text/plain": [
              "<Figure size 432x288 with 0 Axes>"
            ]
          },
          "metadata": {}
        },
        {
          "output_type": "display_data",
          "data": {
            "text/plain": [
              "<Figure size 432x288 with 1 Axes>"
            ],
            "image/png": "[encoded data removed]"
          },
          "metadata": {
            "needs_background": "light"
          }
        },
        {
          "output_type": "stream",
          "name": "stdout",
          "text": [
            "Logistic Regression score:  0.8958333333333334\n"
          ]
        }
      ],
      "source": [
        "from sklearn.linear_model import LogisticRegression\n",
        "from sklearn.metrics import accuracy_score\n",
        "from sklearn import metrics\n",
        "from sklearn.metrics import roc_curve\n",
        "\n",
        "logit = LogisticRegression()\n",
        "logit.fit(X_train, y_train)\n",
        "\n",
        "predicted_logit = logit.predict(X_test)\n",
        "\n",
        "LogisticRegressionScore = accuracy_score(predicted_logit, y_test)\n",
        "\n",
        "\n",
        "plt.figure()\n",
        "metrics.plot_roc_curve(logit, X_test, y_test)\n",
        "plt.title(\"Receiver Operating Characteristic (ROC)\")\n",
        "plt.show()\n",
        "\n",
        "print(\"Logistic Regression score: \", LogisticRegressionScore)"
      ]
    },
    {
      "cell_type": "markdown",
      "id": "f1133c30",
      "metadata": {
        "papermill": {
          "duration": 0.029811,
          "end_time": "2022-09-16T11:23:05.600874",
          "exception": false,
          "start_time": "2022-09-16T11:23:05.571063",
          "status": "completed"
        },
        "tags": [],
        "id": "f1133c30"
      },
      "source": [
        "**Gaussian Naive Bayes**"
      ]
    },
    {
      "cell_type": "code",
      "execution_count": null,
      "id": "98e81a60",
      "metadata": {
        "execution": {
          "iopub.execute_input": "2022-09-16T11:23:05.663220Z",
          "iopub.status.busy": "2022-09-16T11:23:05.662800Z",
          "iopub.status.idle": "2022-09-16T11:23:05.862820Z",
          "shell.execute_reply": "2022-09-16T11:23:05.861576Z"
        },
        "papermill": {
          "duration": 0.234905,
          "end_time": "2022-09-16T11:23:05.865896",
          "exception": false,
          "start_time": "2022-09-16T11:23:05.630991",
          "status": "completed"
        },
        "tags": [],
        "id": "98e81a60",
        "outputId": "b2cb5879-2d2f-44ea-d4ae-932d5232fef7",
        "colab": {
          "base_uri": "https://localhost:8080/",
          "height": 371
        }
      },
      "outputs": [
        {
          "output_type": "stream",
          "name": "stderr",
          "text": [
            "/usr/local/lib/python3.7/dist-packages/sklearn/utils/deprecation.py:87: FutureWarning: Function plot_roc_curve is deprecated; Function :func:`plot_roc_curve` is deprecated in 1.0 and will be removed in 1.2. Use one of the class methods: :meth:`sklearn.metric.RocCurveDisplay.from_predictions` or :meth:`sklearn.metric.RocCurveDisplay.from_estimator`.\n",
            "  warnings.warn(msg, category=FutureWarning)\n"
          ]
        },
        {
          "output_type": "display_data",
          "data": {
            "text/plain": [
              "<Figure size 432x288 with 0 Axes>"
            ]
          },
          "metadata": {}
        },
        {
          "output_type": "display_data",
          "data": {
            "text/plain": [
              "<Figure size 432x288 with 1 Axes>"
            ],
            "image/png": "[encoded data removed]"
          },
          "metadata": {
            "needs_background": "light"
          }
        },
        {
          "output_type": "stream",
          "name": "stdout",
          "text": [
            "Gaussian Naive Bayes score:  0.875\n"
          ]
        }
      ],
      "source": [
        "from sklearn.naive_bayes import GaussianNB\n",
        "\n",
        "gauss = GaussianNB()\n",
        "gauss.fit(X_train, y_train)\n",
        "\n",
        "gauss_pred = gauss.predict(X_test)\n",
        "\n",
        "gauss_score = accuracy_score(gauss_pred, y_test)\n",
        "\n",
        "\n",
        "plt.figure()\n",
        "metrics.plot_roc_curve(gauss, X_test, y_test)\n",
        "plt.title(\"Receiver Operating Characteristic (ROC)\")\n",
        "plt.show()\n",
        "\n",
        "\n",
        "print(\"Gaussian Naive Bayes score: \", gauss_score)"
      ]
    },
    {
      "cell_type": "markdown",
      "id": "97a46ac0",
      "metadata": {
        "papermill": {
          "duration": 0.031736,
          "end_time": "2022-09-16T11:23:05.930118",
          "exception": false,
          "start_time": "2022-09-16T11:23:05.898382",
          "status": "completed"
        },
        "tags": [],
        "id": "97a46ac0"
      },
      "source": [
        "**KNeighborsClassifier**"
      ]
    },
    {
      "cell_type": "code",
      "execution_count": null,
      "id": "0917656f",
      "metadata": {
        "execution": {
          "iopub.execute_input": "2022-09-16T11:23:05.995864Z",
          "iopub.status.busy": "2022-09-16T11:23:05.995214Z",
          "iopub.status.idle": "2022-09-16T11:23:06.049794Z",
          "shell.execute_reply": "2022-09-16T11:23:06.048518Z"
        },
        "papermill": {
          "duration": 0.090382,
          "end_time": "2022-09-16T11:23:06.052334",
          "exception": false,
          "start_time": "2022-09-16T11:23:05.961952",
          "status": "completed"
        },
        "tags": [],
        "id": "0917656f",
        "outputId": "dfd2664a-a2dc-4c57-a2e7-be31590e300f",
        "colab": {
          "base_uri": "https://localhost:8080/"
        }
      },
      "outputs": [
        {
          "output_type": "stream",
          "name": "stdout",
          "text": [
            "KNeighbourClassifier score:  0.7291666666666666\n"
          ]
        }
      ],
      "source": [
        "from sklearn.neighbors import KNeighborsClassifier\n",
        "\n",
        "\n",
        "KNC = KNeighborsClassifier(n_neighbors=2)\n",
        "KNC.fit(X_train, y_train)\n",
        "\n",
        "KNC_pred = KNC.predict(X_test)\n",
        "\n",
        "KNC_accuracy = metrics.accuracy_score(y_test, KNC_pred)\n",
        "\n",
        "print(\"KNeighbourClassifier score: \", KNC_accuracy)"
      ]
    },
    {
      "cell_type": "markdown",
      "id": "1ad16086",
      "metadata": {
        "papermill": {
          "duration": 0.031168,
          "end_time": "2022-09-16T11:23:06.115257",
          "exception": false,
          "start_time": "2022-09-16T11:23:06.084089",
          "status": "completed"
        },
        "tags": [],
        "id": "1ad16086"
      },
      "source": [
        "**Random Forest Classifier**"
      ]
    },
    {
      "cell_type": "code",
      "execution_count": null,
      "id": "7d741d0c",
      "metadata": {
        "execution": {
          "iopub.execute_input": "2022-09-16T11:23:06.179829Z",
          "iopub.status.busy": "2022-09-16T11:23:06.179421Z",
          "iopub.status.idle": "2022-09-16T11:23:07.275550Z",
          "shell.execute_reply": "2022-09-16T11:23:07.274591Z"
        },
        "papermill": {
          "duration": 1.132122,
          "end_time": "2022-09-16T11:23:07.278692",
          "exception": false,
          "start_time": "2022-09-16T11:23:06.146570",
          "status": "completed"
        },
        "tags": [],
        "id": "7d741d0c",
        "outputId": "6b02c938-5c9e-43dd-8637-00980fc296bf",
        "colab": {
          "base_uri": "https://localhost:8080/"
        }
      },
      "outputs": [
        {
          "output_type": "stream",
          "name": "stdout",
          "text": [
            "RandomForest score:  0.8541666666666666\n"
          ]
        }
      ],
      "source": [
        "from sklearn.ensemble import RandomForestClassifier\n",
        "\n",
        "rnd_clf = RandomForestClassifier(n_estimators=500, max_leaf_nodes=16, n_jobs=-1)\n",
        "rnd_clf.fit(X_train, y_train)\n",
        "\n",
        "rnd_clf_pred = rnd_clf.predict(X_test)\n",
        "\n",
        "rnd_clf_accuracy = metrics.accuracy_score(y_test, rnd_clf_pred)\n",
        "print(\"RandomForest score: \", rnd_clf_accuracy)"
      ]
    },
    {
      "cell_type": "markdown",
      "id": "17b915cc",
      "metadata": {
        "papermill": {
          "duration": 0.030734,
          "end_time": "2022-09-16T11:23:07.340950",
          "exception": false,
          "start_time": "2022-09-16T11:23:07.310216",
          "status": "completed"
        },
        "tags": [],
        "id": "17b915cc"
      },
      "source": [
        "**Bagging Decision Tree**"
      ]
    },
    {
      "cell_type": "code",
      "execution_count": null,
      "id": "4be59942",
      "metadata": {
        "execution": {
          "iopub.execute_input": "2022-09-16T11:23:07.405454Z",
          "iopub.status.busy": "2022-09-16T11:23:07.404597Z",
          "iopub.status.idle": "2022-09-16T11:23:09.453652Z",
          "shell.execute_reply": "2022-09-16T11:23:09.452071Z"
        },
        "papermill": {
          "duration": 2.084316,
          "end_time": "2022-09-16T11:23:09.456299",
          "exception": false,
          "start_time": "2022-09-16T11:23:07.371983",
          "status": "completed"
        },
        "tags": [],
        "id": "4be59942",
        "outputId": "0b1c0891-6fe9-4096-c46d-c0482df9704f",
        "colab": {
          "base_uri": "https://localhost:8080/"
        }
      },
      "outputs": [
        {
          "output_type": "stream",
          "name": "stdout",
          "text": [
            "Bagging Decision Tree score:  0.8541666666666666 Out of the bag:  0.7916666666666666\n"
          ]
        }
      ],
      "source": [
        "from sklearn.ensemble import BaggingClassifier\n",
        "from sklearn.tree import DecisionTreeClassifier\n",
        "\n",
        "bag_clf = BaggingClassifier(\n",
        "    DecisionTreeClassifier(), n_estimators = 500, oob_score=True,\n",
        "    max_samples=100, bootstrap = True, n_jobs=-1)\n",
        "\n",
        "bag_clf.fit(X_train, y_train)\n",
        "\n",
        "bag_clf_oob = bag_clf.oob_score_\n",
        "\n",
        "bag_clf_pred = bag_clf.predict(X_test)\n",
        "bag_clf_accuracy = metrics.accuracy_score(y_test, bag_clf_pred)\n",
        "print(\"Bagging Decision Tree score: \", bag_clf_accuracy, \"Out of the bag: \", bag_clf_oob)"
      ]
    },
    {
      "cell_type": "markdown",
      "id": "7940d981",
      "metadata": {
        "papermill": {
          "duration": 0.030704,
          "end_time": "2022-09-16T11:23:09.518893",
          "exception": false,
          "start_time": "2022-09-16T11:23:09.488189",
          "status": "completed"
        },
        "tags": [],
        "id": "7940d981"
      },
      "source": [
        "**Hard Voting Classifier**"
      ]
    },
    {
      "cell_type": "code",
      "execution_count": null,
      "id": "99ba0867",
      "metadata": {
        "execution": {
          "iopub.execute_input": "2022-09-16T11:23:09.583433Z",
          "iopub.status.busy": "2022-09-16T11:23:09.582952Z",
          "iopub.status.idle": "2022-09-16T11:23:11.221351Z",
          "shell.execute_reply": "2022-09-16T11:23:11.220353Z"
        },
        "papermill": {
          "duration": 1.676255,
          "end_time": "2022-09-16T11:23:11.226219",
          "exception": false,
          "start_time": "2022-09-16T11:23:09.549964",
          "status": "completed"
        },
        "tags": [],
        "id": "99ba0867",
        "outputId": "4bfc97a6-ec09-4088-8110-69de757a02ea",
        "colab": {
          "base_uri": "https://localhost:8080/"
        }
      },
      "outputs": [
        {
          "output_type": "stream",
          "name": "stdout",
          "text": [
            "Voting Classifier score:  0.8541666666666666\n"
          ]
        }
      ],
      "source": [
        "from sklearn.ensemble import VotingClassifier\n",
        "\n",
        "voting_clf = VotingClassifier(\n",
        "    estimators = [('gauss',gauss), ('logit', logit), ('KN', KNC), ('bag', bag_clf), (\"rnd_clf\", rnd_clf)], \n",
        "    voting = 'soft'\n",
        ")\n",
        "\n",
        "voting_clf.fit(X_train, y_train)\n",
        "\n",
        "voting_clf_pred = bag_clf.predict(X_test)\n",
        "voting_clf_accuracy = metrics.accuracy_score(y_test, voting_clf_pred)\n",
        "print(\"Voting Classifier score: \", voting_clf_accuracy)"
      ]
    },
    {
      "cell_type": "markdown",
      "id": "fe98ee0b",
      "metadata": {
        "papermill": {
          "duration": 0.040266,
          "end_time": "2022-09-16T11:23:11.308528",
          "exception": false,
          "start_time": "2022-09-16T11:23:11.268262",
          "status": "completed"
        },
        "tags": [],
        "id": "fe98ee0b"
      },
      "source": [
        "> # Model's accuracy"
      ]
    },
    {
      "cell_type": "code",
      "execution_count": null,
      "id": "6b174a58",
      "metadata": {
        "execution": {
          "iopub.execute_input": "2022-09-16T11:23:11.373938Z",
          "iopub.status.busy": "2022-09-16T11:23:11.373447Z",
          "iopub.status.idle": "2022-09-16T11:23:11.391835Z",
          "shell.execute_reply": "2022-09-16T11:23:11.390665Z"
        },
        "papermill": {
          "duration": 0.053503,
          "end_time": "2022-09-16T11:23:11.394109",
          "exception": false,
          "start_time": "2022-09-16T11:23:11.340606",
          "status": "completed"
        },
        "tags": [],
        "id": "6b174a58",
        "outputId": "a46e5792-1bbe-4922-8640-c88346eda790",
        "colab": {
          "base_uri": "https://localhost:8080/",
          "height": 269
        }
      },
      "outputs": [
        {
          "output_type": "execute_result",
          "data": {
            "text/plain": [
              "               Estimators  Accuracy\n",
              "0       Linear Regression  0.565830\n",
              "3      K-Nearest Neighbor  0.729167\n",
              "4           Random Forest  0.854167\n",
              "5   Bagging Decision Tree  0.854167\n",
              "6  Hard coting classifier  0.854167\n",
              "2    Gaussian Naive Bayes  0.875000\n",
              "1     Logistic Regression  0.895833"
            ],
            "text/html": [
              "\n",
              "  <div id=\"df-d5a8fb56-1a45-498c-98d2-18d72d0019c3\">\n",
              "    <div class=\"colab-df-container\">\n",
              "      <div>\n",
              "<style scoped>\n",
              "    .dataframe tbody tr th:only-of-type {\n",
              "        vertical-align: middle;\n",
              "    }\n",
              "\n",
              "    .dataframe tbody tr th {\n",
              "        vertical-align: top;\n",
              "    }\n",
              "\n",
              "    .dataframe thead th {\n",
              "        text-align: right;\n",
              "    }\n",
              "</style>\n",
              "<table border=\"1\" class=\"dataframe\">\n",
              "  <thead>\n",
              "    <tr style=\"text-align: right;\">\n",
              "      <th></th>\n",
              "      <th>Estimators</th>\n",
              "      <th>Accuracy</th>\n",
              "    </tr>\n",
              "  </thead>\n",
              "  <tbody>\n",
              "    <tr>\n",
              "      <th>0</th>\n",
              "      <td>Linear Regression</td>\n",
              "      <td>0.565830</td>\n",
              "    </tr>\n",
              "    <tr>\n",
              "      <th>3</th>\n",
              "      <td>K-Nearest Neighbor</td>\n",
              "      <td>0.729167</td>\n",
              "    </tr>\n",
              "    <tr>\n",
              "      <th>4</th>\n",
              "      <td>Random Forest</td>\n",
              "      <td>0.854167</td>\n",
              "    </tr>\n",
              "    <tr>\n",
              "      <th>5</th>\n",
              "      <td>Bagging Decision Tree</td>\n",
              "      <td>0.854167</td>\n",
              "    </tr>\n",
              "    <tr>\n",
              "      <th>6</th>\n",
              "      <td>Hard coting classifier</td>\n",
              "      <td>0.854167</td>\n",
              "    </tr>\n",
              "    <tr>\n",
              "      <th>2</th>\n",
              "      <td>Gaussian Naive Bayes</td>\n",
              "      <td>0.875000</td>\n",
              "    </tr>\n",
              "    <tr>\n",
              "      <th>1</th>\n",
              "      <td>Logistic Regression</td>\n",
              "      <td>0.895833</td>\n",
              "    </tr>\n",
              "  </tbody>\n",
              "</table>\n",
              "</div>\n",
              "      <button class=\"colab-df-convert\" onclick=\"convertToInteractive('df-d5a8fb56-1a45-498c-98d2-18d72d0019c3')\"\n",
              "              title=\"Convert this dataframe to an interactive table.\"\n",
              "              style=\"display:none;\">\n",
              "        \n",
              "  <svg xmlns=\"http://www.w3.org/2000/svg\" height=\"24px\"viewBox=\"0 0 24 24\"\n",
              "       width=\"24px\">\n",
              "    <path d=\"M0 0h24v24H0V0z\" fill=\"none\"/>\n",
              "    <path d=\"M18.56 5.44l.94 2.06.94-2.06 2.06-.94-2.06-.94-.94-2.06-.94 2.06-2.06.94zm-11 1L8.5 8.5l.94-2.06 2.06-.94-2.06-.94L8.5 2.5l-.94 2.06-2.06.94zm10 10l.94 2.06.94-2.06 2.06-.94-2.06-.94-.94-2.06-.94 2.06-2.06.94z\"/><path d=\"M17.41 7.96l-1.37-1.37c-.4-.4-.92-.59-1.43-.59-.52 0-1.04.2-1.43.59L10.3 9.45l-7.72 7.72c-.78.78-.78 2.05 0 2.83L4 21.41c.39.39.9.59 1.41.59.51 0 1.02-.2 1.41-.59l7.78-7.78 2.81-2.81c.8-.78.8-2.07 0-2.86zM5.41 20L4 18.59l7.72-7.72 1.47 1.35L5.41 20z\"/>\n",
              "  </svg>\n",
              "      </button>\n",
              "      \n",
              "  <style>\n",
              "    .colab-df-container {\n",
              "      display:flex;\n",
              "      flex-wrap:wrap;\n",
              "      gap: 12px;\n",
              "    }\n",
              "\n",
              "    .colab-df-convert {\n",
              "      background-color: #E8F0FE;\n",
              "      border: none;\n",
              "      border-radius: 50%;\n",
              "      cursor: pointer;\n",
              "      display: none;\n",
              "      fill: #1967D2;\n",
              "      height: 32px;\n",
              "      padding: 0 0 0 0;\n",
              "      width: 32px;\n",
              "    }\n",
              "\n",
              "    .colab-df-convert:hover {\n",
              "      background-color: #E2EBFA;\n",
              "      box-shadow: 0px 1px 2px rgba(60, 64, 67, 0.3), 0px 1px 3px 1px rgba(60, 64, 67, 0.15);\n",
              "      fill: #174EA6;\n",
              "    }\n",
              "\n",
              "    [theme=dark] .colab-df-convert {\n",
              "      background-color: #3B4455;\n",
              "      fill: #D2E3FC;\n",
              "    }\n",
              "\n",
              "    [theme=dark] .colab-df-convert:hover {\n",
              "      background-color: #434B5C;\n",
              "      box-shadow: 0px 1px 3px 1px rgba(0, 0, 0, 0.15);\n",
              "      filter: drop-shadow(0px 1px 2px rgba(0, 0, 0, 0.3));\n",
              "      fill: #FFFFFF;\n",
              "    }\n",
              "  </style>\n",
              "\n",
              "      <script>\n",
              "        const buttonEl =\n",
              "          document.querySelector('#df-d5a8fb56-1a45-498c-98d2-18d72d0019c3 button.colab-df-convert');\n",
              "        buttonEl.style.display =\n",
              "          google.colab.kernel.accessAllowed ? 'block' : 'none';\n",
              "\n",
              "        async function convertToInteractive(key) {\n",
              "          const element = document.querySelector('#df-d5a8fb56-1a45-498c-98d2-18d72d0019c3');\n",
              "          const dataTable =\n",
              "            await google.colab.kernel.invokeFunction('convertToInteractive',\n",
              "                                                     [key], {});\n",
              "          if (!dataTable) return;\n",
              "\n",
              "          const docLinkHtml = 'Like what you see? Visit the ' +\n",
              "            '<a target=\"_blank\" href=https://colab.research.google.com/notebooks/data_table.ipynb>data table notebook</a>'\n",
              "            + ' to learn more about interactive tables.';\n",
              "          element.innerHTML = '';\n",
              "          dataTable['output_type'] = 'display_data';\n",
              "          await google.colab.output.renderOutput(dataTable, element);\n",
              "          const docLink = document.createElement('div');\n",
              "          docLink.innerHTML = docLinkHtml;\n",
              "          element.appendChild(docLink);\n",
              "        }\n",
              "      </script>\n",
              "    </div>\n",
              "  </div>\n",
              "  "
            ]
          },
          "metadata": {},
          "execution_count": 55
        }
      ],
      "source": [
        "data = {'Estimators':['Linear Regression', \n",
        "                      'Logistic Regression', \n",
        "                      'Gaussian Naive Bayes', \n",
        "                      'K-Nearest Neighbor', \n",
        "                      'Random Forest', \n",
        "                      'Bagging Decision Tree', \n",
        "                      \"Hard coting classifier\"],\n",
        "        \"Accuracy\":[r2,\n",
        "                    LogisticRegressionScore,\n",
        "                    gauss_score,\n",
        "                    KNC_accuracy,\n",
        "                    rnd_clf_accuracy,\n",
        "                    bag_clf_accuracy,\n",
        "                    voting_clf_accuracy]\n",
        "        }\n",
        "\n",
        "data = pd.DataFrame(data)\n",
        "\n",
        "data.sort_values('Accuracy', ascending='False')"
      ]
    },
    {
      "cell_type": "markdown",
      "source": [
        "From the above result we can conclude that Logistic Regression has the hisgest accuracy for this particular dataset."
      ],
      "metadata": {
        "id": "vgRKWQvONDd5"
      },
      "id": "vgRKWQvONDd5"
    },
    {
      "cell_type": "code",
      "source": [],
      "metadata": {
        "id": "VMPcHJTYNde8"
      },
      "id": "VMPcHJTYNde8",
      "execution_count": null,
      "outputs": []
    }
  ],
  "metadata": {
    "kernelspec": {
      "display_name": "Python 3",
      "language": "python",
      "name": "python3"
    },
    "language_info": {
      "codemirror_mode": {
        "name": "ipython",
        "version": 3
      },
      "file_extension": ".py",
      "mimetype": "text/x-python",
      "name": "python",
      "nbconvert_exporter": "python",
      "pygments_lexer": "ipython3",
      "version": "3.7.12"
    },
    "papermill": {
      "default_parameters": {},
      "duration": 30.846583,
      "end_time": "2022-09-16T11:23:14.049680",
      "environment_variables": {},
      "exception": null,
      "input_path": "__notebook__.ipynb",
      "output_path": "__notebook__.ipynb",
      "parameters": {},
      "start_time": "2022-09-16T11:22:43.203097",
      "version": "2.3.4"
    },
    "colab": {
      "provenance": [],
      "collapsed_sections": [
        "fe98ee0b"
      ],
      "toc_visible": true
    }
  },
  "nbformat": 4,
  "nbformat_minor": 5
}